{
 "cells": [
  {
   "cell_type": "code",
   "execution_count": 1,
   "metadata": {},
   "outputs": [],
   "source": [
    "import numpy as np\n",
    "import pandas as pd\n",
    "import matplotlib.pyplot as plt "
   ]
  },
  {
   "cell_type": "code",
   "execution_count": 2,
   "metadata": {},
   "outputs": [
    {
     "data": {
      "text/html": [
       "<div>\n",
       "<style scoped>\n",
       "    .dataframe tbody tr th:only-of-type {\n",
       "        vertical-align: middle;\n",
       "    }\n",
       "\n",
       "    .dataframe tbody tr th {\n",
       "        vertical-align: top;\n",
       "    }\n",
       "\n",
       "    .dataframe thead th {\n",
       "        text-align: right;\n",
       "    }\n",
       "</style>\n",
       "<table border=\"1\" class=\"dataframe\">\n",
       "  <thead>\n",
       "    <tr style=\"text-align: right;\">\n",
       "      <th></th>\n",
       "      <th>candidate</th>\n",
       "      <th>pct_estimate</th>\n",
       "      <th>lo</th>\n",
       "      <th>hi</th>\n",
       "      <th>date</th>\n",
       "      <th>election</th>\n",
       "      <th>cycle</th>\n",
       "    </tr>\n",
       "  </thead>\n",
       "  <tbody>\n",
       "    <tr>\n",
       "      <th>0</th>\n",
       "      <td>Democrats</td>\n",
       "      <td>43.94449</td>\n",
       "      <td>39.33347</td>\n",
       "      <td>48.55550</td>\n",
       "      <td>4/15/17</td>\n",
       "      <td>11/6/18</td>\n",
       "      <td>2018</td>\n",
       "    </tr>\n",
       "    <tr>\n",
       "      <th>1</th>\n",
       "      <td>Republicans</td>\n",
       "      <td>39.54969</td>\n",
       "      <td>34.93867</td>\n",
       "      <td>44.16071</td>\n",
       "      <td>4/15/17</td>\n",
       "      <td>11/6/18</td>\n",
       "      <td>2018</td>\n",
       "    </tr>\n",
       "    <tr>\n",
       "      <th>2</th>\n",
       "      <td>Democrats</td>\n",
       "      <td>43.74965</td>\n",
       "      <td>39.14054</td>\n",
       "      <td>48.35876</td>\n",
       "      <td>4/16/17</td>\n",
       "      <td>11/6/18</td>\n",
       "      <td>2018</td>\n",
       "    </tr>\n",
       "    <tr>\n",
       "      <th>3</th>\n",
       "      <td>Republicans</td>\n",
       "      <td>39.59254</td>\n",
       "      <td>34.98343</td>\n",
       "      <td>44.20165</td>\n",
       "      <td>4/16/17</td>\n",
       "      <td>11/6/18</td>\n",
       "      <td>2018</td>\n",
       "    </tr>\n",
       "    <tr>\n",
       "      <th>4</th>\n",
       "      <td>Democrats</td>\n",
       "      <td>43.74553</td>\n",
       "      <td>39.13599</td>\n",
       "      <td>48.35508</td>\n",
       "      <td>4/17/17</td>\n",
       "      <td>11/6/18</td>\n",
       "      <td>2018</td>\n",
       "    </tr>\n",
       "  </tbody>\n",
       "</table>\n",
       "</div>"
      ],
      "text/plain": [
       "     candidate  pct_estimate        lo        hi     date election  cycle\n",
       "0    Democrats      43.94449  39.33347  48.55550  4/15/17  11/6/18   2018\n",
       "1  Republicans      39.54969  34.93867  44.16071  4/15/17  11/6/18   2018\n",
       "2    Democrats      43.74965  39.14054  48.35876  4/16/17  11/6/18   2018\n",
       "3  Republicans      39.59254  34.98343  44.20165  4/16/17  11/6/18   2018\n",
       "4    Democrats      43.74553  39.13599  48.35508  4/17/17  11/6/18   2018"
      ]
     },
     "execution_count": 2,
     "metadata": {},
     "output_type": "execute_result"
    }
   ],
   "source": [
    "generic_ballot_df = pd.read_csv(\"538_generic_ballot_averages_2018-2022.csv\")\n",
    "generic_ballot_df.head()"
   ]
  },
  {
   "cell_type": "code",
   "execution_count": 6,
   "metadata": {},
   "outputs": [],
   "source": [
    "generic_ballot_df[\"date\"] = pd.to_datetime(generic_ballot_df[\"date\"])"
   ]
  },
  {
   "cell_type": "code",
   "execution_count": 9,
   "metadata": {},
   "outputs": [],
   "source": [
    "generic_2022 = generic_ballot_df[generic_ballot_df[\"date\"].dt.year == 2022]"
   ]
  },
  {
   "cell_type": "code",
   "execution_count": 19,
   "metadata": {},
   "outputs": [
    {
     "name": "stderr",
     "output_type": "stream",
     "text": [
      "<ipython-input-19-83dbc23cf97c>:1: FutureWarning: Series.dt.weekofyear and Series.dt.week have been deprecated.  Please use Series.dt.isocalendar().week instead.\n",
      "  generic_2022[\"week\"] = generic_2022[\"date\"].dt.week\n",
      "<ipython-input-19-83dbc23cf97c>:1: SettingWithCopyWarning: \n",
      "A value is trying to be set on a copy of a slice from a DataFrame.\n",
      "Try using .loc[row_indexer,col_indexer] = value instead\n",
      "\n",
      "See the caveats in the documentation: https://pandas.pydata.org/pandas-docs/stable/user_guide/indexing.html#returning-a-view-versus-a-copy\n",
      "  generic_2022[\"week\"] = generic_2022[\"date\"].dt.week\n"
     ]
    }
   ],
   "source": [
    "generic_2022[\"week\"] = generic_2022[\"date\"].dt.week"
   ]
  },
  {
   "cell_type": "code",
   "execution_count": 25,
   "metadata": {},
   "outputs": [],
   "source": [
    "generic_2022 = generic_2022[generic_2022[\"week\"] != 52]"
   ]
  },
  {
   "cell_type": "code",
   "execution_count": 34,
   "metadata": {},
   "outputs": [
    {
     "data": {
      "text/plain": [
       "<matplotlib.legend.Legend at 0x7fc788766c40>"
      ]
     },
     "execution_count": 34,
     "metadata": {},
     "output_type": "execute_result"
    },
    {
     "data": {
      "image/png": "[encoded data removed]",
      "text/plain": [
       "<Figure size 432x288 with 1 Axes>"
      ]
     },
     "metadata": {
      "needs_background": "light"
     },
     "output_type": "display_data"
    }
   ],
   "source": [
    "data = generic_2022.groupby([\"week\", \"candidate\"])[\"pct_estimate\"].mean().reset_index()\n",
    "\n",
    "plt.plot(\"week\", \"pct_estimate\", data=data[data[\"candidate\"] == \"Democrats\"], label=\"D\", color=\"blue\")\n",
    "plt.plot(\"week\", \"pct_estimate\", data=data[data[\"candidate\"] == \"Republicans\"], label=\"R\", color=\"red\")\n",
    "plt.legend()\n",
    "# generic_2022[generic_2022[\"candidate\"] == \"Democrats\"].groupby(\"week\")[\"pct_estimate\"].mean().reset_index().plot(x=\"week\",y=\"pct_estimate\")\n",
    "# generic_2022[generic_2022[\"candidate\"] == \"Republicans\"].groupby(\"week\")[\"pct_estimate\"].mean().reset_index().plot(x=\"week\",y=\"pct_estimate\")\n"
   ]
  },
  {
   "cell_type": "code",
   "execution_count": null,
   "metadata": {},
   "outputs": [],
   "source": []
  }
 ],
 "metadata": {
  "kernelspec": {
   "display_name": "Python 3.8.3 ('base')",
   "language": "python",
   "name": "python3"
  },
  "language_info": {
   "codemirror_mode": {
    "name": "ipython",
    "version": 3
   },
   "file_extension": ".py",
   "mimetype": "text/x-python",
   "name": "python",
   "nbconvert_exporter": "python",
   "pygments_lexer": "ipython3",
   "version": "3.8.3"
  },
  "orig_nbformat": 4,
  "vscode": {
   "interpreter": {
    "hash": "b13879c2d891711983f0da077d4880d94e0fe9173c7d4378500243605826888e"
   }
  }
 },
 "nbformat": 4,
 "nbformat_minor": 2
}
