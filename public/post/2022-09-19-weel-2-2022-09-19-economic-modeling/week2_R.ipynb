{
 "cells": [
  {
   "cell_type": "code",
   "execution_count": 1,
   "metadata": {
    "vscode": {
     "languageId": "r"
    }
   },
   "outputs": [
    {
     "name": "stderr",
     "output_type": "stream",
     "text": [
      "-- \u001b[1mAttaching packages\u001b[22m --------------------------------------- tidyverse 1.3.2 --\n",
      "\u001b[32mv\u001b[39m \u001b[34mggplot2\u001b[39m 3.3.6      \u001b[32mv\u001b[39m \u001b[34mpurrr  \u001b[39m 0.3.4 \n",
      "\u001b[32mv\u001b[39m \u001b[34mtibble \u001b[39m 3.1.8      \u001b[32mv\u001b[39m \u001b[34mdplyr  \u001b[39m 1.0.10\n",
      "\u001b[32mv\u001b[39m \u001b[34mtidyr  \u001b[39m 1.2.1      \u001b[32mv\u001b[39m \u001b[34mstringr\u001b[39m 1.4.1 \n",
      "\u001b[32mv\u001b[39m \u001b[34mreadr  \u001b[39m 2.1.2      \u001b[32mv\u001b[39m \u001b[34mforcats\u001b[39m 0.5.2 \n",
      "-- \u001b[1mConflicts\u001b[22m ------------------------------------------ tidyverse_conflicts() --\n",
      "\u001b[31mx\u001b[39m \u001b[34mdplyr\u001b[39m::\u001b[32mfilter()\u001b[39m masks \u001b[34mstats\u001b[39m::filter()\n",
      "\u001b[31mx\u001b[39m \u001b[34mdplyr\u001b[39m::\u001b[32mlag()\u001b[39m    masks \u001b[34mstats\u001b[39m::lag()\n"
     ]
    }
   ],
   "source": [
    "library(tidyverse)"
   ]
  },
  {
   "cell_type": "code",
   "execution_count": 2,
   "metadata": {
    "vscode": {
     "languageId": "r"
    }
   },
   "outputs": [
    {
     "name": "stderr",
     "output_type": "stream",
     "text": [
      "\u001b[1mRows: \u001b[22m\u001b[34m29521\u001b[39m \u001b[1mColumns: \u001b[22m\u001b[34m12\u001b[39m\n",
      "\u001b[36m--\u001b[39m \u001b[1mColumn specification\u001b[22m \u001b[36m--------------------------------------------------------\u001b[39m\n",
      "\u001b[1mDelimiter:\u001b[22m \",\"\n",
      "\u001b[31mchr\u001b[39m  (1): State and area\n",
      "\u001b[32mdbl\u001b[39m (11): Count, FIPS Code, Year, Month, Population, LaborForce, LaborForce_...\n",
      "\n",
      "\u001b[36mi\u001b[39m Use `spec()` to retrieve the full column specification for this data.\n",
      "\u001b[36mi\u001b[39m Specify the column types or set `show_col_types = FALSE` to quiet this message.\n"
     ]
    },
    {
     "data": {
      "text/html": [
       "<table class=\"dataframe\">\n",
       "<caption>A tibble: 6 × 12</caption>\n",
       "<thead>\n",
       "\t<tr><th scope=col>Count</th><th scope=col>FIPS Code</th><th scope=col>State and area</th><th scope=col>Year</th><th scope=col>Month</th><th scope=col>Population</th><th scope=col>LaborForce</th><th scope=col>LaborForce_prct</th><th scope=col>Employed</th><th scope=col>Employed_prct</th><th scope=col>Unemployed</th><th scope=col>Unemployed_prct</th></tr>\n",
       "\t<tr><th scope=col>&lt;dbl&gt;</th><th scope=col>&lt;dbl&gt;</th><th scope=col>&lt;chr&gt;</th><th scope=col>&lt;dbl&gt;</th><th scope=col>&lt;dbl&gt;</th><th scope=col>&lt;dbl&gt;</th><th scope=col>&lt;dbl&gt;</th><th scope=col>&lt;dbl&gt;</th><th scope=col>&lt;dbl&gt;</th><th scope=col>&lt;dbl&gt;</th><th scope=col>&lt;dbl&gt;</th><th scope=col>&lt;dbl&gt;</th></tr>\n",
       "</thead>\n",
       "<tbody>\n",
       "\t<tr><td>1</td><td> 1</td><td>Alabama           </td><td>1976</td><td>1</td><td> 2605000</td><td>1492409</td><td>57.3</td><td>1392154</td><td>53.4</td><td>100255</td><td> 6.7</td></tr>\n",
       "\t<tr><td>2</td><td> 2</td><td>Alaska            </td><td>1976</td><td>1</td><td>  232000</td><td> 159154</td><td>68.6</td><td> 147809</td><td>63.7</td><td> 11345</td><td> 7.1</td></tr>\n",
       "\t<tr><td>3</td><td> 4</td><td>Arizona           </td><td>1976</td><td>1</td><td> 1621000</td><td> 972413</td><td>60.0</td><td> 872738</td><td>53.8</td><td> 99675</td><td>10.3</td></tr>\n",
       "\t<tr><td>4</td><td> 5</td><td>Arkansas          </td><td>1976</td><td>1</td><td> 1536000</td><td> 882835</td><td>57.5</td><td> 817756</td><td>53.2</td><td> 65079</td><td> 7.4</td></tr>\n",
       "\t<tr><td>5</td><td> 6</td><td>California        </td><td>1976</td><td>1</td><td>15621000</td><td>9781720</td><td>62.6</td><td>8892663</td><td>56.9</td><td>889057</td><td> 9.1</td></tr>\n",
       "\t<tr><td>6</td><td>37</td><td>Los Angeles County</td><td>1976</td><td>1</td><td> 5273000</td><td>3375681</td><td>64.0</td><td>3078200</td><td>58.4</td><td>297481</td><td> 8.8</td></tr>\n",
       "</tbody>\n",
       "</table>\n"
      ],
      "text/latex": [
       "A tibble: 6 × 12\n",
       "\\begin{tabular}{llllllllllll}\n",
       " Count & FIPS Code & State and area & Year & Month & Population & LaborForce & LaborForce\\_prct & Employed & Employed\\_prct & Unemployed & Unemployed\\_prct\\\\\n",
       " <dbl> & <dbl> & <chr> & <dbl> & <dbl> & <dbl> & <dbl> & <dbl> & <dbl> & <dbl> & <dbl> & <dbl>\\\\\n",
       "\\hline\n",
       "\t 1 &  1 & Alabama            & 1976 & 1 &  2605000 & 1492409 & 57.3 & 1392154 & 53.4 & 100255 &  6.7\\\\\n",
       "\t 2 &  2 & Alaska             & 1976 & 1 &   232000 &  159154 & 68.6 &  147809 & 63.7 &  11345 &  7.1\\\\\n",
       "\t 3 &  4 & Arizona            & 1976 & 1 &  1621000 &  972413 & 60.0 &  872738 & 53.8 &  99675 & 10.3\\\\\n",
       "\t 4 &  5 & Arkansas           & 1976 & 1 &  1536000 &  882835 & 57.5 &  817756 & 53.2 &  65079 &  7.4\\\\\n",
       "\t 5 &  6 & California         & 1976 & 1 & 15621000 & 9781720 & 62.6 & 8892663 & 56.9 & 889057 &  9.1\\\\\n",
       "\t 6 & 37 & Los Angeles County & 1976 & 1 &  5273000 & 3375681 & 64.0 & 3078200 & 58.4 & 297481 &  8.8\\\\\n",
       "\\end{tabular}\n"
      ],
      "text/markdown": [
       "\n",
       "A tibble: 6 × 12\n",
       "\n",
       "| Count &lt;dbl&gt; | FIPS Code &lt;dbl&gt; | State and area &lt;chr&gt; | Year &lt;dbl&gt; | Month &lt;dbl&gt; | Population &lt;dbl&gt; | LaborForce &lt;dbl&gt; | LaborForce_prct &lt;dbl&gt; | Employed &lt;dbl&gt; | Employed_prct &lt;dbl&gt; | Unemployed &lt;dbl&gt; | Unemployed_prct &lt;dbl&gt; |\n",
       "|---|---|---|---|---|---|---|---|---|---|---|---|\n",
       "| 1 |  1 | Alabama            | 1976 | 1 |  2605000 | 1492409 | 57.3 | 1392154 | 53.4 | 100255 |  6.7 |\n",
       "| 2 |  2 | Alaska             | 1976 | 1 |   232000 |  159154 | 68.6 |  147809 | 63.7 |  11345 |  7.1 |\n",
       "| 3 |  4 | Arizona            | 1976 | 1 |  1621000 |  972413 | 60.0 |  872738 | 53.8 |  99675 | 10.3 |\n",
       "| 4 |  5 | Arkansas           | 1976 | 1 |  1536000 |  882835 | 57.5 |  817756 | 53.2 |  65079 |  7.4 |\n",
       "| 5 |  6 | California         | 1976 | 1 | 15621000 | 9781720 | 62.6 | 8892663 | 56.9 | 889057 |  9.1 |\n",
       "| 6 | 37 | Los Angeles County | 1976 | 1 |  5273000 | 3375681 | 64.0 | 3078200 | 58.4 | 297481 |  8.8 |\n",
       "\n"
      ],
      "text/plain": [
       "  Count FIPS Code State and area     Year Month Population LaborForce\n",
       "1 1      1        Alabama            1976 1      2605000   1492409   \n",
       "2 2      2        Alaska             1976 1       232000    159154   \n",
       "3 3      4        Arizona            1976 1      1621000    972413   \n",
       "4 4      5        Arkansas           1976 1      1536000    882835   \n",
       "5 5      6        California         1976 1     15621000   9781720   \n",
       "6 6     37        Los Angeles County 1976 1      5273000   3375681   \n",
       "  LaborForce_prct Employed Employed_prct Unemployed Unemployed_prct\n",
       "1 57.3            1392154  53.4          100255      6.7           \n",
       "2 68.6             147809  63.7           11345      7.1           \n",
       "3 60.0             872738  53.8           99675     10.3           \n",
       "4 57.5             817756  53.2           65079      7.4           \n",
       "5 62.6            8892663  56.9          889057      9.1           \n",
       "6 64.0            3078200  58.4          297481      8.8           "
      ]
     },
     "metadata": {},
     "output_type": "display_data"
    }
   ],
   "source": [
    "state_unemployment = read_csv(\"Section Data/unemployment_state_monthly.csv\")\n",
    "head(state_unemployment)"
   ]
  },
  {
   "cell_type": "code",
   "execution_count": 3,
   "metadata": {
    "vscode": {
     "languageId": "r"
    }
   },
   "outputs": [
    {
     "name": "stderr",
     "output_type": "stream",
     "text": [
      "\u001b[1m\u001b[22mNew names:\n",
      "\u001b[36m*\u001b[39m `` -> `...1`\n",
      "\u001b[1mRows: \u001b[22m\u001b[34m37\u001b[39m \u001b[1mColumns: \u001b[22m\u001b[34m21\u001b[39m\n",
      "\u001b[36m--\u001b[39m \u001b[1mColumn specification\u001b[22m \u001b[36m--------------------------------------------------------\u001b[39m\n",
      "\u001b[1mDelimiter:\u001b[22m \",\"\n",
      "\u001b[31mchr\u001b[39m  (4): AreaAll, winner_party, president_party, H_incumbent_party\n",
      "\u001b[32mdbl\u001b[39m (16): ...1, year, R_seats, D_seats, Other_seats, total_votes, R_votes, D...\n",
      "\u001b[33mlgl\u001b[39m  (1): H_incumbent_party_winner\n",
      "\n",
      "\u001b[36mi\u001b[39m Use `spec()` to retrieve the full column specification for this data.\n",
      "\u001b[36mi\u001b[39m Specify the column types or set `show_col_types = FALSE` to quiet this message.\n"
     ]
    },
    {
     "data": {
      "text/html": [
       "<table class=\"dataframe\">\n",
       "<caption>A tibble: 6 × 21</caption>\n",
       "<thead>\n",
       "\t<tr><th scope=col>...1</th><th scope=col>year</th><th scope=col>AreaAll</th><th scope=col>R_seats</th><th scope=col>D_seats</th><th scope=col>Other_seats</th><th scope=col>total_votes</th><th scope=col>R_votes</th><th scope=col>D_votes</th><th scope=col>Other_votes</th><th scope=col>⋯</th><th scope=col>winner_party</th><th scope=col>R_totalvote_pct</th><th scope=col>D_totalvote_pct</th><th scope=col>Other_totalvote_pct</th><th scope=col>R_majorvote_pct</th><th scope=col>D_majorvote_pct</th><th scope=col>president_party</th><th scope=col>H_incumbent_party_winner</th><th scope=col>H_incumbent_party_majorvote_pct</th><th scope=col>H_incumbent_party</th></tr>\n",
       "\t<tr><th scope=col>&lt;dbl&gt;</th><th scope=col>&lt;dbl&gt;</th><th scope=col>&lt;chr&gt;</th><th scope=col>&lt;dbl&gt;</th><th scope=col>&lt;dbl&gt;</th><th scope=col>&lt;dbl&gt;</th><th scope=col>&lt;dbl&gt;</th><th scope=col>&lt;dbl&gt;</th><th scope=col>&lt;dbl&gt;</th><th scope=col>&lt;dbl&gt;</th><th scope=col>⋯</th><th scope=col>&lt;chr&gt;</th><th scope=col>&lt;dbl&gt;</th><th scope=col>&lt;dbl&gt;</th><th scope=col>&lt;dbl&gt;</th><th scope=col>&lt;dbl&gt;</th><th scope=col>&lt;dbl&gt;</th><th scope=col>&lt;chr&gt;</th><th scope=col>&lt;lgl&gt;</th><th scope=col>&lt;dbl&gt;</th><th scope=col>&lt;chr&gt;</th></tr>\n",
       "</thead>\n",
       "<tbody>\n",
       "\t<tr><td>1</td><td>1948</td><td>United State</td><td>171</td><td>263</td><td>17</td><td>49560252</td><td>21613079</td><td>24762972</td><td>3184201</td><td>⋯</td><td>D</td><td>43.61</td><td>49.97</td><td>6.42</td><td>46.60</td><td>53.40</td><td>D</td><td>FALSE</td><td>46.60</td><td>R</td></tr>\n",
       "\t<tr><td>2</td><td>1950</td><td>United State</td><td>199</td><td>234</td><td>16</td><td>44050445</td><td>20925177</td><td>20681636</td><td>2443632</td><td>⋯</td><td>R</td><td>47.50</td><td>46.95</td><td>5.55</td><td>50.29</td><td>49.71</td><td>D</td><td>FALSE</td><td>49.71</td><td>D</td></tr>\n",
       "\t<tr><td>3</td><td>1952</td><td>United State</td><td>221</td><td>213</td><td>19</td><td>61803866</td><td>28860092</td><td>30255614</td><td>2688160</td><td>⋯</td><td>D</td><td>46.70</td><td>48.95</td><td>4.35</td><td>48.82</td><td>51.18</td><td>R</td><td>FALSE</td><td>48.82</td><td>R</td></tr>\n",
       "\t<tr><td>4</td><td>1954</td><td>United State</td><td>203</td><td>232</td><td> 7</td><td>45251283</td><td>21092608</td><td>23223158</td><td> 935517</td><td>⋯</td><td>D</td><td>46.61</td><td>51.32</td><td>2.07</td><td>47.60</td><td>52.40</td><td>R</td><td> TRUE</td><td>52.40</td><td>D</td></tr>\n",
       "\t<tr><td>5</td><td>1956</td><td>United State</td><td>201</td><td>234</td><td> 9</td><td>62457894</td><td>29829376</td><td>31354867</td><td>1273651</td><td>⋯</td><td>D</td><td>47.76</td><td>50.20</td><td>2.04</td><td>48.75</td><td>51.25</td><td>R</td><td> TRUE</td><td>51.25</td><td>D</td></tr>\n",
       "\t<tr><td>6</td><td>1958</td><td>United State</td><td>153</td><td>283</td><td>11</td><td>46851436</td><td>20435025</td><td>24943266</td><td>1473145</td><td>⋯</td><td>D</td><td>43.62</td><td>53.24</td><td>3.14</td><td>45.03</td><td>54.97</td><td>R</td><td> TRUE</td><td>54.97</td><td>D</td></tr>\n",
       "</tbody>\n",
       "</table>\n"
      ],
      "text/latex": [
       "A tibble: 6 × 21\n",
       "\\begin{tabular}{lllllllllllllllllllll}\n",
       " ...1 & year & AreaAll & R\\_seats & D\\_seats & Other\\_seats & total\\_votes & R\\_votes & D\\_votes & Other\\_votes & ⋯ & winner\\_party & R\\_totalvote\\_pct & D\\_totalvote\\_pct & Other\\_totalvote\\_pct & R\\_majorvote\\_pct & D\\_majorvote\\_pct & president\\_party & H\\_incumbent\\_party\\_winner & H\\_incumbent\\_party\\_majorvote\\_pct & H\\_incumbent\\_party\\\\\n",
       " <dbl> & <dbl> & <chr> & <dbl> & <dbl> & <dbl> & <dbl> & <dbl> & <dbl> & <dbl> & ⋯ & <chr> & <dbl> & <dbl> & <dbl> & <dbl> & <dbl> & <chr> & <lgl> & <dbl> & <chr>\\\\\n",
       "\\hline\n",
       "\t 1 & 1948 & United State & 171 & 263 & 17 & 49560252 & 21613079 & 24762972 & 3184201 & ⋯ & D & 43.61 & 49.97 & 6.42 & 46.60 & 53.40 & D & FALSE & 46.60 & R\\\\\n",
       "\t 2 & 1950 & United State & 199 & 234 & 16 & 44050445 & 20925177 & 20681636 & 2443632 & ⋯ & R & 47.50 & 46.95 & 5.55 & 50.29 & 49.71 & D & FALSE & 49.71 & D\\\\\n",
       "\t 3 & 1952 & United State & 221 & 213 & 19 & 61803866 & 28860092 & 30255614 & 2688160 & ⋯ & D & 46.70 & 48.95 & 4.35 & 48.82 & 51.18 & R & FALSE & 48.82 & R\\\\\n",
       "\t 4 & 1954 & United State & 203 & 232 &  7 & 45251283 & 21092608 & 23223158 &  935517 & ⋯ & D & 46.61 & 51.32 & 2.07 & 47.60 & 52.40 & R &  TRUE & 52.40 & D\\\\\n",
       "\t 5 & 1956 & United State & 201 & 234 &  9 & 62457894 & 29829376 & 31354867 & 1273651 & ⋯ & D & 47.76 & 50.20 & 2.04 & 48.75 & 51.25 & R &  TRUE & 51.25 & D\\\\\n",
       "\t 6 & 1958 & United State & 153 & 283 & 11 & 46851436 & 20435025 & 24943266 & 1473145 & ⋯ & D & 43.62 & 53.24 & 3.14 & 45.03 & 54.97 & R &  TRUE & 54.97 & D\\\\\n",
       "\\end{tabular}\n"
      ],
      "text/markdown": [
       "\n",
       "A tibble: 6 × 21\n",
       "\n",
       "| ...1 &lt;dbl&gt; | year &lt;dbl&gt; | AreaAll &lt;chr&gt; | R_seats &lt;dbl&gt; | D_seats &lt;dbl&gt; | Other_seats &lt;dbl&gt; | total_votes &lt;dbl&gt; | R_votes &lt;dbl&gt; | D_votes &lt;dbl&gt; | Other_votes &lt;dbl&gt; | ⋯ ⋯ | winner_party &lt;chr&gt; | R_totalvote_pct &lt;dbl&gt; | D_totalvote_pct &lt;dbl&gt; | Other_totalvote_pct &lt;dbl&gt; | R_majorvote_pct &lt;dbl&gt; | D_majorvote_pct &lt;dbl&gt; | president_party &lt;chr&gt; | H_incumbent_party_winner &lt;lgl&gt; | H_incumbent_party_majorvote_pct &lt;dbl&gt; | H_incumbent_party &lt;chr&gt; |\n",
       "|---|---|---|---|---|---|---|---|---|---|---|---|---|---|---|---|---|---|---|---|---|\n",
       "| 1 | 1948 | United State | 171 | 263 | 17 | 49560252 | 21613079 | 24762972 | 3184201 | ⋯ | D | 43.61 | 49.97 | 6.42 | 46.60 | 53.40 | D | FALSE | 46.60 | R |\n",
       "| 2 | 1950 | United State | 199 | 234 | 16 | 44050445 | 20925177 | 20681636 | 2443632 | ⋯ | R | 47.50 | 46.95 | 5.55 | 50.29 | 49.71 | D | FALSE | 49.71 | D |\n",
       "| 3 | 1952 | United State | 221 | 213 | 19 | 61803866 | 28860092 | 30255614 | 2688160 | ⋯ | D | 46.70 | 48.95 | 4.35 | 48.82 | 51.18 | R | FALSE | 48.82 | R |\n",
       "| 4 | 1954 | United State | 203 | 232 |  7 | 45251283 | 21092608 | 23223158 |  935517 | ⋯ | D | 46.61 | 51.32 | 2.07 | 47.60 | 52.40 | R |  TRUE | 52.40 | D |\n",
       "| 5 | 1956 | United State | 201 | 234 |  9 | 62457894 | 29829376 | 31354867 | 1273651 | ⋯ | D | 47.76 | 50.20 | 2.04 | 48.75 | 51.25 | R |  TRUE | 51.25 | D |\n",
       "| 6 | 1958 | United State | 153 | 283 | 11 | 46851436 | 20435025 | 24943266 | 1473145 | ⋯ | D | 43.62 | 53.24 | 3.14 | 45.03 | 54.97 | R |  TRUE | 54.97 | D |\n",
       "\n"
      ],
      "text/plain": [
       "  ...1 year AreaAll      R_seats D_seats Other_seats total_votes R_votes \n",
       "1 1    1948 United State 171     263     17          49560252    21613079\n",
       "2 2    1950 United State 199     234     16          44050445    20925177\n",
       "3 3    1952 United State 221     213     19          61803866    28860092\n",
       "4 4    1954 United State 203     232      7          45251283    21092608\n",
       "5 5    1956 United State 201     234      9          62457894    29829376\n",
       "6 6    1958 United State 153     283     11          46851436    20435025\n",
       "  D_votes  Other_votes <U+22EF>        winner_party R_totalvote_pct D_totalvote_pct\n",
       "1 24762972 3184201     <U+22EF> D            43.61           49.97          \n",
       "2 20681636 2443632     <U+22EF> R            47.50           46.95          \n",
       "3 30255614 2688160     <U+22EF> D            46.70           48.95          \n",
       "4 23223158  935517     <U+22EF> D            46.61           51.32          \n",
       "5 31354867 1273651     <U+22EF> D            47.76           50.20          \n",
       "6 24943266 1473145     <U+22EF> D            43.62           53.24          \n",
       "  Other_totalvote_pct R_majorvote_pct D_majorvote_pct president_party\n",
       "1 6.42                46.60           53.40           D              \n",
       "2 5.55                50.29           49.71           D              \n",
       "3 4.35                48.82           51.18           R              \n",
       "4 2.07                47.60           52.40           R              \n",
       "5 2.04                48.75           51.25           R              \n",
       "6 3.14                45.03           54.97           R              \n",
       "  H_incumbent_party_winner H_incumbent_party_majorvote_pct H_incumbent_party\n",
       "1 FALSE                    46.60                           R                \n",
       "2 FALSE                    49.71                           D                \n",
       "3 FALSE                    48.82                           R                \n",
       "4  TRUE                    52.40                           D                \n",
       "5  TRUE                    51.25                           D                \n",
       "6  TRUE                    54.97                           D                "
      ]
     },
     "metadata": {},
     "output_type": "display_data"
    }
   ],
   "source": [
    "house_pop = read_csv(\"Section Data/house_popvote_seats.csv\")\n",
    "head(house_pop)"
   ]
  },
  {
   "cell_type": "code",
   "execution_count": 4,
   "metadata": {
    "vscode": {
     "languageId": "r"
    }
   },
   "outputs": [
    {
     "name": "stderr",
     "output_type": "stream",
     "text": [
      "\u001b[1mRows: \u001b[22m\u001b[34m16067\u001b[39m \u001b[1mColumns: \u001b[22m\u001b[34m31\u001b[39m\n",
      "\u001b[36m--\u001b[39m \u001b[1mColumn specification\u001b[22m \u001b[36m--------------------------------------------------------\u001b[39m\n",
      "\u001b[1mDelimiter:\u001b[22m \",\"\n",
      "\u001b[31mchr\u001b[39m (16): Office, State, Area, RepCandidate, RepStatus, DemCandidate, DemSta...\n",
      "\u001b[32mdbl\u001b[39m (14): raceYear, RepVotes, DemVotes, ThirdVotes, OtherVotes, PluralityVot...\n",
      "\u001b[33mlgl\u001b[39m  (1): CensusPop\n",
      "\n",
      "\u001b[36mi\u001b[39m Use `spec()` to retrieve the full column specification for this data.\n",
      "\u001b[36mi\u001b[39m Specify the column types or set `show_col_types = FALSE` to quiet this message.\n"
     ]
    },
    {
     "data": {
      "text/html": [
       "<table class=\"dataframe\">\n",
       "<caption>A tibble: 6 × 31</caption>\n",
       "<thead>\n",
       "\t<tr><th scope=col>Office</th><th scope=col>State</th><th scope=col>CensusPop</th><th scope=col>raceYear</th><th scope=col>Area</th><th scope=col>RepVotes</th><th scope=col>RepCandidate</th><th scope=col>RepStatus</th><th scope=col>DemVotes</th><th scope=col>DemCandidate</th><th scope=col>⋯</th><th scope=col>raceNotes</th><th scope=col>st_fips</th><th scope=col>state_abb</th><th scope=col>CD</th><th scope=col>district_num</th><th scope=col>district_id</th><th scope=col>WinnerParty</th><th scope=col>TotalVotesMajor</th><th scope=col>vote_margin</th><th scope=col>R_vote_margin</th></tr>\n",
       "\t<tr><th scope=col>&lt;chr&gt;</th><th scope=col>&lt;chr&gt;</th><th scope=col>&lt;lgl&gt;</th><th scope=col>&lt;dbl&gt;</th><th scope=col>&lt;chr&gt;</th><th scope=col>&lt;dbl&gt;</th><th scope=col>&lt;chr&gt;</th><th scope=col>&lt;chr&gt;</th><th scope=col>&lt;dbl&gt;</th><th scope=col>&lt;chr&gt;</th><th scope=col>⋯</th><th scope=col>&lt;chr&gt;</th><th scope=col>&lt;dbl&gt;</th><th scope=col>&lt;chr&gt;</th><th scope=col>&lt;chr&gt;</th><th scope=col>&lt;dbl&gt;</th><th scope=col>&lt;chr&gt;</th><th scope=col>&lt;chr&gt;</th><th scope=col>&lt;dbl&gt;</th><th scope=col>&lt;dbl&gt;</th><th scope=col>&lt;dbl&gt;</th></tr>\n",
       "</thead>\n",
       "<tbody>\n",
       "\t<tr><td>House</td><td>Alabama</td><td>NA</td><td>2020</td><td>District 1</td><td>211825</td><td>Carl, Jerry     </td><td>Challenger</td><td>116949</td><td>Averhart, James        </td><td>⋯</td><td>NA</td><td>1</td><td>AL</td><td>AL-01</td><td>1</td><td>AL01</td><td>R</td><td>328774</td><td>0.2885751</td><td>0.2886</td></tr>\n",
       "\t<tr><td>House</td><td>Alabama</td><td>NA</td><td>2020</td><td>District 2</td><td>197996</td><td>Moore, Barry    </td><td>Challenger</td><td>105286</td><td>Harvey-Hall, Phyllis   </td><td>⋯</td><td>NA</td><td>1</td><td>AL</td><td>AL-02</td><td>2</td><td>AL02</td><td>R</td><td>303282</td><td>0.3056891</td><td>0.3056</td></tr>\n",
       "\t<tr><td>House</td><td>Alabama</td><td>NA</td><td>2020</td><td>District 3</td><td>217384</td><td>Rogers, Mike D. </td><td>Incumbent </td><td>104595</td><td>Winfrey, Adia McClellan</td><td>⋯</td><td>NA</td><td>1</td><td>AL</td><td>AL-03</td><td>3</td><td>AL03</td><td>R</td><td>321979</td><td>0.3502992</td><td>0.3502</td></tr>\n",
       "\t<tr><td>House</td><td>Alabama</td><td>NA</td><td>2020</td><td>District 4</td><td>261553</td><td>Aderholt, Robert</td><td>Incumbent </td><td> 56237</td><td>Neighbors, Rick        </td><td>⋯</td><td>NA</td><td>1</td><td>AL</td><td>AL-04</td><td>4</td><td>AL04</td><td>R</td><td>317790</td><td>0.6460745</td><td>0.6460</td></tr>\n",
       "\t<tr><td>House</td><td>Alabama</td><td>NA</td><td>2020</td><td>District 5</td><td>253094</td><td>Brooks, Mo      </td><td>Incumbent </td><td>     0</td><td>NA                     </td><td>⋯</td><td>NA</td><td>1</td><td>AL</td><td>AL-05</td><td>5</td><td>AL05</td><td>R</td><td>253094</td><td>0.9562771</td><td>1.0000</td></tr>\n",
       "\t<tr><td>House</td><td>Alabama</td><td>NA</td><td>2020</td><td>District 6</td><td>274160</td><td>Palmer, Gary    </td><td>Incumbent </td><td>     0</td><td>NA                     </td><td>⋯</td><td>NA</td><td>1</td><td>AL</td><td>AL-06</td><td>6</td><td>AL06</td><td>R</td><td>274160</td><td>0.9704516</td><td>1.0000</td></tr>\n",
       "</tbody>\n",
       "</table>\n"
      ],
      "text/latex": [
       "A tibble: 6 × 31\n",
       "\\begin{tabular}{lllllllllllllllllllll}\n",
       " Office & State & CensusPop & raceYear & Area & RepVotes & RepCandidate & RepStatus & DemVotes & DemCandidate & ⋯ & raceNotes & st\\_fips & state\\_abb & CD & district\\_num & district\\_id & WinnerParty & TotalVotesMajor & vote\\_margin & R\\_vote\\_margin\\\\\n",
       " <chr> & <chr> & <lgl> & <dbl> & <chr> & <dbl> & <chr> & <chr> & <dbl> & <chr> & ⋯ & <chr> & <dbl> & <chr> & <chr> & <dbl> & <chr> & <chr> & <dbl> & <dbl> & <dbl>\\\\\n",
       "\\hline\n",
       "\t House & Alabama & NA & 2020 & District 1 & 211825 & Carl, Jerry      & Challenger & 116949 & Averhart, James         & ⋯ & NA & 1 & AL & AL-01 & 1 & AL01 & R & 328774 & 0.2885751 & 0.2886\\\\\n",
       "\t House & Alabama & NA & 2020 & District 2 & 197996 & Moore, Barry     & Challenger & 105286 & Harvey-Hall, Phyllis    & ⋯ & NA & 1 & AL & AL-02 & 2 & AL02 & R & 303282 & 0.3056891 & 0.3056\\\\\n",
       "\t House & Alabama & NA & 2020 & District 3 & 217384 & Rogers, Mike D.  & Incumbent  & 104595 & Winfrey, Adia McClellan & ⋯ & NA & 1 & AL & AL-03 & 3 & AL03 & R & 321979 & 0.3502992 & 0.3502\\\\\n",
       "\t House & Alabama & NA & 2020 & District 4 & 261553 & Aderholt, Robert & Incumbent  &  56237 & Neighbors, Rick         & ⋯ & NA & 1 & AL & AL-04 & 4 & AL04 & R & 317790 & 0.6460745 & 0.6460\\\\\n",
       "\t House & Alabama & NA & 2020 & District 5 & 253094 & Brooks, Mo       & Incumbent  &      0 & NA                      & ⋯ & NA & 1 & AL & AL-05 & 5 & AL05 & R & 253094 & 0.9562771 & 1.0000\\\\\n",
       "\t House & Alabama & NA & 2020 & District 6 & 274160 & Palmer, Gary     & Incumbent  &      0 & NA                      & ⋯ & NA & 1 & AL & AL-06 & 6 & AL06 & R & 274160 & 0.9704516 & 1.0000\\\\\n",
       "\\end{tabular}\n"
      ],
      "text/markdown": [
       "\n",
       "A tibble: 6 × 31\n",
       "\n",
       "| Office &lt;chr&gt; | State &lt;chr&gt; | CensusPop &lt;lgl&gt; | raceYear &lt;dbl&gt; | Area &lt;chr&gt; | RepVotes &lt;dbl&gt; | RepCandidate &lt;chr&gt; | RepStatus &lt;chr&gt; | DemVotes &lt;dbl&gt; | DemCandidate &lt;chr&gt; | ⋯ ⋯ | raceNotes &lt;chr&gt; | st_fips &lt;dbl&gt; | state_abb &lt;chr&gt; | CD &lt;chr&gt; | district_num &lt;dbl&gt; | district_id &lt;chr&gt; | WinnerParty &lt;chr&gt; | TotalVotesMajor &lt;dbl&gt; | vote_margin &lt;dbl&gt; | R_vote_margin &lt;dbl&gt; |\n",
       "|---|---|---|---|---|---|---|---|---|---|---|---|---|---|---|---|---|---|---|---|---|\n",
       "| House | Alabama | NA | 2020 | District 1 | 211825 | Carl, Jerry      | Challenger | 116949 | Averhart, James         | ⋯ | NA | 1 | AL | AL-01 | 1 | AL01 | R | 328774 | 0.2885751 | 0.2886 |\n",
       "| House | Alabama | NA | 2020 | District 2 | 197996 | Moore, Barry     | Challenger | 105286 | Harvey-Hall, Phyllis    | ⋯ | NA | 1 | AL | AL-02 | 2 | AL02 | R | 303282 | 0.3056891 | 0.3056 |\n",
       "| House | Alabama | NA | 2020 | District 3 | 217384 | Rogers, Mike D.  | Incumbent  | 104595 | Winfrey, Adia McClellan | ⋯ | NA | 1 | AL | AL-03 | 3 | AL03 | R | 321979 | 0.3502992 | 0.3502 |\n",
       "| House | Alabama | NA | 2020 | District 4 | 261553 | Aderholt, Robert | Incumbent  |  56237 | Neighbors, Rick         | ⋯ | NA | 1 | AL | AL-04 | 4 | AL04 | R | 317790 | 0.6460745 | 0.6460 |\n",
       "| House | Alabama | NA | 2020 | District 5 | 253094 | Brooks, Mo       | Incumbent  |      0 | NA                      | ⋯ | NA | 1 | AL | AL-05 | 5 | AL05 | R | 253094 | 0.9562771 | 1.0000 |\n",
       "| House | Alabama | NA | 2020 | District 6 | 274160 | Palmer, Gary     | Incumbent  |      0 | NA                      | ⋯ | NA | 1 | AL | AL-06 | 6 | AL06 | R | 274160 | 0.9704516 | 1.0000 |\n",
       "\n"
      ],
      "text/plain": [
       "  Office State   CensusPop raceYear Area       RepVotes RepCandidate    \n",
       "1 House  Alabama NA        2020     District 1 211825   Carl, Jerry     \n",
       "2 House  Alabama NA        2020     District 2 197996   Moore, Barry    \n",
       "3 House  Alabama NA        2020     District 3 217384   Rogers, Mike D. \n",
       "4 House  Alabama NA        2020     District 4 261553   Aderholt, Robert\n",
       "5 House  Alabama NA        2020     District 5 253094   Brooks, Mo      \n",
       "6 House  Alabama NA        2020     District 6 274160   Palmer, Gary    \n",
       "  RepStatus  DemVotes DemCandidate            <U+22EF>        raceNotes st_fips\n",
       "1 Challenger 116949   Averhart, James         <U+22EF> NA        1      \n",
       "2 Challenger 105286   Harvey-Hall, Phyllis    <U+22EF> NA        1      \n",
       "3 Incumbent  104595   Winfrey, Adia McClellan <U+22EF> NA        1      \n",
       "4 Incumbent   56237   Neighbors, Rick         <U+22EF> NA        1      \n",
       "5 Incumbent       0   NA                      <U+22EF> NA        1      \n",
       "6 Incumbent       0   NA                      <U+22EF> NA        1      \n",
       "  state_abb CD    district_num district_id WinnerParty TotalVotesMajor\n",
       "1 AL        AL-01 1            AL01        R           328774         \n",
       "2 AL        AL-02 2            AL02        R           303282         \n",
       "3 AL        AL-03 3            AL03        R           321979         \n",
       "4 AL        AL-04 4            AL04        R           317790         \n",
       "5 AL        AL-05 5            AL05        R           253094         \n",
       "6 AL        AL-06 6            AL06        R           274160         \n",
       "  vote_margin R_vote_margin\n",
       "1 0.2885751   0.2886       \n",
       "2 0.3056891   0.3056       \n",
       "3 0.3502992   0.3502       \n",
       "4 0.6460745   0.6460       \n",
       "5 0.9562771   1.0000       \n",
       "6 0.9704516   1.0000       "
      ]
     },
     "metadata": {},
     "output_type": "display_data"
    }
   ],
   "source": [
    "district_pop = read_csv(\"Section Data/house party vote share by district 1948-2020.csv\")\n",
    "head(district_pop)"
   ]
  },
  {
   "cell_type": "code",
   "execution_count": 5,
   "metadata": {
    "vscode": {
     "languageId": "r"
    }
   },
   "outputs": [
    {
     "name": "stderr",
     "output_type": "stream",
     "text": [
      "\u001b[1m\u001b[22mNew names:\n",
      "\u001b[36m*\u001b[39m `` -> `...1`\n",
      "\u001b[36m*\u001b[39m `...1` -> `...2`\n",
      "\u001b[1mRows: \u001b[22m\u001b[34m298\u001b[39m \u001b[1mColumns: \u001b[22m\u001b[34m9\u001b[39m\n",
      "\u001b[36m--\u001b[39m \u001b[1mColumn specification\u001b[22m \u001b[36m--------------------------------------------------------\u001b[39m\n",
      "\u001b[1mDelimiter:\u001b[22m \",\"\n",
      "\u001b[31mchr\u001b[39m (2): DATE, year_qt\n",
      "\u001b[32mdbl\u001b[39m (7): ...1, ...2, UNRATE, year, quarter_yr, quarter_cycle, unrate_qt_total\n",
      "\n",
      "\u001b[36mi\u001b[39m Use `spec()` to retrieve the full column specification for this data.\n",
      "\u001b[36mi\u001b[39m Specify the column types or set `show_col_types = FALSE` to quiet this message.\n"
     ]
    },
    {
     "data": {
      "text/html": [
       "<table class=\"dataframe\">\n",
       "<caption>A tibble: 6 × 9</caption>\n",
       "<thead>\n",
       "\t<tr><th scope=col>...1</th><th scope=col>...2</th><th scope=col>DATE</th><th scope=col>UNRATE</th><th scope=col>year</th><th scope=col>quarter_yr</th><th scope=col>quarter_cycle</th><th scope=col>year_qt</th><th scope=col>unrate_qt_total</th></tr>\n",
       "\t<tr><th scope=col>&lt;dbl&gt;</th><th scope=col>&lt;dbl&gt;</th><th scope=col>&lt;chr&gt;</th><th scope=col>&lt;dbl&gt;</th><th scope=col>&lt;dbl&gt;</th><th scope=col>&lt;dbl&gt;</th><th scope=col>&lt;dbl&gt;</th><th scope=col>&lt;chr&gt;</th><th scope=col>&lt;dbl&gt;</th></tr>\n",
       "</thead>\n",
       "<tbody>\n",
       "\t<tr><td>1</td><td> 1</td><td>1/1/48 </td><td>3.4</td><td>1948</td><td>1</td><td>1</td><td>1948_1</td><td>11.2</td></tr>\n",
       "\t<tr><td>2</td><td> 4</td><td>4/1/48 </td><td>3.9</td><td>1948</td><td>2</td><td>2</td><td>1948_2</td><td>11.0</td></tr>\n",
       "\t<tr><td>3</td><td> 7</td><td>7/1/48 </td><td>3.6</td><td>1948</td><td>3</td><td>3</td><td>1948_3</td><td>11.3</td></tr>\n",
       "\t<tr><td>4</td><td>10</td><td>10/1/48</td><td>3.7</td><td>1948</td><td>4</td><td>4</td><td>1948_4</td><td>11.5</td></tr>\n",
       "\t<tr><td>5</td><td>13</td><td>1/1/49 </td><td>4.3</td><td>1949</td><td>1</td><td>5</td><td>1949_5</td><td>14.0</td></tr>\n",
       "\t<tr><td>6</td><td>16</td><td>4/1/49 </td><td>5.3</td><td>1949</td><td>2</td><td>6</td><td>1949_6</td><td>17.6</td></tr>\n",
       "</tbody>\n",
       "</table>\n"
      ],
      "text/latex": [
       "A tibble: 6 × 9\n",
       "\\begin{tabular}{lllllllll}\n",
       " ...1 & ...2 & DATE & UNRATE & year & quarter\\_yr & quarter\\_cycle & year\\_qt & unrate\\_qt\\_total\\\\\n",
       " <dbl> & <dbl> & <chr> & <dbl> & <dbl> & <dbl> & <dbl> & <chr> & <dbl>\\\\\n",
       "\\hline\n",
       "\t 1 &  1 & 1/1/48  & 3.4 & 1948 & 1 & 1 & 1948\\_1 & 11.2\\\\\n",
       "\t 2 &  4 & 4/1/48  & 3.9 & 1948 & 2 & 2 & 1948\\_2 & 11.0\\\\\n",
       "\t 3 &  7 & 7/1/48  & 3.6 & 1948 & 3 & 3 & 1948\\_3 & 11.3\\\\\n",
       "\t 4 & 10 & 10/1/48 & 3.7 & 1948 & 4 & 4 & 1948\\_4 & 11.5\\\\\n",
       "\t 5 & 13 & 1/1/49  & 4.3 & 1949 & 1 & 5 & 1949\\_5 & 14.0\\\\\n",
       "\t 6 & 16 & 4/1/49  & 5.3 & 1949 & 2 & 6 & 1949\\_6 & 17.6\\\\\n",
       "\\end{tabular}\n"
      ],
      "text/markdown": [
       "\n",
       "A tibble: 6 × 9\n",
       "\n",
       "| ...1 &lt;dbl&gt; | ...2 &lt;dbl&gt; | DATE &lt;chr&gt; | UNRATE &lt;dbl&gt; | year &lt;dbl&gt; | quarter_yr &lt;dbl&gt; | quarter_cycle &lt;dbl&gt; | year_qt &lt;chr&gt; | unrate_qt_total &lt;dbl&gt; |\n",
       "|---|---|---|---|---|---|---|---|---|\n",
       "| 1 |  1 | 1/1/48  | 3.4 | 1948 | 1 | 1 | 1948_1 | 11.2 |\n",
       "| 2 |  4 | 4/1/48  | 3.9 | 1948 | 2 | 2 | 1948_2 | 11.0 |\n",
       "| 3 |  7 | 7/1/48  | 3.6 | 1948 | 3 | 3 | 1948_3 | 11.3 |\n",
       "| 4 | 10 | 10/1/48 | 3.7 | 1948 | 4 | 4 | 1948_4 | 11.5 |\n",
       "| 5 | 13 | 1/1/49  | 4.3 | 1949 | 1 | 5 | 1949_5 | 14.0 |\n",
       "| 6 | 16 | 4/1/49  | 5.3 | 1949 | 2 | 6 | 1949_6 | 17.6 |\n",
       "\n"
      ],
      "text/plain": [
       "  ...1 ...2 DATE    UNRATE year quarter_yr quarter_cycle year_qt\n",
       "1 1     1   1/1/48  3.4    1948 1          1             1948_1 \n",
       "2 2     4   4/1/48  3.9    1948 2          2             1948_2 \n",
       "3 3     7   7/1/48  3.6    1948 3          3             1948_3 \n",
       "4 4    10   10/1/48 3.7    1948 4          4             1948_4 \n",
       "5 5    13   1/1/49  4.3    1949 1          5             1949_5 \n",
       "6 6    16   4/1/49  5.3    1949 2          6             1949_6 \n",
       "  unrate_qt_total\n",
       "1 11.2           \n",
       "2 11.0           \n",
       "3 11.3           \n",
       "4 11.5           \n",
       "5 14.0           \n",
       "6 17.6           "
      ]
     },
     "metadata": {},
     "output_type": "display_data"
    }
   ],
   "source": [
    "natl_unemp = read_csv(\"Section Data/unemployment_national_quarterly_final.csv\")\n",
    "head(natl_unemp)"
   ]
  },
  {
   "cell_type": "code",
   "execution_count": 6,
   "metadata": {
    "vscode": {
     "languageId": "r"
    }
   },
   "outputs": [
    {
     "data": {
      "text/html": [
       "<style>\n",
       ".list-inline {list-style: none; margin:0; padding: 0}\n",
       ".list-inline>li {display: inline-block}\n",
       ".list-inline>li:not(:last-child)::after {content: \"\\00b7\"; padding: 0 .5ex}\n",
       "</style>\n",
       "<ol class=list-inline><li>FALSE</li><li>FALSE</li><li>FALSE</li><li>FALSE</li><li>FALSE</li><li>FALSE</li><li>FALSE</li><li>FALSE</li><li>TRUE</li><li>TRUE</li><li>TRUE</li><li>TRUE</li><li>FALSE</li><li>FALSE</li><li>FALSE</li><li>FALSE</li><li>FALSE</li><li>FALSE</li><li>FALSE</li><li>FALSE</li><li>FALSE</li><li>FALSE</li><li>FALSE</li><li>FALSE</li><li>TRUE</li><li>TRUE</li><li>TRUE</li><li>TRUE</li><li>FALSE</li><li>FALSE</li><li>FALSE</li><li>FALSE</li><li>FALSE</li><li>FALSE</li><li>FALSE</li><li>FALSE</li><li>FALSE</li><li>FALSE</li><li>FALSE</li><li>FALSE</li><li>TRUE</li><li>TRUE</li><li>TRUE</li><li>TRUE</li><li>FALSE</li><li>FALSE</li><li>FALSE</li><li>FALSE</li><li>FALSE</li><li>FALSE</li><li>FALSE</li><li>FALSE</li><li>FALSE</li><li>FALSE</li><li>FALSE</li><li>FALSE</li><li>TRUE</li><li>TRUE</li><li>TRUE</li><li>TRUE</li><li>FALSE</li><li>FALSE</li><li>FALSE</li><li>FALSE</li><li>FALSE</li><li>FALSE</li><li>FALSE</li><li>FALSE</li><li>FALSE</li><li>FALSE</li><li>FALSE</li><li>FALSE</li><li>TRUE</li><li>TRUE</li><li>TRUE</li><li>TRUE</li><li>FALSE</li><li>FALSE</li><li>FALSE</li><li>FALSE</li><li>FALSE</li><li>FALSE</li><li>FALSE</li><li>FALSE</li><li>FALSE</li><li>FALSE</li><li>FALSE</li><li>FALSE</li><li>TRUE</li><li>TRUE</li><li>TRUE</li><li>TRUE</li><li>FALSE</li><li>FALSE</li><li>FALSE</li><li>FALSE</li><li>FALSE</li><li>FALSE</li><li>FALSE</li><li>FALSE</li><li>FALSE</li><li>FALSE</li><li>FALSE</li><li>FALSE</li><li>TRUE</li><li>TRUE</li><li>TRUE</li><li>TRUE</li><li>FALSE</li><li>FALSE</li><li>FALSE</li><li>FALSE</li><li>FALSE</li><li>FALSE</li><li>FALSE</li><li>FALSE</li><li>FALSE</li><li>FALSE</li><li>FALSE</li><li>FALSE</li><li>TRUE</li><li>TRUE</li><li>TRUE</li><li>TRUE</li><li>FALSE</li><li>FALSE</li><li>FALSE</li><li>FALSE</li><li>FALSE</li><li>FALSE</li><li>FALSE</li><li>FALSE</li><li>FALSE</li><li>FALSE</li><li>FALSE</li><li>FALSE</li><li>TRUE</li><li>TRUE</li><li>TRUE</li><li>TRUE</li><li>FALSE</li><li>FALSE</li><li>FALSE</li><li>FALSE</li><li>FALSE</li><li>FALSE</li><li>FALSE</li><li>FALSE</li><li>FALSE</li><li>FALSE</li><li>FALSE</li><li>FALSE</li><li>TRUE</li><li>TRUE</li><li>TRUE</li><li>TRUE</li><li>FALSE</li><li>FALSE</li><li>FALSE</li><li>FALSE</li><li>FALSE</li><li>FALSE</li><li>FALSE</li><li>FALSE</li><li>FALSE</li><li>FALSE</li><li>FALSE</li><li>FALSE</li><li>TRUE</li><li>TRUE</li><li>TRUE</li><li>TRUE</li><li>FALSE</li><li>FALSE</li><li>FALSE</li><li>FALSE</li><li>FALSE</li><li>FALSE</li><li>FALSE</li><li>FALSE</li><li>FALSE</li><li>FALSE</li><li>FALSE</li><li>FALSE</li><li>TRUE</li><li>TRUE</li><li>TRUE</li><li>TRUE</li><li>FALSE</li><li>FALSE</li><li>FALSE</li><li>FALSE</li><li>FALSE</li><li>FALSE</li><li>FALSE</li><li>FALSE</li><li>FALSE</li><li>FALSE</li><li>FALSE</li><li>FALSE</li><li>TRUE</li><li>TRUE</li><li>TRUE</li><li>TRUE</li><li>FALSE</li><li>FALSE</li><li>FALSE</li><li>FALSE</li><li>FALSE</li><li>FALSE</li><li>FALSE</li><li>FALSE</li><li>FALSE</li><li>FALSE</li><li>FALSE</li><li>FALSE</li><li>TRUE</li><li>TRUE</li><li>TRUE</li><li>TRUE</li><li>FALSE</li><li>FALSE</li><li>FALSE</li><li>FALSE</li><li>FALSE</li><li>FALSE</li><li>FALSE</li><li>FALSE</li><li>FALSE</li><li>FALSE</li><li>FALSE</li><li>FALSE</li><li>TRUE</li><li>TRUE</li><li>TRUE</li><li>TRUE</li><li>FALSE</li><li>FALSE</li><li>FALSE</li><li>FALSE</li><li>FALSE</li><li>FALSE</li><li>FALSE</li><li>FALSE</li><li>FALSE</li><li>FALSE</li><li>FALSE</li><li>FALSE</li><li>TRUE</li><li>TRUE</li><li>TRUE</li><li>TRUE</li><li>FALSE</li><li>FALSE</li><li>FALSE</li><li>FALSE</li><li>FALSE</li><li>FALSE</li><li>FALSE</li><li>FALSE</li><li>FALSE</li><li>FALSE</li><li>FALSE</li><li>FALSE</li><li>TRUE</li><li>TRUE</li><li>TRUE</li><li>TRUE</li><li>FALSE</li><li>FALSE</li><li>FALSE</li><li>FALSE</li><li>FALSE</li><li>FALSE</li><li>FALSE</li><li>FALSE</li><li>FALSE</li><li>FALSE</li><li>FALSE</li><li>FALSE</li><li>TRUE</li><li>TRUE</li><li>TRUE</li><li>TRUE</li><li>FALSE</li><li>FALSE</li><li>FALSE</li><li>FALSE</li><li>FALSE</li><li>FALSE</li><li>FALSE</li><li>FALSE</li><li>FALSE</li><li>FALSE</li><li>FALSE</li><li>FALSE</li><li>TRUE</li><li>TRUE</li></ol>\n"
      ],
      "text/latex": [
       "\\begin{enumerate*}\n",
       "\\item FALSE\n",
       "\\item FALSE\n",
       "\\item FALSE\n",
       "\\item FALSE\n",
       "\\item FALSE\n",
       "\\item FALSE\n",
       "\\item FALSE\n",
       "\\item FALSE\n",
       "\\item TRUE\n",
       "\\item TRUE\n",
       "\\item TRUE\n",
       "\\item TRUE\n",
       "\\item FALSE\n",
       "\\item FALSE\n",
       "\\item FALSE\n",
       "\\item FALSE\n",
       "\\item FALSE\n",
       "\\item FALSE\n",
       "\\item FALSE\n",
       "\\item FALSE\n",
       "\\item FALSE\n",
       "\\item FALSE\n",
       "\\item FALSE\n",
       "\\item FALSE\n",
       "\\item TRUE\n",
       "\\item TRUE\n",
       "\\item TRUE\n",
       "\\item TRUE\n",
       "\\item FALSE\n",
       "\\item FALSE\n",
       "\\item FALSE\n",
       "\\item FALSE\n",
       "\\item FALSE\n",
       "\\item FALSE\n",
       "\\item FALSE\n",
       "\\item FALSE\n",
       "\\item FALSE\n",
       "\\item FALSE\n",
       "\\item FALSE\n",
       "\\item FALSE\n",
       "\\item TRUE\n",
       "\\item TRUE\n",
       "\\item TRUE\n",
       "\\item TRUE\n",
       "\\item FALSE\n",
       "\\item FALSE\n",
       "\\item FALSE\n",
       "\\item FALSE\n",
       "\\item FALSE\n",
       "\\item FALSE\n",
       "\\item FALSE\n",
       "\\item FALSE\n",
       "\\item FALSE\n",
       "\\item FALSE\n",
       "\\item FALSE\n",
       "\\item FALSE\n",
       "\\item TRUE\n",
       "\\item TRUE\n",
       "\\item TRUE\n",
       "\\item TRUE\n",
       "\\item FALSE\n",
       "\\item FALSE\n",
       "\\item FALSE\n",
       "\\item FALSE\n",
       "\\item FALSE\n",
       "\\item FALSE\n",
       "\\item FALSE\n",
       "\\item FALSE\n",
       "\\item FALSE\n",
       "\\item FALSE\n",
       "\\item FALSE\n",
       "\\item FALSE\n",
       "\\item TRUE\n",
       "\\item TRUE\n",
       "\\item TRUE\n",
       "\\item TRUE\n",
       "\\item FALSE\n",
       "\\item FALSE\n",
       "\\item FALSE\n",
       "\\item FALSE\n",
       "\\item FALSE\n",
       "\\item FALSE\n",
       "\\item FALSE\n",
       "\\item FALSE\n",
       "\\item FALSE\n",
       "\\item FALSE\n",
       "\\item FALSE\n",
       "\\item FALSE\n",
       "\\item TRUE\n",
       "\\item TRUE\n",
       "\\item TRUE\n",
       "\\item TRUE\n",
       "\\item FALSE\n",
       "\\item FALSE\n",
       "\\item FALSE\n",
       "\\item FALSE\n",
       "\\item FALSE\n",
       "\\item FALSE\n",
       "\\item FALSE\n",
       "\\item FALSE\n",
       "\\item FALSE\n",
       "\\item FALSE\n",
       "\\item FALSE\n",
       "\\item FALSE\n",
       "\\item TRUE\n",
       "\\item TRUE\n",
       "\\item TRUE\n",
       "\\item TRUE\n",
       "\\item FALSE\n",
       "\\item FALSE\n",
       "\\item FALSE\n",
       "\\item FALSE\n",
       "\\item FALSE\n",
       "\\item FALSE\n",
       "\\item FALSE\n",
       "\\item FALSE\n",
       "\\item FALSE\n",
       "\\item FALSE\n",
       "\\item FALSE\n",
       "\\item FALSE\n",
       "\\item TRUE\n",
       "\\item TRUE\n",
       "\\item TRUE\n",
       "\\item TRUE\n",
       "\\item FALSE\n",
       "\\item FALSE\n",
       "\\item FALSE\n",
       "\\item FALSE\n",
       "\\item FALSE\n",
       "\\item FALSE\n",
       "\\item FALSE\n",
       "\\item FALSE\n",
       "\\item FALSE\n",
       "\\item FALSE\n",
       "\\item FALSE\n",
       "\\item FALSE\n",
       "\\item TRUE\n",
       "\\item TRUE\n",
       "\\item TRUE\n",
       "\\item TRUE\n",
       "\\item FALSE\n",
       "\\item FALSE\n",
       "\\item FALSE\n",
       "\\item FALSE\n",
       "\\item FALSE\n",
       "\\item FALSE\n",
       "\\item FALSE\n",
       "\\item FALSE\n",
       "\\item FALSE\n",
       "\\item FALSE\n",
       "\\item FALSE\n",
       "\\item FALSE\n",
       "\\item TRUE\n",
       "\\item TRUE\n",
       "\\item TRUE\n",
       "\\item TRUE\n",
       "\\item FALSE\n",
       "\\item FALSE\n",
       "\\item FALSE\n",
       "\\item FALSE\n",
       "\\item FALSE\n",
       "\\item FALSE\n",
       "\\item FALSE\n",
       "\\item FALSE\n",
       "\\item FALSE\n",
       "\\item FALSE\n",
       "\\item FALSE\n",
       "\\item FALSE\n",
       "\\item TRUE\n",
       "\\item TRUE\n",
       "\\item TRUE\n",
       "\\item TRUE\n",
       "\\item FALSE\n",
       "\\item FALSE\n",
       "\\item FALSE\n",
       "\\item FALSE\n",
       "\\item FALSE\n",
       "\\item FALSE\n",
       "\\item FALSE\n",
       "\\item FALSE\n",
       "\\item FALSE\n",
       "\\item FALSE\n",
       "\\item FALSE\n",
       "\\item FALSE\n",
       "\\item TRUE\n",
       "\\item TRUE\n",
       "\\item TRUE\n",
       "\\item TRUE\n",
       "\\item FALSE\n",
       "\\item FALSE\n",
       "\\item FALSE\n",
       "\\item FALSE\n",
       "\\item FALSE\n",
       "\\item FALSE\n",
       "\\item FALSE\n",
       "\\item FALSE\n",
       "\\item FALSE\n",
       "\\item FALSE\n",
       "\\item FALSE\n",
       "\\item FALSE\n",
       "\\item TRUE\n",
       "\\item TRUE\n",
       "\\item TRUE\n",
       "\\item TRUE\n",
       "\\item FALSE\n",
       "\\item FALSE\n",
       "\\item FALSE\n",
       "\\item FALSE\n",
       "\\item FALSE\n",
       "\\item FALSE\n",
       "\\item FALSE\n",
       "\\item FALSE\n",
       "\\item FALSE\n",
       "\\item FALSE\n",
       "\\item FALSE\n",
       "\\item FALSE\n",
       "\\item TRUE\n",
       "\\item TRUE\n",
       "\\item TRUE\n",
       "\\item TRUE\n",
       "\\item FALSE\n",
       "\\item FALSE\n",
       "\\item FALSE\n",
       "\\item FALSE\n",
       "\\item FALSE\n",
       "\\item FALSE\n",
       "\\item FALSE\n",
       "\\item FALSE\n",
       "\\item FALSE\n",
       "\\item FALSE\n",
       "\\item FALSE\n",
       "\\item FALSE\n",
       "\\item TRUE\n",
       "\\item TRUE\n",
       "\\item TRUE\n",
       "\\item TRUE\n",
       "\\item FALSE\n",
       "\\item FALSE\n",
       "\\item FALSE\n",
       "\\item FALSE\n",
       "\\item FALSE\n",
       "\\item FALSE\n",
       "\\item FALSE\n",
       "\\item FALSE\n",
       "\\item FALSE\n",
       "\\item FALSE\n",
       "\\item FALSE\n",
       "\\item FALSE\n",
       "\\item TRUE\n",
       "\\item TRUE\n",
       "\\item TRUE\n",
       "\\item TRUE\n",
       "\\item FALSE\n",
       "\\item FALSE\n",
       "\\item FALSE\n",
       "\\item FALSE\n",
       "\\item FALSE\n",
       "\\item FALSE\n",
       "\\item FALSE\n",
       "\\item FALSE\n",
       "\\item FALSE\n",
       "\\item FALSE\n",
       "\\item FALSE\n",
       "\\item FALSE\n",
       "\\item TRUE\n",
       "\\item TRUE\n",
       "\\item TRUE\n",
       "\\item TRUE\n",
       "\\item FALSE\n",
       "\\item FALSE\n",
       "\\item FALSE\n",
       "\\item FALSE\n",
       "\\item FALSE\n",
       "\\item FALSE\n",
       "\\item FALSE\n",
       "\\item FALSE\n",
       "\\item FALSE\n",
       "\\item FALSE\n",
       "\\item FALSE\n",
       "\\item FALSE\n",
       "\\item TRUE\n",
       "\\item TRUE\n",
       "\\item TRUE\n",
       "\\item TRUE\n",
       "\\item FALSE\n",
       "\\item FALSE\n",
       "\\item FALSE\n",
       "\\item FALSE\n",
       "\\item FALSE\n",
       "\\item FALSE\n",
       "\\item FALSE\n",
       "\\item FALSE\n",
       "\\item FALSE\n",
       "\\item FALSE\n",
       "\\item FALSE\n",
       "\\item FALSE\n",
       "\\item TRUE\n",
       "\\item TRUE\n",
       "\\end{enumerate*}\n"
      ],
      "text/markdown": [
       "1. FALSE\n",
       "2. FALSE\n",
       "3. FALSE\n",
       "4. FALSE\n",
       "5. FALSE\n",
       "6. FALSE\n",
       "7. FALSE\n",
       "8. FALSE\n",
       "9. TRUE\n",
       "10. TRUE\n",
       "11. TRUE\n",
       "12. TRUE\n",
       "13. FALSE\n",
       "14. FALSE\n",
       "15. FALSE\n",
       "16. FALSE\n",
       "17. FALSE\n",
       "18. FALSE\n",
       "19. FALSE\n",
       "20. FALSE\n",
       "21. FALSE\n",
       "22. FALSE\n",
       "23. FALSE\n",
       "24. FALSE\n",
       "25. TRUE\n",
       "26. TRUE\n",
       "27. TRUE\n",
       "28. TRUE\n",
       "29. FALSE\n",
       "30. FALSE\n",
       "31. FALSE\n",
       "32. FALSE\n",
       "33. FALSE\n",
       "34. FALSE\n",
       "35. FALSE\n",
       "36. FALSE\n",
       "37. FALSE\n",
       "38. FALSE\n",
       "39. FALSE\n",
       "40. FALSE\n",
       "41. TRUE\n",
       "42. TRUE\n",
       "43. TRUE\n",
       "44. TRUE\n",
       "45. FALSE\n",
       "46. FALSE\n",
       "47. FALSE\n",
       "48. FALSE\n",
       "49. FALSE\n",
       "50. FALSE\n",
       "51. FALSE\n",
       "52. FALSE\n",
       "53. FALSE\n",
       "54. FALSE\n",
       "55. FALSE\n",
       "56. FALSE\n",
       "57. TRUE\n",
       "58. TRUE\n",
       "59. TRUE\n",
       "60. TRUE\n",
       "61. FALSE\n",
       "62. FALSE\n",
       "63. FALSE\n",
       "64. FALSE\n",
       "65. FALSE\n",
       "66. FALSE\n",
       "67. FALSE\n",
       "68. FALSE\n",
       "69. FALSE\n",
       "70. FALSE\n",
       "71. FALSE\n",
       "72. FALSE\n",
       "73. TRUE\n",
       "74. TRUE\n",
       "75. TRUE\n",
       "76. TRUE\n",
       "77. FALSE\n",
       "78. FALSE\n",
       "79. FALSE\n",
       "80. FALSE\n",
       "81. FALSE\n",
       "82. FALSE\n",
       "83. FALSE\n",
       "84. FALSE\n",
       "85. FALSE\n",
       "86. FALSE\n",
       "87. FALSE\n",
       "88. FALSE\n",
       "89. TRUE\n",
       "90. TRUE\n",
       "91. TRUE\n",
       "92. TRUE\n",
       "93. FALSE\n",
       "94. FALSE\n",
       "95. FALSE\n",
       "96. FALSE\n",
       "97. FALSE\n",
       "98. FALSE\n",
       "99. FALSE\n",
       "100. FALSE\n",
       "101. FALSE\n",
       "102. FALSE\n",
       "103. FALSE\n",
       "104. FALSE\n",
       "105. TRUE\n",
       "106. TRUE\n",
       "107. TRUE\n",
       "108. TRUE\n",
       "109. FALSE\n",
       "110. FALSE\n",
       "111. FALSE\n",
       "112. FALSE\n",
       "113. FALSE\n",
       "114. FALSE\n",
       "115. FALSE\n",
       "116. FALSE\n",
       "117. FALSE\n",
       "118. FALSE\n",
       "119. FALSE\n",
       "120. FALSE\n",
       "121. TRUE\n",
       "122. TRUE\n",
       "123. TRUE\n",
       "124. TRUE\n",
       "125. FALSE\n",
       "126. FALSE\n",
       "127. FALSE\n",
       "128. FALSE\n",
       "129. FALSE\n",
       "130. FALSE\n",
       "131. FALSE\n",
       "132. FALSE\n",
       "133. FALSE\n",
       "134. FALSE\n",
       "135. FALSE\n",
       "136. FALSE\n",
       "137. TRUE\n",
       "138. TRUE\n",
       "139. TRUE\n",
       "140. TRUE\n",
       "141. FALSE\n",
       "142. FALSE\n",
       "143. FALSE\n",
       "144. FALSE\n",
       "145. FALSE\n",
       "146. FALSE\n",
       "147. FALSE\n",
       "148. FALSE\n",
       "149. FALSE\n",
       "150. FALSE\n",
       "151. FALSE\n",
       "152. FALSE\n",
       "153. TRUE\n",
       "154. TRUE\n",
       "155. TRUE\n",
       "156. TRUE\n",
       "157. FALSE\n",
       "158. FALSE\n",
       "159. FALSE\n",
       "160. FALSE\n",
       "161. FALSE\n",
       "162. FALSE\n",
       "163. FALSE\n",
       "164. FALSE\n",
       "165. FALSE\n",
       "166. FALSE\n",
       "167. FALSE\n",
       "168. FALSE\n",
       "169. TRUE\n",
       "170. TRUE\n",
       "171. TRUE\n",
       "172. TRUE\n",
       "173. FALSE\n",
       "174. FALSE\n",
       "175. FALSE\n",
       "176. FALSE\n",
       "177. FALSE\n",
       "178. FALSE\n",
       "179. FALSE\n",
       "180. FALSE\n",
       "181. FALSE\n",
       "182. FALSE\n",
       "183. FALSE\n",
       "184. FALSE\n",
       "185. TRUE\n",
       "186. TRUE\n",
       "187. TRUE\n",
       "188. TRUE\n",
       "189. FALSE\n",
       "190. FALSE\n",
       "191. FALSE\n",
       "192. FALSE\n",
       "193. FALSE\n",
       "194. FALSE\n",
       "195. FALSE\n",
       "196. FALSE\n",
       "197. FALSE\n",
       "198. FALSE\n",
       "199. FALSE\n",
       "200. FALSE\n",
       "201. TRUE\n",
       "202. TRUE\n",
       "203. TRUE\n",
       "204. TRUE\n",
       "205. FALSE\n",
       "206. FALSE\n",
       "207. FALSE\n",
       "208. FALSE\n",
       "209. FALSE\n",
       "210. FALSE\n",
       "211. FALSE\n",
       "212. FALSE\n",
       "213. FALSE\n",
       "214. FALSE\n",
       "215. FALSE\n",
       "216. FALSE\n",
       "217. TRUE\n",
       "218. TRUE\n",
       "219. TRUE\n",
       "220. TRUE\n",
       "221. FALSE\n",
       "222. FALSE\n",
       "223. FALSE\n",
       "224. FALSE\n",
       "225. FALSE\n",
       "226. FALSE\n",
       "227. FALSE\n",
       "228. FALSE\n",
       "229. FALSE\n",
       "230. FALSE\n",
       "231. FALSE\n",
       "232. FALSE\n",
       "233. TRUE\n",
       "234. TRUE\n",
       "235. TRUE\n",
       "236. TRUE\n",
       "237. FALSE\n",
       "238. FALSE\n",
       "239. FALSE\n",
       "240. FALSE\n",
       "241. FALSE\n",
       "242. FALSE\n",
       "243. FALSE\n",
       "244. FALSE\n",
       "245. FALSE\n",
       "246. FALSE\n",
       "247. FALSE\n",
       "248. FALSE\n",
       "249. TRUE\n",
       "250. TRUE\n",
       "251. TRUE\n",
       "252. TRUE\n",
       "253. FALSE\n",
       "254. FALSE\n",
       "255. FALSE\n",
       "256. FALSE\n",
       "257. FALSE\n",
       "258. FALSE\n",
       "259. FALSE\n",
       "260. FALSE\n",
       "261. FALSE\n",
       "262. FALSE\n",
       "263. FALSE\n",
       "264. FALSE\n",
       "265. TRUE\n",
       "266. TRUE\n",
       "267. TRUE\n",
       "268. TRUE\n",
       "269. FALSE\n",
       "270. FALSE\n",
       "271. FALSE\n",
       "272. FALSE\n",
       "273. FALSE\n",
       "274. FALSE\n",
       "275. FALSE\n",
       "276. FALSE\n",
       "277. FALSE\n",
       "278. FALSE\n",
       "279. FALSE\n",
       "280. FALSE\n",
       "281. TRUE\n",
       "282. TRUE\n",
       "283. TRUE\n",
       "284. TRUE\n",
       "285. FALSE\n",
       "286. FALSE\n",
       "287. FALSE\n",
       "288. FALSE\n",
       "289. FALSE\n",
       "290. FALSE\n",
       "291. FALSE\n",
       "292. FALSE\n",
       "293. FALSE\n",
       "294. FALSE\n",
       "295. FALSE\n",
       "296. FALSE\n",
       "297. TRUE\n",
       "298. TRUE\n",
       "\n",
       "\n"
      ],
      "text/plain": [
       "  [1] FALSE FALSE FALSE FALSE FALSE FALSE FALSE FALSE  TRUE  TRUE  TRUE  TRUE\n",
       " [13] FALSE FALSE FALSE FALSE FALSE FALSE FALSE FALSE FALSE FALSE FALSE FALSE\n",
       " [25]  TRUE  TRUE  TRUE  TRUE FALSE FALSE FALSE FALSE FALSE FALSE FALSE FALSE\n",
       " [37] FALSE FALSE FALSE FALSE  TRUE  TRUE  TRUE  TRUE FALSE FALSE FALSE FALSE\n",
       " [49] FALSE FALSE FALSE FALSE FALSE FALSE FALSE FALSE  TRUE  TRUE  TRUE  TRUE\n",
       " [61] FALSE FALSE FALSE FALSE FALSE FALSE FALSE FALSE FALSE FALSE FALSE FALSE\n",
       " [73]  TRUE  TRUE  TRUE  TRUE FALSE FALSE FALSE FALSE FALSE FALSE FALSE FALSE\n",
       " [85] FALSE FALSE FALSE FALSE  TRUE  TRUE  TRUE  TRUE FALSE FALSE FALSE FALSE\n",
       " [97] FALSE FALSE FALSE FALSE FALSE FALSE FALSE FALSE  TRUE  TRUE  TRUE  TRUE\n",
       "[109] FALSE FALSE FALSE FALSE FALSE FALSE FALSE FALSE FALSE FALSE FALSE FALSE\n",
       "[121]  TRUE  TRUE  TRUE  TRUE FALSE FALSE FALSE FALSE FALSE FALSE FALSE FALSE\n",
       "[133] FALSE FALSE FALSE FALSE  TRUE  TRUE  TRUE  TRUE FALSE FALSE FALSE FALSE\n",
       "[145] FALSE FALSE FALSE FALSE FALSE FALSE FALSE FALSE  TRUE  TRUE  TRUE  TRUE\n",
       "[157] FALSE FALSE FALSE FALSE FALSE FALSE FALSE FALSE FALSE FALSE FALSE FALSE\n",
       "[169]  TRUE  TRUE  TRUE  TRUE FALSE FALSE FALSE FALSE FALSE FALSE FALSE FALSE\n",
       "[181] FALSE FALSE FALSE FALSE  TRUE  TRUE  TRUE  TRUE FALSE FALSE FALSE FALSE\n",
       "[193] FALSE FALSE FALSE FALSE FALSE FALSE FALSE FALSE  TRUE  TRUE  TRUE  TRUE\n",
       "[205] FALSE FALSE FALSE FALSE FALSE FALSE FALSE FALSE FALSE FALSE FALSE FALSE\n",
       "[217]  TRUE  TRUE  TRUE  TRUE FALSE FALSE FALSE FALSE FALSE FALSE FALSE FALSE\n",
       "[229] FALSE FALSE FALSE FALSE  TRUE  TRUE  TRUE  TRUE FALSE FALSE FALSE FALSE\n",
       "[241] FALSE FALSE FALSE FALSE FALSE FALSE FALSE FALSE  TRUE  TRUE  TRUE  TRUE\n",
       "[253] FALSE FALSE FALSE FALSE FALSE FALSE FALSE FALSE FALSE FALSE FALSE FALSE\n",
       "[265]  TRUE  TRUE  TRUE  TRUE FALSE FALSE FALSE FALSE FALSE FALSE FALSE FALSE\n",
       "[277] FALSE FALSE FALSE FALSE  TRUE  TRUE  TRUE  TRUE FALSE FALSE FALSE FALSE\n",
       "[289] FALSE FALSE FALSE FALSE FALSE FALSE FALSE FALSE  TRUE  TRUE"
      ]
     },
     "metadata": {},
     "output_type": "display_data"
    }
   ],
   "source": [
    "midterm_year = (natl_unemp$year %% 2 == 0) & (natl_unemp$year %% 4 != 0)\n",
    "midterm_year"
   ]
  },
  {
   "cell_type": "code",
   "execution_count": 7,
   "metadata": {
    "vscode": {
     "languageId": "r"
    }
   },
   "outputs": [
    {
     "data": {
      "text/html": [
       "<table class=\"dataframe\">\n",
       "<caption>A tibble: 10 × 9</caption>\n",
       "<thead>\n",
       "\t<tr><th scope=col>...1</th><th scope=col>...2</th><th scope=col>DATE</th><th scope=col>UNRATE</th><th scope=col>year</th><th scope=col>quarter_yr</th><th scope=col>quarter_cycle</th><th scope=col>year_qt</th><th scope=col>unrate_qt_total</th></tr>\n",
       "\t<tr><th scope=col>&lt;dbl&gt;</th><th scope=col>&lt;dbl&gt;</th><th scope=col>&lt;chr&gt;</th><th scope=col>&lt;dbl&gt;</th><th scope=col>&lt;dbl&gt;</th><th scope=col>&lt;dbl&gt;</th><th scope=col>&lt;dbl&gt;</th><th scope=col>&lt;chr&gt;</th><th scope=col>&lt;dbl&gt;</th></tr>\n",
       "</thead>\n",
       "<tbody>\n",
       "\t<tr><td> 1</td><td> 1</td><td>1/1/48 </td><td>3.4</td><td>1948</td><td>1</td><td>1</td><td>1948_1</td><td>11.2</td></tr>\n",
       "\t<tr><td> 2</td><td> 4</td><td>4/1/48 </td><td>3.9</td><td>1948</td><td>2</td><td>2</td><td>1948_2</td><td>11.0</td></tr>\n",
       "\t<tr><td> 3</td><td> 7</td><td>7/1/48 </td><td>3.6</td><td>1948</td><td>3</td><td>3</td><td>1948_3</td><td>11.3</td></tr>\n",
       "\t<tr><td> 4</td><td>10</td><td>10/1/48</td><td>3.7</td><td>1948</td><td>4</td><td>4</td><td>1948_4</td><td>11.5</td></tr>\n",
       "\t<tr><td> 5</td><td>13</td><td>1/1/49 </td><td>4.3</td><td>1949</td><td>1</td><td>5</td><td>1949_5</td><td>14.0</td></tr>\n",
       "\t<tr><td> 6</td><td>16</td><td>4/1/49 </td><td>5.3</td><td>1949</td><td>2</td><td>6</td><td>1949_6</td><td>17.6</td></tr>\n",
       "\t<tr><td> 7</td><td>19</td><td>7/1/49 </td><td>6.7</td><td>1949</td><td>3</td><td>7</td><td>1949_7</td><td>20.1</td></tr>\n",
       "\t<tr><td> 8</td><td>22</td><td>10/1/49</td><td>7.9</td><td>1949</td><td>4</td><td>8</td><td>1949_8</td><td>20.9</td></tr>\n",
       "\t<tr><td> 9</td><td>25</td><td>1/1/50 </td><td>6.5</td><td>1950</td><td>1</td><td>1</td><td>1950_1</td><td>19.2</td></tr>\n",
       "\t<tr><td>10</td><td>28</td><td>4/1/50 </td><td>5.8</td><td>1950</td><td>2</td><td>2</td><td>1950_2</td><td>16.7</td></tr>\n",
       "</tbody>\n",
       "</table>\n"
      ],
      "text/latex": [
       "A tibble: 10 × 9\n",
       "\\begin{tabular}{lllllllll}\n",
       " ...1 & ...2 & DATE & UNRATE & year & quarter\\_yr & quarter\\_cycle & year\\_qt & unrate\\_qt\\_total\\\\\n",
       " <dbl> & <dbl> & <chr> & <dbl> & <dbl> & <dbl> & <dbl> & <chr> & <dbl>\\\\\n",
       "\\hline\n",
       "\t  1 &  1 & 1/1/48  & 3.4 & 1948 & 1 & 1 & 1948\\_1 & 11.2\\\\\n",
       "\t  2 &  4 & 4/1/48  & 3.9 & 1948 & 2 & 2 & 1948\\_2 & 11.0\\\\\n",
       "\t  3 &  7 & 7/1/48  & 3.6 & 1948 & 3 & 3 & 1948\\_3 & 11.3\\\\\n",
       "\t  4 & 10 & 10/1/48 & 3.7 & 1948 & 4 & 4 & 1948\\_4 & 11.5\\\\\n",
       "\t  5 & 13 & 1/1/49  & 4.3 & 1949 & 1 & 5 & 1949\\_5 & 14.0\\\\\n",
       "\t  6 & 16 & 4/1/49  & 5.3 & 1949 & 2 & 6 & 1949\\_6 & 17.6\\\\\n",
       "\t  7 & 19 & 7/1/49  & 6.7 & 1949 & 3 & 7 & 1949\\_7 & 20.1\\\\\n",
       "\t  8 & 22 & 10/1/49 & 7.9 & 1949 & 4 & 8 & 1949\\_8 & 20.9\\\\\n",
       "\t  9 & 25 & 1/1/50  & 6.5 & 1950 & 1 & 1 & 1950\\_1 & 19.2\\\\\n",
       "\t 10 & 28 & 4/1/50  & 5.8 & 1950 & 2 & 2 & 1950\\_2 & 16.7\\\\\n",
       "\\end{tabular}\n"
      ],
      "text/markdown": [
       "\n",
       "A tibble: 10 × 9\n",
       "\n",
       "| ...1 &lt;dbl&gt; | ...2 &lt;dbl&gt; | DATE &lt;chr&gt; | UNRATE &lt;dbl&gt; | year &lt;dbl&gt; | quarter_yr &lt;dbl&gt; | quarter_cycle &lt;dbl&gt; | year_qt &lt;chr&gt; | unrate_qt_total &lt;dbl&gt; |\n",
       "|---|---|---|---|---|---|---|---|---|\n",
       "|  1 |  1 | 1/1/48  | 3.4 | 1948 | 1 | 1 | 1948_1 | 11.2 |\n",
       "|  2 |  4 | 4/1/48  | 3.9 | 1948 | 2 | 2 | 1948_2 | 11.0 |\n",
       "|  3 |  7 | 7/1/48  | 3.6 | 1948 | 3 | 3 | 1948_3 | 11.3 |\n",
       "|  4 | 10 | 10/1/48 | 3.7 | 1948 | 4 | 4 | 1948_4 | 11.5 |\n",
       "|  5 | 13 | 1/1/49  | 4.3 | 1949 | 1 | 5 | 1949_5 | 14.0 |\n",
       "|  6 | 16 | 4/1/49  | 5.3 | 1949 | 2 | 6 | 1949_6 | 17.6 |\n",
       "|  7 | 19 | 7/1/49  | 6.7 | 1949 | 3 | 7 | 1949_7 | 20.1 |\n",
       "|  8 | 22 | 10/1/49 | 7.9 | 1949 | 4 | 8 | 1949_8 | 20.9 |\n",
       "|  9 | 25 | 1/1/50  | 6.5 | 1950 | 1 | 1 | 1950_1 | 19.2 |\n",
       "| 10 | 28 | 4/1/50  | 5.8 | 1950 | 2 | 2 | 1950_2 | 16.7 |\n",
       "\n"
      ],
      "text/plain": [
       "   ...1 ...2 DATE    UNRATE year quarter_yr quarter_cycle year_qt\n",
       "1   1    1   1/1/48  3.4    1948 1          1             1948_1 \n",
       "2   2    4   4/1/48  3.9    1948 2          2             1948_2 \n",
       "3   3    7   7/1/48  3.6    1948 3          3             1948_3 \n",
       "4   4   10   10/1/48 3.7    1948 4          4             1948_4 \n",
       "5   5   13   1/1/49  4.3    1949 1          5             1949_5 \n",
       "6   6   16   4/1/49  5.3    1949 2          6             1949_6 \n",
       "7   7   19   7/1/49  6.7    1949 3          7             1949_7 \n",
       "8   8   22   10/1/49 7.9    1949 4          8             1949_8 \n",
       "9   9   25   1/1/50  6.5    1950 1          1             1950_1 \n",
       "10 10   28   4/1/50  5.8    1950 2          2             1950_2 \n",
       "   unrate_qt_total\n",
       "1  11.2           \n",
       "2  11.0           \n",
       "3  11.3           \n",
       "4  11.5           \n",
       "5  14.0           \n",
       "6  17.6           \n",
       "7  20.1           \n",
       "8  20.9           \n",
       "9  19.2           \n",
       "10 16.7           "
      ]
     },
     "metadata": {},
     "output_type": "display_data"
    }
   ],
   "source": [
    "head(natl_unemp,10)"
   ]
  },
  {
   "cell_type": "code",
   "execution_count": 8,
   "metadata": {
    "vscode": {
     "languageId": "r"
    }
   },
   "outputs": [],
   "source": [
    "natl_unemp$midterm_year = midterm_year"
   ]
  },
  {
   "cell_type": "code",
   "execution_count": 9,
   "metadata": {
    "vscode": {
     "languageId": "r"
    }
   },
   "outputs": [
    {
     "data": {
      "text/html": [
       "<table class=\"dataframe\">\n",
       "<caption>A grouped_df: 6 × 3</caption>\n",
       "<thead>\n",
       "\t<tr><th scope=col>year</th><th scope=col>UNRATE</th><th scope=col>unemp_diff</th></tr>\n",
       "\t<tr><th scope=col>&lt;dbl&gt;</th><th scope=col>&lt;dbl&gt;</th><th scope=col>&lt;dbl&gt;</th></tr>\n",
       "</thead>\n",
       "<tbody>\n",
       "\t<tr><td>1950</td><td>4.2</td><td>-0.8</td></tr>\n",
       "\t<tr><td>1954</td><td>5.7</td><td>-0.1</td></tr>\n",
       "\t<tr><td>1958</td><td>6.7</td><td>-0.8</td></tr>\n",
       "\t<tr><td>1962</td><td>5.4</td><td> 0.0</td></tr>\n",
       "\t<tr><td>1966</td><td>3.7</td><td>-0.1</td></tr>\n",
       "\t<tr><td>1970</td><td>5.5</td><td> 0.5</td></tr>\n",
       "</tbody>\n",
       "</table>\n"
      ],
      "text/latex": [
       "A grouped\\_df: 6 × 3\n",
       "\\begin{tabular}{lll}\n",
       " year & UNRATE & unemp\\_diff\\\\\n",
       " <dbl> & <dbl> & <dbl>\\\\\n",
       "\\hline\n",
       "\t 1950 & 4.2 & -0.8\\\\\n",
       "\t 1954 & 5.7 & -0.1\\\\\n",
       "\t 1958 & 6.7 & -0.8\\\\\n",
       "\t 1962 & 5.4 &  0.0\\\\\n",
       "\t 1966 & 3.7 & -0.1\\\\\n",
       "\t 1970 & 5.5 &  0.5\\\\\n",
       "\\end{tabular}\n"
      ],
      "text/markdown": [
       "\n",
       "A grouped_df: 6 × 3\n",
       "\n",
       "| year &lt;dbl&gt; | UNRATE &lt;dbl&gt; | unemp_diff &lt;dbl&gt; |\n",
       "|---|---|---|\n",
       "| 1950 | 4.2 | -0.8 |\n",
       "| 1954 | 5.7 | -0.1 |\n",
       "| 1958 | 6.7 | -0.8 |\n",
       "| 1962 | 5.4 |  0.0 |\n",
       "| 1966 | 3.7 | -0.1 |\n",
       "| 1970 | 5.5 |  0.5 |\n",
       "\n"
      ],
      "text/plain": [
       "  year UNRATE unemp_diff\n",
       "1 1950 4.2    -0.8      \n",
       "2 1954 5.7    -0.1      \n",
       "3 1958 6.7    -0.8      \n",
       "4 1962 5.4     0.0      \n",
       "5 1966 3.7    -0.1      \n",
       "6 1970 5.5     0.5      "
      ]
     },
     "metadata": {},
     "output_type": "display_data"
    }
   ],
   "source": [
    "unemp_diff = natl_unemp %>% \n",
    "  filter((midterm_year == TRUE & (quarter_yr == 3 | quarter_yr == 4))) %>% group_by(year) %>% mutate(unemp_diff = UNRATE - lag(UNRATE)) %>% filter(quarter_yr == 4) %>% select(year, UNRATE, unemp_diff)\n",
    "head(unemp_diff)"
   ]
  },
  {
   "cell_type": "code",
   "execution_count": 10,
   "metadata": {
    "vscode": {
     "languageId": "r"
    }
   },
   "outputs": [],
   "source": [
    "natl_df = left_join(unemp_diff, house_pop %>% select(year, H_incumbent_party_majorvote_pct), by = \"year\")"
   ]
  },
  {
   "cell_type": "code",
   "execution_count": 11,
   "metadata": {
    "vscode": {
     "languageId": "r"
    }
   },
   "outputs": [],
   "source": [
    "natl_lm_diff = lm(natl_df$H_incumbent_party_majorvote_pct ~ natl_df$unemp_diff)\n",
    "natl_lm_rate = lm(natl_df$H_incumbent_party_majorvote_pct ~ natl_df$UNRATE)"
   ]
  },
  {
   "cell_type": "code",
   "execution_count": 12,
   "metadata": {
    "vscode": {
     "languageId": "r"
    }
   },
   "outputs": [],
   "source": [
    "state_unemployment$midterm_year = (state_unemployment$Year %% 2 == 0) & (state_unemployment$Year %% 4 != 0)\n"
   ]
  },
  {
   "cell_type": "code",
   "execution_count": 13,
   "metadata": {
    "vscode": {
     "languageId": "r"
    }
   },
   "outputs": [
    {
     "data": {
      "text/html": [
       "<table class=\"dataframe\">\n",
       "<caption>A grouped_df: 6 × 4</caption>\n",
       "<thead>\n",
       "\t<tr><th scope=col>State and area</th><th scope=col>Year</th><th scope=col>Unemployed_prct</th><th scope=col>diff</th></tr>\n",
       "\t<tr><th scope=col>&lt;chr&gt;</th><th scope=col>&lt;dbl&gt;</th><th scope=col>&lt;dbl&gt;</th><th scope=col>&lt;dbl&gt;</th></tr>\n",
       "</thead>\n",
       "<tbody>\n",
       "\t<tr><td>Alabama   </td><td>1978</td><td> 6.5</td><td> 0.4</td></tr>\n",
       "\t<tr><td>Alaska    </td><td>1978</td><td>10.2</td><td>-0.5</td></tr>\n",
       "\t<tr><td>Arizona   </td><td>1978</td><td> 5.7</td><td>-0.1</td></tr>\n",
       "\t<tr><td>Arkansas  </td><td>1978</td><td> 6.4</td><td> 0.3</td></tr>\n",
       "\t<tr><td>California</td><td>1978</td><td> 6.8</td><td>-0.3</td></tr>\n",
       "\t<tr><td>Colorado  </td><td>1978</td><td> 5.1</td><td>-0.4</td></tr>\n",
       "</tbody>\n",
       "</table>\n"
      ],
      "text/latex": [
       "A grouped\\_df: 6 × 4\n",
       "\\begin{tabular}{llll}\n",
       " State and area & Year & Unemployed\\_prct & diff\\\\\n",
       " <chr> & <dbl> & <dbl> & <dbl>\\\\\n",
       "\\hline\n",
       "\t Alabama    & 1978 &  6.5 &  0.4\\\\\n",
       "\t Alaska     & 1978 & 10.2 & -0.5\\\\\n",
       "\t Arizona    & 1978 &  5.7 & -0.1\\\\\n",
       "\t Arkansas   & 1978 &  6.4 &  0.3\\\\\n",
       "\t California & 1978 &  6.8 & -0.3\\\\\n",
       "\t Colorado   & 1978 &  5.1 & -0.4\\\\\n",
       "\\end{tabular}\n"
      ],
      "text/markdown": [
       "\n",
       "A grouped_df: 6 × 4\n",
       "\n",
       "| State and area &lt;chr&gt; | Year &lt;dbl&gt; | Unemployed_prct &lt;dbl&gt; | diff &lt;dbl&gt; |\n",
       "|---|---|---|---|\n",
       "| Alabama    | 1978 |  6.5 |  0.4 |\n",
       "| Alaska     | 1978 | 10.2 | -0.5 |\n",
       "| Arizona    | 1978 |  5.7 | -0.1 |\n",
       "| Arkansas   | 1978 |  6.4 |  0.3 |\n",
       "| California | 1978 |  6.8 | -0.3 |\n",
       "| Colorado   | 1978 |  5.1 | -0.4 |\n",
       "\n"
      ],
      "text/plain": [
       "  State and area Year Unemployed_prct diff\n",
       "1 Alabama        1978  6.5             0.4\n",
       "2 Alaska         1978 10.2            -0.5\n",
       "3 Arizona        1978  5.7            -0.1\n",
       "4 Arkansas       1978  6.4             0.3\n",
       "5 California     1978  6.8            -0.3\n",
       "6 Colorado       1978  5.1            -0.4"
      ]
     },
     "metadata": {},
     "output_type": "display_data"
    }
   ],
   "source": [
    "state_df = state_unemployment %>% filter(midterm_year == TRUE & (Month == 10 | Month == 7) & !`FIPS Code` %in% c(37, 11, 51000)) %>% group_by(`State and area`, Year) %>% mutate(diff = `Unemployed_prct` - lag(`Unemployed_prct`)) %>% filter(Month == 10) %>% select(`State and area`, Year, `Unemployed_prct`, diff)\n",
    "head(state_df)"
   ]
  },
  {
   "cell_type": "code",
   "execution_count": 14,
   "metadata": {
    "vscode": {
     "languageId": "r"
    }
   },
   "outputs": [
    {
     "name": "stderr",
     "output_type": "stream",
     "text": [
      "\u001b[1mRows: \u001b[22m\u001b[34m906\u001b[39m \u001b[1mColumns: \u001b[22m\u001b[34m2\u001b[39m\n",
      "\u001b[36m--\u001b[39m \u001b[1mColumn specification\u001b[22m \u001b[36m--------------------------------------------------------\u001b[39m\n",
      "\u001b[1mDelimiter:\u001b[22m \",\"\n",
      "\u001b[32mdbl\u001b[39m  (1): CPIAUCSL\n",
      "\u001b[34mdate\u001b[39m (1): DATE\n",
      "\n",
      "\u001b[36mi\u001b[39m Use `spec()` to retrieve the full column specification for this data.\n",
      "\u001b[36mi\u001b[39m Specify the column types or set `show_col_types = FALSE` to quiet this message.\n"
     ]
    },
    {
     "data": {
      "text/html": [
       "<table class=\"dataframe\">\n",
       "<caption>A tibble: 6 × 2</caption>\n",
       "<thead>\n",
       "\t<tr><th scope=col>DATE</th><th scope=col>CPIAUCSL</th></tr>\n",
       "\t<tr><th scope=col>&lt;date&gt;</th><th scope=col>&lt;dbl&gt;</th></tr>\n",
       "</thead>\n",
       "<tbody>\n",
       "\t<tr><td>1947-01-01</td><td>21.48</td></tr>\n",
       "\t<tr><td>1947-02-01</td><td>21.62</td></tr>\n",
       "\t<tr><td>1947-03-01</td><td>22.00</td></tr>\n",
       "\t<tr><td>1947-04-01</td><td>22.00</td></tr>\n",
       "\t<tr><td>1947-05-01</td><td>21.95</td></tr>\n",
       "\t<tr><td>1947-06-01</td><td>22.08</td></tr>\n",
       "</tbody>\n",
       "</table>\n"
      ],
      "text/latex": [
       "A tibble: 6 × 2\n",
       "\\begin{tabular}{ll}\n",
       " DATE & CPIAUCSL\\\\\n",
       " <date> & <dbl>\\\\\n",
       "\\hline\n",
       "\t 1947-01-01 & 21.48\\\\\n",
       "\t 1947-02-01 & 21.62\\\\\n",
       "\t 1947-03-01 & 22.00\\\\\n",
       "\t 1947-04-01 & 22.00\\\\\n",
       "\t 1947-05-01 & 21.95\\\\\n",
       "\t 1947-06-01 & 22.08\\\\\n",
       "\\end{tabular}\n"
      ],
      "text/markdown": [
       "\n",
       "A tibble: 6 × 2\n",
       "\n",
       "| DATE &lt;date&gt; | CPIAUCSL &lt;dbl&gt; |\n",
       "|---|---|\n",
       "| 1947-01-01 | 21.48 |\n",
       "| 1947-02-01 | 21.62 |\n",
       "| 1947-03-01 | 22.00 |\n",
       "| 1947-04-01 | 22.00 |\n",
       "| 1947-05-01 | 21.95 |\n",
       "| 1947-06-01 | 22.08 |\n",
       "\n"
      ],
      "text/plain": [
       "  DATE       CPIAUCSL\n",
       "1 1947-01-01 21.48   \n",
       "2 1947-02-01 21.62   \n",
       "3 1947-03-01 22.00   \n",
       "4 1947-04-01 22.00   \n",
       "5 1947-05-01 21.95   \n",
       "6 1947-06-01 22.08   "
      ]
     },
     "metadata": {},
     "output_type": "display_data"
    }
   ],
   "source": [
    "CPI_df = read_csv(\"Section Data/CPI_monthly.csv\")\n",
    "head(CPI_df)"
   ]
  },
  {
   "cell_type": "code",
   "execution_count": 15,
   "metadata": {
    "vscode": {
     "languageId": "r"
    }
   },
   "outputs": [
    {
     "data": {
      "text/html": [
       "<table class=\"dataframe\">\n",
       "<caption>A tibble: 6 × 4</caption>\n",
       "<thead>\n",
       "\t<tr><th scope=col>DATE</th><th scope=col>CPIAUCSL</th><th scope=col>year</th><th scope=col>month</th></tr>\n",
       "\t<tr><th scope=col>&lt;date&gt;</th><th scope=col>&lt;dbl&gt;</th><th scope=col>&lt;dbl&gt;</th><th scope=col>&lt;dbl&gt;</th></tr>\n",
       "</thead>\n",
       "<tbody>\n",
       "\t<tr><td>1947-01-01</td><td>21.48</td><td>1947</td><td>1</td></tr>\n",
       "\t<tr><td>1947-02-01</td><td>21.62</td><td>1947</td><td>2</td></tr>\n",
       "\t<tr><td>1947-03-01</td><td>22.00</td><td>1947</td><td>3</td></tr>\n",
       "\t<tr><td>1947-04-01</td><td>22.00</td><td>1947</td><td>4</td></tr>\n",
       "\t<tr><td>1947-05-01</td><td>21.95</td><td>1947</td><td>5</td></tr>\n",
       "\t<tr><td>1947-06-01</td><td>22.08</td><td>1947</td><td>6</td></tr>\n",
       "</tbody>\n",
       "</table>\n"
      ],
      "text/latex": [
       "A tibble: 6 × 4\n",
       "\\begin{tabular}{llll}\n",
       " DATE & CPIAUCSL & year & month\\\\\n",
       " <date> & <dbl> & <dbl> & <dbl>\\\\\n",
       "\\hline\n",
       "\t 1947-01-01 & 21.48 & 1947 & 1\\\\\n",
       "\t 1947-02-01 & 21.62 & 1947 & 2\\\\\n",
       "\t 1947-03-01 & 22.00 & 1947 & 3\\\\\n",
       "\t 1947-04-01 & 22.00 & 1947 & 4\\\\\n",
       "\t 1947-05-01 & 21.95 & 1947 & 5\\\\\n",
       "\t 1947-06-01 & 22.08 & 1947 & 6\\\\\n",
       "\\end{tabular}\n"
      ],
      "text/markdown": [
       "\n",
       "A tibble: 6 × 4\n",
       "\n",
       "| DATE &lt;date&gt; | CPIAUCSL &lt;dbl&gt; | year &lt;dbl&gt; | month &lt;dbl&gt; |\n",
       "|---|---|---|---|\n",
       "| 1947-01-01 | 21.48 | 1947 | 1 |\n",
       "| 1947-02-01 | 21.62 | 1947 | 2 |\n",
       "| 1947-03-01 | 22.00 | 1947 | 3 |\n",
       "| 1947-04-01 | 22.00 | 1947 | 4 |\n",
       "| 1947-05-01 | 21.95 | 1947 | 5 |\n",
       "| 1947-06-01 | 22.08 | 1947 | 6 |\n",
       "\n"
      ],
      "text/plain": [
       "  DATE       CPIAUCSL year month\n",
       "1 1947-01-01 21.48    1947 1    \n",
       "2 1947-02-01 21.62    1947 2    \n",
       "3 1947-03-01 22.00    1947 3    \n",
       "4 1947-04-01 22.00    1947 4    \n",
       "5 1947-05-01 21.95    1947 5    \n",
       "6 1947-06-01 22.08    1947 6    "
      ]
     },
     "metadata": {},
     "output_type": "display_data"
    }
   ],
   "source": [
    "CPI_df$year = as.numeric(format(CPI_df$DATE, \"%Y\"))\n",
    "CPI_df$month = as.numeric(format(CPI_df$DATE, \"%m\"))\n",
    "head(CPI_df)"
   ]
  },
  {
   "cell_type": "code",
   "execution_count": 16,
   "metadata": {
    "vscode": {
     "languageId": "r"
    }
   },
   "outputs": [
    {
     "data": {
      "text/html": [
       "<table class=\"dataframe\">\n",
       "<caption>A grouped_df: 6 × 2</caption>\n",
       "<thead>\n",
       "\t<tr><th scope=col>year</th><th scope=col>CPI_diff</th></tr>\n",
       "\t<tr><th scope=col>&lt;dbl&gt;</th><th scope=col>&lt;dbl&gt;</th></tr>\n",
       "</thead>\n",
       "<tbody>\n",
       "\t<tr><td>1950</td><td> 0.43</td></tr>\n",
       "\t<tr><td>1954</td><td>-0.14</td></tr>\n",
       "\t<tr><td>1958</td><td> 0.02</td></tr>\n",
       "\t<tr><td>1962</td><td> 0.16</td></tr>\n",
       "\t<tr><td>1966</td><td> 0.40</td></tr>\n",
       "\t<tr><td>1970</td><td> 0.50</td></tr>\n",
       "</tbody>\n",
       "</table>\n"
      ],
      "text/latex": [
       "A grouped\\_df: 6 × 2\n",
       "\\begin{tabular}{ll}\n",
       " year & CPI\\_diff\\\\\n",
       " <dbl> & <dbl>\\\\\n",
       "\\hline\n",
       "\t 1950 &  0.43\\\\\n",
       "\t 1954 & -0.14\\\\\n",
       "\t 1958 &  0.02\\\\\n",
       "\t 1962 &  0.16\\\\\n",
       "\t 1966 &  0.40\\\\\n",
       "\t 1970 &  0.50\\\\\n",
       "\\end{tabular}\n"
      ],
      "text/markdown": [
       "\n",
       "A grouped_df: 6 × 2\n",
       "\n",
       "| year &lt;dbl&gt; | CPI_diff &lt;dbl&gt; |\n",
       "|---|---|\n",
       "| 1950 |  0.43 |\n",
       "| 1954 | -0.14 |\n",
       "| 1958 |  0.02 |\n",
       "| 1962 |  0.16 |\n",
       "| 1966 |  0.40 |\n",
       "| 1970 |  0.50 |\n",
       "\n"
      ],
      "text/plain": [
       "  year CPI_diff\n",
       "1 1950  0.43   \n",
       "2 1954 -0.14   \n",
       "3 1958  0.02   \n",
       "4 1962  0.16   \n",
       "5 1966  0.40   \n",
       "6 1970  0.50   "
      ]
     },
     "metadata": {},
     "output_type": "display_data"
    }
   ],
   "source": [
    "CPI_data = CPI_df %>% filter(year %% 2 == 0 & year %% 4 != 0 & month %in% c(7, 10)) %>% group_by(year) %>% mutate(CPI_diff = CPIAUCSL - lag(CPIAUCSL)) %>% filter(month == 10) %>% select(year, CPI_diff)\n",
    "head(CPI_data)"
   ]
  },
  {
   "cell_type": "code",
   "execution_count": 17,
   "metadata": {
    "vscode": {
     "languageId": "r"
    }
   },
   "outputs": [
    {
     "data": {
      "text/html": [
       "<table class=\"dataframe\">\n",
       "<caption>A grouped_df: 18 × 5</caption>\n",
       "<thead>\n",
       "\t<tr><th scope=col>year</th><th scope=col>UNRATE</th><th scope=col>unemp_diff</th><th scope=col>H_incumbent_party_majorvote_pct</th><th scope=col>CPI_diff</th></tr>\n",
       "\t<tr><th scope=col>&lt;dbl&gt;</th><th scope=col>&lt;dbl&gt;</th><th scope=col>&lt;dbl&gt;</th><th scope=col>&lt;dbl&gt;</th><th scope=col>&lt;dbl&gt;</th></tr>\n",
       "</thead>\n",
       "<tbody>\n",
       "\t<tr><td>1950</td><td> 4.2</td><td>-0.8</td><td>49.71</td><td> 0.430</td></tr>\n",
       "\t<tr><td>1954</td><td> 5.7</td><td>-0.1</td><td>52.40</td><td>-0.140</td></tr>\n",
       "\t<tr><td>1958</td><td> 6.7</td><td>-0.8</td><td>54.97</td><td> 0.020</td></tr>\n",
       "\t<tr><td>1962</td><td> 5.4</td><td> 0.0</td><td>52.87</td><td> 0.160</td></tr>\n",
       "\t<tr><td>1966</td><td> 3.7</td><td>-0.1</td><td>50.86</td><td> 0.400</td></tr>\n",
       "\t<tr><td>1970</td><td> 5.5</td><td> 0.5</td><td>54.22</td><td> 0.500</td></tr>\n",
       "\t<tr><td>1974</td><td> 6.0</td><td> 0.5</td><td>58.57</td><td> 1.700</td></tr>\n",
       "\t<tr><td>1978</td><td> 5.8</td><td>-0.4</td><td>54.31</td><td> 1.600</td></tr>\n",
       "\t<tr><td>1982</td><td>10.4</td><td> 0.6</td><td>56.15</td><td> 0.600</td></tr>\n",
       "\t<tr><td>1986</td><td> 7.0</td><td> 0.0</td><td>55.19</td><td> 0.700</td></tr>\n",
       "\t<tr><td>1990</td><td> 5.9</td><td> 0.4</td><td>54.09</td><td> 2.900</td></tr>\n",
       "\t<tr><td>1994</td><td> 5.8</td><td>-0.3</td><td>46.41</td><td> 1.000</td></tr>\n",
       "\t<tr><td>1998</td><td> 4.5</td><td> 0.0</td><td>49.39</td><td> 0.700</td></tr>\n",
       "\t<tr><td>2002</td><td> 5.7</td><td>-0.1</td><td>52.55</td><td> 1.200</td></tr>\n",
       "\t<tr><td>2006</td><td> 4.4</td><td>-0.3</td><td>45.91</td><td>-1.000</td></tr>\n",
       "\t<tr><td>2010</td><td> 9.4</td><td> 0.0</td><td>46.53</td><td> 1.430</td></tr>\n",
       "\t<tr><td>2014</td><td> 5.7</td><td>-0.5</td><td>47.09</td><td>-0.068</td></tr>\n",
       "\t<tr><td>2018</td><td> 3.8</td><td> 0.0</td><td>45.65</td><td> 1.295</td></tr>\n",
       "</tbody>\n",
       "</table>\n"
      ],
      "text/latex": [
       "A grouped\\_df: 18 × 5\n",
       "\\begin{tabular}{lllll}\n",
       " year & UNRATE & unemp\\_diff & H\\_incumbent\\_party\\_majorvote\\_pct & CPI\\_diff\\\\\n",
       " <dbl> & <dbl> & <dbl> & <dbl> & <dbl>\\\\\n",
       "\\hline\n",
       "\t 1950 &  4.2 & -0.8 & 49.71 &  0.430\\\\\n",
       "\t 1954 &  5.7 & -0.1 & 52.40 & -0.140\\\\\n",
       "\t 1958 &  6.7 & -0.8 & 54.97 &  0.020\\\\\n",
       "\t 1962 &  5.4 &  0.0 & 52.87 &  0.160\\\\\n",
       "\t 1966 &  3.7 & -0.1 & 50.86 &  0.400\\\\\n",
       "\t 1970 &  5.5 &  0.5 & 54.22 &  0.500\\\\\n",
       "\t 1974 &  6.0 &  0.5 & 58.57 &  1.700\\\\\n",
       "\t 1978 &  5.8 & -0.4 & 54.31 &  1.600\\\\\n",
       "\t 1982 & 10.4 &  0.6 & 56.15 &  0.600\\\\\n",
       "\t 1986 &  7.0 &  0.0 & 55.19 &  0.700\\\\\n",
       "\t 1990 &  5.9 &  0.4 & 54.09 &  2.900\\\\\n",
       "\t 1994 &  5.8 & -0.3 & 46.41 &  1.000\\\\\n",
       "\t 1998 &  4.5 &  0.0 & 49.39 &  0.700\\\\\n",
       "\t 2002 &  5.7 & -0.1 & 52.55 &  1.200\\\\\n",
       "\t 2006 &  4.4 & -0.3 & 45.91 & -1.000\\\\\n",
       "\t 2010 &  9.4 &  0.0 & 46.53 &  1.430\\\\\n",
       "\t 2014 &  5.7 & -0.5 & 47.09 & -0.068\\\\\n",
       "\t 2018 &  3.8 &  0.0 & 45.65 &  1.295\\\\\n",
       "\\end{tabular}\n"
      ],
      "text/markdown": [
       "\n",
       "A grouped_df: 18 × 5\n",
       "\n",
       "| year &lt;dbl&gt; | UNRATE &lt;dbl&gt; | unemp_diff &lt;dbl&gt; | H_incumbent_party_majorvote_pct &lt;dbl&gt; | CPI_diff &lt;dbl&gt; |\n",
       "|---|---|---|---|---|\n",
       "| 1950 |  4.2 | -0.8 | 49.71 |  0.430 |\n",
       "| 1954 |  5.7 | -0.1 | 52.40 | -0.140 |\n",
       "| 1958 |  6.7 | -0.8 | 54.97 |  0.020 |\n",
       "| 1962 |  5.4 |  0.0 | 52.87 |  0.160 |\n",
       "| 1966 |  3.7 | -0.1 | 50.86 |  0.400 |\n",
       "| 1970 |  5.5 |  0.5 | 54.22 |  0.500 |\n",
       "| 1974 |  6.0 |  0.5 | 58.57 |  1.700 |\n",
       "| 1978 |  5.8 | -0.4 | 54.31 |  1.600 |\n",
       "| 1982 | 10.4 |  0.6 | 56.15 |  0.600 |\n",
       "| 1986 |  7.0 |  0.0 | 55.19 |  0.700 |\n",
       "| 1990 |  5.9 |  0.4 | 54.09 |  2.900 |\n",
       "| 1994 |  5.8 | -0.3 | 46.41 |  1.000 |\n",
       "| 1998 |  4.5 |  0.0 | 49.39 |  0.700 |\n",
       "| 2002 |  5.7 | -0.1 | 52.55 |  1.200 |\n",
       "| 2006 |  4.4 | -0.3 | 45.91 | -1.000 |\n",
       "| 2010 |  9.4 |  0.0 | 46.53 |  1.430 |\n",
       "| 2014 |  5.7 | -0.5 | 47.09 | -0.068 |\n",
       "| 2018 |  3.8 |  0.0 | 45.65 |  1.295 |\n",
       "\n"
      ],
      "text/plain": [
       "   year UNRATE unemp_diff H_incumbent_party_majorvote_pct CPI_diff\n",
       "1  1950  4.2   -0.8       49.71                            0.430  \n",
       "2  1954  5.7   -0.1       52.40                           -0.140  \n",
       "3  1958  6.7   -0.8       54.97                            0.020  \n",
       "4  1962  5.4    0.0       52.87                            0.160  \n",
       "5  1966  3.7   -0.1       50.86                            0.400  \n",
       "6  1970  5.5    0.5       54.22                            0.500  \n",
       "7  1974  6.0    0.5       58.57                            1.700  \n",
       "8  1978  5.8   -0.4       54.31                            1.600  \n",
       "9  1982 10.4    0.6       56.15                            0.600  \n",
       "10 1986  7.0    0.0       55.19                            0.700  \n",
       "11 1990  5.9    0.4       54.09                            2.900  \n",
       "12 1994  5.8   -0.3       46.41                            1.000  \n",
       "13 1998  4.5    0.0       49.39                            0.700  \n",
       "14 2002  5.7   -0.1       52.55                            1.200  \n",
       "15 2006  4.4   -0.3       45.91                           -1.000  \n",
       "16 2010  9.4    0.0       46.53                            1.430  \n",
       "17 2014  5.7   -0.5       47.09                           -0.068  \n",
       "18 2018  3.8    0.0       45.65                            1.295  "
      ]
     },
     "metadata": {},
     "output_type": "display_data"
    }
   ],
   "source": [
    "natl_df = left_join(natl_df, CPI_data, by = \"year\")\n",
    "natl_df"
   ]
  },
  {
   "cell_type": "code",
   "execution_count": 24,
   "metadata": {
    "vscode": {
     "languageId": "r"
    }
   },
   "outputs": [
    {
     "name": "stderr",
     "output_type": "stream",
     "text": [
      "\u001b[1m\u001b[22mNew names:\n",
      "\u001b[36m*\u001b[39m `` -> `...1`\n",
      "\u001b[36m*\u001b[39m `...1` -> `...2`\n",
      "\u001b[1mRows: \u001b[22m\u001b[34m302\u001b[39m \u001b[1mColumns: \u001b[22m\u001b[34m10\u001b[39m\n",
      "\u001b[36m--\u001b[39m \u001b[1mColumn specification\u001b[22m \u001b[36m--------------------------------------------------------\u001b[39m\n",
      "\u001b[1mDelimiter:\u001b[22m \",\"\n",
      "\u001b[31mchr\u001b[39m (2): date, year_qt\n",
      "\u001b[32mdbl\u001b[39m (8): ...1, ...2, GDPC1, quarter_yr, quarter_cycle, year, GDP_growth_qt, ...\n",
      "\n",
      "\u001b[36mi\u001b[39m Use `spec()` to retrieve the full column specification for this data.\n",
      "\u001b[36mi\u001b[39m Specify the column types or set `show_col_types = FALSE` to quiet this message.\n"
     ]
    },
    {
     "data": {
      "text/html": [
       "<table class=\"dataframe\">\n",
       "<caption>A tibble: 6 × 10</caption>\n",
       "<thead>\n",
       "\t<tr><th scope=col>...1</th><th scope=col>...2</th><th scope=col>date</th><th scope=col>GDPC1</th><th scope=col>quarter_yr</th><th scope=col>quarter_cycle</th><th scope=col>year</th><th scope=col>year_qt</th><th scope=col>GDP_growth_qt</th><th scope=col>GDP_growth_pct</th></tr>\n",
       "\t<tr><th scope=col>&lt;dbl&gt;</th><th scope=col>&lt;dbl&gt;</th><th scope=col>&lt;chr&gt;</th><th scope=col>&lt;dbl&gt;</th><th scope=col>&lt;dbl&gt;</th><th scope=col>&lt;dbl&gt;</th><th scope=col>&lt;dbl&gt;</th><th scope=col>&lt;chr&gt;</th><th scope=col>&lt;dbl&gt;</th><th scope=col>&lt;dbl&gt;</th></tr>\n",
       "</thead>\n",
       "<tbody>\n",
       "\t<tr><td>1</td><td>1</td><td>1/1/47 </td><td>2033.061</td><td>1</td><td>1</td><td>1947</td><td>1947_1</td><td> 0.000</td><td> 0.0000000</td></tr>\n",
       "\t<tr><td>2</td><td>2</td><td>4/1/47 </td><td>2027.639</td><td>2</td><td>2</td><td>1947</td><td>1947_2</td><td>-5.422</td><td>-0.2666915</td></tr>\n",
       "\t<tr><td>3</td><td>3</td><td>7/1/47 </td><td>2023.452</td><td>3</td><td>3</td><td>1947</td><td>1947_3</td><td>-4.187</td><td>-0.2064963</td></tr>\n",
       "\t<tr><td>4</td><td>4</td><td>10/1/47</td><td>2055.103</td><td>4</td><td>4</td><td>1947</td><td>1947_4</td><td>31.651</td><td> 1.5642081</td></tr>\n",
       "\t<tr><td>5</td><td>5</td><td>1/1/48 </td><td>2086.017</td><td>1</td><td>5</td><td>1948</td><td>1948_5</td><td>30.914</td><td> 1.5042555</td></tr>\n",
       "\t<tr><td>6</td><td>6</td><td>4/1/48 </td><td>2120.450</td><td>2</td><td>6</td><td>1948</td><td>1948_6</td><td>34.433</td><td> 1.6506577</td></tr>\n",
       "</tbody>\n",
       "</table>\n"
      ],
      "text/latex": [
       "A tibble: 6 × 10\n",
       "\\begin{tabular}{llllllllll}\n",
       " ...1 & ...2 & date & GDPC1 & quarter\\_yr & quarter\\_cycle & year & year\\_qt & GDP\\_growth\\_qt & GDP\\_growth\\_pct\\\\\n",
       " <dbl> & <dbl> & <chr> & <dbl> & <dbl> & <dbl> & <dbl> & <chr> & <dbl> & <dbl>\\\\\n",
       "\\hline\n",
       "\t 1 & 1 & 1/1/47  & 2033.061 & 1 & 1 & 1947 & 1947\\_1 &  0.000 &  0.0000000\\\\\n",
       "\t 2 & 2 & 4/1/47  & 2027.639 & 2 & 2 & 1947 & 1947\\_2 & -5.422 & -0.2666915\\\\\n",
       "\t 3 & 3 & 7/1/47  & 2023.452 & 3 & 3 & 1947 & 1947\\_3 & -4.187 & -0.2064963\\\\\n",
       "\t 4 & 4 & 10/1/47 & 2055.103 & 4 & 4 & 1947 & 1947\\_4 & 31.651 &  1.5642081\\\\\n",
       "\t 5 & 5 & 1/1/48  & 2086.017 & 1 & 5 & 1948 & 1948\\_5 & 30.914 &  1.5042555\\\\\n",
       "\t 6 & 6 & 4/1/48  & 2120.450 & 2 & 6 & 1948 & 1948\\_6 & 34.433 &  1.6506577\\\\\n",
       "\\end{tabular}\n"
      ],
      "text/markdown": [
       "\n",
       "A tibble: 6 × 10\n",
       "\n",
       "| ...1 &lt;dbl&gt; | ...2 &lt;dbl&gt; | date &lt;chr&gt; | GDPC1 &lt;dbl&gt; | quarter_yr &lt;dbl&gt; | quarter_cycle &lt;dbl&gt; | year &lt;dbl&gt; | year_qt &lt;chr&gt; | GDP_growth_qt &lt;dbl&gt; | GDP_growth_pct &lt;dbl&gt; |\n",
       "|---|---|---|---|---|---|---|---|---|---|\n",
       "| 1 | 1 | 1/1/47  | 2033.061 | 1 | 1 | 1947 | 1947_1 |  0.000 |  0.0000000 |\n",
       "| 2 | 2 | 4/1/47  | 2027.639 | 2 | 2 | 1947 | 1947_2 | -5.422 | -0.2666915 |\n",
       "| 3 | 3 | 7/1/47  | 2023.452 | 3 | 3 | 1947 | 1947_3 | -4.187 | -0.2064963 |\n",
       "| 4 | 4 | 10/1/47 | 2055.103 | 4 | 4 | 1947 | 1947_4 | 31.651 |  1.5642081 |\n",
       "| 5 | 5 | 1/1/48  | 2086.017 | 1 | 5 | 1948 | 1948_5 | 30.914 |  1.5042555 |\n",
       "| 6 | 6 | 4/1/48  | 2120.450 | 2 | 6 | 1948 | 1948_6 | 34.433 |  1.6506577 |\n",
       "\n"
      ],
      "text/plain": [
       "  ...1 ...2 date    GDPC1    quarter_yr quarter_cycle year year_qt\n",
       "1 1    1    1/1/47  2033.061 1          1             1947 1947_1 \n",
       "2 2    2    4/1/47  2027.639 2          2             1947 1947_2 \n",
       "3 3    3    7/1/47  2023.452 3          3             1947 1947_3 \n",
       "4 4    4    10/1/47 2055.103 4          4             1947 1947_4 \n",
       "5 5    5    1/1/48  2086.017 1          5             1948 1948_5 \n",
       "6 6    6    4/1/48  2120.450 2          6             1948 1948_6 \n",
       "  GDP_growth_qt GDP_growth_pct\n",
       "1  0.000         0.0000000    \n",
       "2 -5.422        -0.2666915    \n",
       "3 -4.187        -0.2064963    \n",
       "4 31.651         1.5642081    \n",
       "5 30.914         1.5042555    \n",
       "6 34.433         1.6506577    "
      ]
     },
     "metadata": {},
     "output_type": "display_data"
    }
   ],
   "source": [
    "GDP_df = read_csv(\"Section Data/GDP_quarterly.csv\")\n",
    "head(GDP_df)"
   ]
  },
  {
   "cell_type": "code",
   "execution_count": 28,
   "metadata": {
    "vscode": {
     "languageId": "r"
    }
   },
   "outputs": [],
   "source": [
    "GDP_data = GDP_df %>% \n",
    "  filter(year %% 2 == 0 & year %% 4 != 0 & quarter_yr == 4) %>% select(year, GDP_growth_pct)"
   ]
  },
  {
   "cell_type": "code",
   "execution_count": 29,
   "metadata": {
    "vscode": {
     "languageId": "r"
    }
   },
   "outputs": [],
   "source": [
    "natl_df = left_join(natl_df, GDP_data, by = \"year\")"
   ]
  },
  {
   "cell_type": "code",
   "execution_count": 30,
   "metadata": {
    "vscode": {
     "languageId": "r"
    }
   },
   "outputs": [
    {
     "data": {
      "text/html": [
       "<table class=\"dataframe\">\n",
       "<caption>A grouped_df: 6 × 6</caption>\n",
       "<thead>\n",
       "\t<tr><th scope=col>year</th><th scope=col>UNRATE</th><th scope=col>unemp_diff</th><th scope=col>H_incumbent_party_majorvote_pct</th><th scope=col>CPI_diff</th><th scope=col>GDP_growth_pct</th></tr>\n",
       "\t<tr><th scope=col>&lt;dbl&gt;</th><th scope=col>&lt;dbl&gt;</th><th scope=col>&lt;dbl&gt;</th><th scope=col>&lt;dbl&gt;</th><th scope=col>&lt;dbl&gt;</th><th scope=col>&lt;dbl&gt;</th></tr>\n",
       "</thead>\n",
       "<tbody>\n",
       "\t<tr><td>1950</td><td>4.2</td><td>-0.8</td><td>49.71</td><td> 0.43</td><td> 1.9147630</td></tr>\n",
       "\t<tr><td>1954</td><td>5.7</td><td>-0.1</td><td>52.40</td><td>-0.14</td><td> 1.9566831</td></tr>\n",
       "\t<tr><td>1958</td><td>6.7</td><td>-0.8</td><td>54.97</td><td> 0.02</td><td> 2.3393054</td></tr>\n",
       "\t<tr><td>1962</td><td>5.4</td><td> 0.0</td><td>52.87</td><td> 0.16</td><td> 0.3288607</td></tr>\n",
       "\t<tr><td>1966</td><td>3.7</td><td>-0.1</td><td>50.86</td><td> 0.40</td><td> 0.8203723</td></tr>\n",
       "\t<tr><td>1970</td><td>5.5</td><td> 0.5</td><td>54.22</td><td> 0.50</td><td>-1.0716435</td></tr>\n",
       "</tbody>\n",
       "</table>\n"
      ],
      "text/latex": [
       "A grouped\\_df: 6 × 6\n",
       "\\begin{tabular}{llllll}\n",
       " year & UNRATE & unemp\\_diff & H\\_incumbent\\_party\\_majorvote\\_pct & CPI\\_diff & GDP\\_growth\\_pct\\\\\n",
       " <dbl> & <dbl> & <dbl> & <dbl> & <dbl> & <dbl>\\\\\n",
       "\\hline\n",
       "\t 1950 & 4.2 & -0.8 & 49.71 &  0.43 &  1.9147630\\\\\n",
       "\t 1954 & 5.7 & -0.1 & 52.40 & -0.14 &  1.9566831\\\\\n",
       "\t 1958 & 6.7 & -0.8 & 54.97 &  0.02 &  2.3393054\\\\\n",
       "\t 1962 & 5.4 &  0.0 & 52.87 &  0.16 &  0.3288607\\\\\n",
       "\t 1966 & 3.7 & -0.1 & 50.86 &  0.40 &  0.8203723\\\\\n",
       "\t 1970 & 5.5 &  0.5 & 54.22 &  0.50 & -1.0716435\\\\\n",
       "\\end{tabular}\n"
      ],
      "text/markdown": [
       "\n",
       "A grouped_df: 6 × 6\n",
       "\n",
       "| year &lt;dbl&gt; | UNRATE &lt;dbl&gt; | unemp_diff &lt;dbl&gt; | H_incumbent_party_majorvote_pct &lt;dbl&gt; | CPI_diff &lt;dbl&gt; | GDP_growth_pct &lt;dbl&gt; |\n",
       "|---|---|---|---|---|---|\n",
       "| 1950 | 4.2 | -0.8 | 49.71 |  0.43 |  1.9147630 |\n",
       "| 1954 | 5.7 | -0.1 | 52.40 | -0.14 |  1.9566831 |\n",
       "| 1958 | 6.7 | -0.8 | 54.97 |  0.02 |  2.3393054 |\n",
       "| 1962 | 5.4 |  0.0 | 52.87 |  0.16 |  0.3288607 |\n",
       "| 1966 | 3.7 | -0.1 | 50.86 |  0.40 |  0.8203723 |\n",
       "| 1970 | 5.5 |  0.5 | 54.22 |  0.50 | -1.0716435 |\n",
       "\n"
      ],
      "text/plain": [
       "  year UNRATE unemp_diff H_incumbent_party_majorvote_pct CPI_diff\n",
       "1 1950 4.2    -0.8       49.71                            0.43   \n",
       "2 1954 5.7    -0.1       52.40                           -0.14   \n",
       "3 1958 6.7    -0.8       54.97                            0.02   \n",
       "4 1962 5.4     0.0       52.87                            0.16   \n",
       "5 1966 3.7    -0.1       50.86                            0.40   \n",
       "6 1970 5.5     0.5       54.22                            0.50   \n",
       "  GDP_growth_pct\n",
       "1  1.9147630    \n",
       "2  1.9566831    \n",
       "3  2.3393054    \n",
       "4  0.3288607    \n",
       "5  0.8203723    \n",
       "6 -1.0716435    "
      ]
     },
     "metadata": {},
     "output_type": "display_data"
    }
   ],
   "source": [
    "head(natl_df)"
   ]
  },
  {
   "cell_type": "code",
   "execution_count": 32,
   "metadata": {
    "vscode": {
     "languageId": "r"
    }
   },
   "outputs": [
    {
     "name": "stderr",
     "output_type": "stream",
     "text": [
      "\u001b[1m\u001b[22mNew names:\n",
      "\u001b[36m*\u001b[39m `` -> `...1`\n",
      "\u001b[1mRows: \u001b[22m\u001b[34m254\u001b[39m \u001b[1mColumns: \u001b[22m\u001b[34m9\u001b[39m\n",
      "\u001b[36m--\u001b[39m \u001b[1mColumn specification\u001b[22m \u001b[36m--------------------------------------------------------\u001b[39m\n",
      "\u001b[1mDelimiter:\u001b[22m \",\"\n",
      "\u001b[31mchr\u001b[39m (2): date, year_qt\n",
      "\u001b[32mdbl\u001b[39m (7): ...1, year, quarter_yr, quarter_cycle, DSPIC_qt, DSPIC_change_qt, D...\n",
      "\n",
      "\u001b[36mi\u001b[39m Use `spec()` to retrieve the full column specification for this data.\n",
      "\u001b[36mi\u001b[39m Specify the column types or set `show_col_types = FALSE` to quiet this message.\n"
     ]
    },
    {
     "data": {
      "text/html": [
       "<table class=\"dataframe\">\n",
       "<caption>A tibble: 6 × 9</caption>\n",
       "<thead>\n",
       "\t<tr><th scope=col>...1</th><th scope=col>date</th><th scope=col>year</th><th scope=col>quarter_yr</th><th scope=col>quarter_cycle</th><th scope=col>year_qt</th><th scope=col>DSPIC_qt</th><th scope=col>DSPIC_change_qt</th><th scope=col>DSPIC_change_pct</th></tr>\n",
       "\t<tr><th scope=col>&lt;dbl&gt;</th><th scope=col>&lt;chr&gt;</th><th scope=col>&lt;dbl&gt;</th><th scope=col>&lt;dbl&gt;</th><th scope=col>&lt;dbl&gt;</th><th scope=col>&lt;chr&gt;</th><th scope=col>&lt;dbl&gt;</th><th scope=col>&lt;dbl&gt;</th><th scope=col>&lt;dbl&gt;</th></tr>\n",
       "</thead>\n",
       "<tbody>\n",
       "\t<tr><td>1</td><td>1/1/59 </td><td>1959</td><td>1</td><td>1</td><td>1959_1</td><td>6587.4</td><td>  0.0</td><td> 0.0000000</td></tr>\n",
       "\t<tr><td>2</td><td>4/1/59 </td><td>1959</td><td>2</td><td>2</td><td>1959_2</td><td>6693.7</td><td>106.3</td><td> 1.6136867</td></tr>\n",
       "\t<tr><td>3</td><td>7/1/59 </td><td>1959</td><td>3</td><td>3</td><td>1959_3</td><td>6684.6</td><td> -9.1</td><td>-0.1359487</td></tr>\n",
       "\t<tr><td>4</td><td>10/1/59</td><td>1959</td><td>4</td><td>4</td><td>1959_4</td><td>6732.1</td><td> 47.5</td><td> 0.7105885</td></tr>\n",
       "\t<tr><td>5</td><td>1/1/60 </td><td>1960</td><td>1</td><td>5</td><td>1960_5</td><td>6809.9</td><td> 77.8</td><td> 1.1556572</td></tr>\n",
       "\t<tr><td>6</td><td>4/1/60 </td><td>1960</td><td>2</td><td>6</td><td>1960_6</td><td>6853.9</td><td> 44.0</td><td> 0.6461182</td></tr>\n",
       "</tbody>\n",
       "</table>\n"
      ],
      "text/latex": [
       "A tibble: 6 × 9\n",
       "\\begin{tabular}{lllllllll}\n",
       " ...1 & date & year & quarter\\_yr & quarter\\_cycle & year\\_qt & DSPIC\\_qt & DSPIC\\_change\\_qt & DSPIC\\_change\\_pct\\\\\n",
       " <dbl> & <chr> & <dbl> & <dbl> & <dbl> & <chr> & <dbl> & <dbl> & <dbl>\\\\\n",
       "\\hline\n",
       "\t 1 & 1/1/59  & 1959 & 1 & 1 & 1959\\_1 & 6587.4 &   0.0 &  0.0000000\\\\\n",
       "\t 2 & 4/1/59  & 1959 & 2 & 2 & 1959\\_2 & 6693.7 & 106.3 &  1.6136867\\\\\n",
       "\t 3 & 7/1/59  & 1959 & 3 & 3 & 1959\\_3 & 6684.6 &  -9.1 & -0.1359487\\\\\n",
       "\t 4 & 10/1/59 & 1959 & 4 & 4 & 1959\\_4 & 6732.1 &  47.5 &  0.7105885\\\\\n",
       "\t 5 & 1/1/60  & 1960 & 1 & 5 & 1960\\_5 & 6809.9 &  77.8 &  1.1556572\\\\\n",
       "\t 6 & 4/1/60  & 1960 & 2 & 6 & 1960\\_6 & 6853.9 &  44.0 &  0.6461182\\\\\n",
       "\\end{tabular}\n"
      ],
      "text/markdown": [
       "\n",
       "A tibble: 6 × 9\n",
       "\n",
       "| ...1 &lt;dbl&gt; | date &lt;chr&gt; | year &lt;dbl&gt; | quarter_yr &lt;dbl&gt; | quarter_cycle &lt;dbl&gt; | year_qt &lt;chr&gt; | DSPIC_qt &lt;dbl&gt; | DSPIC_change_qt &lt;dbl&gt; | DSPIC_change_pct &lt;dbl&gt; |\n",
       "|---|---|---|---|---|---|---|---|---|\n",
       "| 1 | 1/1/59  | 1959 | 1 | 1 | 1959_1 | 6587.4 |   0.0 |  0.0000000 |\n",
       "| 2 | 4/1/59  | 1959 | 2 | 2 | 1959_2 | 6693.7 | 106.3 |  1.6136867 |\n",
       "| 3 | 7/1/59  | 1959 | 3 | 3 | 1959_3 | 6684.6 |  -9.1 | -0.1359487 |\n",
       "| 4 | 10/1/59 | 1959 | 4 | 4 | 1959_4 | 6732.1 |  47.5 |  0.7105885 |\n",
       "| 5 | 1/1/60  | 1960 | 1 | 5 | 1960_5 | 6809.9 |  77.8 |  1.1556572 |\n",
       "| 6 | 4/1/60  | 1960 | 2 | 6 | 1960_6 | 6853.9 |  44.0 |  0.6461182 |\n",
       "\n"
      ],
      "text/plain": [
       "  ...1 date    year quarter_yr quarter_cycle year_qt DSPIC_qt DSPIC_change_qt\n",
       "1 1    1/1/59  1959 1          1             1959_1  6587.4     0.0          \n",
       "2 2    4/1/59  1959 2          2             1959_2  6693.7   106.3          \n",
       "3 3    7/1/59  1959 3          3             1959_3  6684.6    -9.1          \n",
       "4 4    10/1/59 1959 4          4             1959_4  6732.1    47.5          \n",
       "5 5    1/1/60  1960 1          5             1960_5  6809.9    77.8          \n",
       "6 6    4/1/60  1960 2          6             1960_6  6853.9    44.0          \n",
       "  DSPIC_change_pct\n",
       "1  0.0000000      \n",
       "2  1.6136867      \n",
       "3 -0.1359487      \n",
       "4  0.7105885      \n",
       "5  1.1556572      \n",
       "6  0.6461182      "
      ]
     },
     "metadata": {},
     "output_type": "display_data"
    }
   ],
   "source": [
    "RDI_df = read_csv(\"Section Data/RDI_quarterly.csv\")\n",
    "head(RDI_df)"
   ]
  },
  {
   "cell_type": "code",
   "execution_count": 34,
   "metadata": {
    "vscode": {
     "languageId": "r"
    }
   },
   "outputs": [],
   "source": [
    "RDI_data = RDI_df %>% \n",
    "  filter(year %% 2 == 0 & year %% 4 != 0 & quarter_yr == 4) %>% select(year, DSPIC_change_pct)"
   ]
  },
  {
   "cell_type": "code",
   "execution_count": 35,
   "metadata": {
    "vscode": {
     "languageId": "r"
    }
   },
   "outputs": [
    {
     "data": {
      "text/html": [
       "<table class=\"dataframe\">\n",
       "<caption>A grouped_df: 6 × 7</caption>\n",
       "<thead>\n",
       "\t<tr><th scope=col>year</th><th scope=col>UNRATE</th><th scope=col>unemp_diff</th><th scope=col>H_incumbent_party_majorvote_pct</th><th scope=col>CPI_diff</th><th scope=col>GDP_growth_pct</th><th scope=col>DSPIC_change_pct</th></tr>\n",
       "\t<tr><th scope=col>&lt;dbl&gt;</th><th scope=col>&lt;dbl&gt;</th><th scope=col>&lt;dbl&gt;</th><th scope=col>&lt;dbl&gt;</th><th scope=col>&lt;dbl&gt;</th><th scope=col>&lt;dbl&gt;</th><th scope=col>&lt;dbl&gt;</th></tr>\n",
       "</thead>\n",
       "<tbody>\n",
       "\t<tr><td>1950</td><td>4.2</td><td>-0.8</td><td>49.71</td><td> 0.43</td><td> 1.9147630</td><td>        NA</td></tr>\n",
       "\t<tr><td>1954</td><td>5.7</td><td>-0.1</td><td>52.40</td><td>-0.14</td><td> 1.9566831</td><td>        NA</td></tr>\n",
       "\t<tr><td>1958</td><td>6.7</td><td>-0.8</td><td>54.97</td><td> 0.02</td><td> 2.3393054</td><td>        NA</td></tr>\n",
       "\t<tr><td>1962</td><td>5.4</td><td> 0.0</td><td>52.87</td><td> 0.16</td><td> 0.3288607</td><td> 0.8863441</td></tr>\n",
       "\t<tr><td>1966</td><td>3.7</td><td>-0.1</td><td>50.86</td><td> 0.40</td><td> 0.8203723</td><td> 1.1716140</td></tr>\n",
       "\t<tr><td>1970</td><td>5.5</td><td> 0.5</td><td>54.22</td><td> 0.50</td><td>-1.0716435</td><td>-0.2401058</td></tr>\n",
       "</tbody>\n",
       "</table>\n"
      ],
      "text/latex": [
       "A grouped\\_df: 6 × 7\n",
       "\\begin{tabular}{lllllll}\n",
       " year & UNRATE & unemp\\_diff & H\\_incumbent\\_party\\_majorvote\\_pct & CPI\\_diff & GDP\\_growth\\_pct & DSPIC\\_change\\_pct\\\\\n",
       " <dbl> & <dbl> & <dbl> & <dbl> & <dbl> & <dbl> & <dbl>\\\\\n",
       "\\hline\n",
       "\t 1950 & 4.2 & -0.8 & 49.71 &  0.43 &  1.9147630 &         NA\\\\\n",
       "\t 1954 & 5.7 & -0.1 & 52.40 & -0.14 &  1.9566831 &         NA\\\\\n",
       "\t 1958 & 6.7 & -0.8 & 54.97 &  0.02 &  2.3393054 &         NA\\\\\n",
       "\t 1962 & 5.4 &  0.0 & 52.87 &  0.16 &  0.3288607 &  0.8863441\\\\\n",
       "\t 1966 & 3.7 & -0.1 & 50.86 &  0.40 &  0.8203723 &  1.1716140\\\\\n",
       "\t 1970 & 5.5 &  0.5 & 54.22 &  0.50 & -1.0716435 & -0.2401058\\\\\n",
       "\\end{tabular}\n"
      ],
      "text/markdown": [
       "\n",
       "A grouped_df: 6 × 7\n",
       "\n",
       "| year &lt;dbl&gt; | UNRATE &lt;dbl&gt; | unemp_diff &lt;dbl&gt; | H_incumbent_party_majorvote_pct &lt;dbl&gt; | CPI_diff &lt;dbl&gt; | GDP_growth_pct &lt;dbl&gt; | DSPIC_change_pct &lt;dbl&gt; |\n",
       "|---|---|---|---|---|---|---|\n",
       "| 1950 | 4.2 | -0.8 | 49.71 |  0.43 |  1.9147630 |         NA |\n",
       "| 1954 | 5.7 | -0.1 | 52.40 | -0.14 |  1.9566831 |         NA |\n",
       "| 1958 | 6.7 | -0.8 | 54.97 |  0.02 |  2.3393054 |         NA |\n",
       "| 1962 | 5.4 |  0.0 | 52.87 |  0.16 |  0.3288607 |  0.8863441 |\n",
       "| 1966 | 3.7 | -0.1 | 50.86 |  0.40 |  0.8203723 |  1.1716140 |\n",
       "| 1970 | 5.5 |  0.5 | 54.22 |  0.50 | -1.0716435 | -0.2401058 |\n",
       "\n"
      ],
      "text/plain": [
       "  year UNRATE unemp_diff H_incumbent_party_majorvote_pct CPI_diff\n",
       "1 1950 4.2    -0.8       49.71                            0.43   \n",
       "2 1954 5.7    -0.1       52.40                           -0.14   \n",
       "3 1958 6.7    -0.8       54.97                            0.02   \n",
       "4 1962 5.4     0.0       52.87                            0.16   \n",
       "5 1966 3.7    -0.1       50.86                            0.40   \n",
       "6 1970 5.5     0.5       54.22                            0.50   \n",
       "  GDP_growth_pct DSPIC_change_pct\n",
       "1  1.9147630             NA      \n",
       "2  1.9566831             NA      \n",
       "3  2.3393054             NA      \n",
       "4  0.3288607      0.8863441      \n",
       "5  0.8203723      1.1716140      \n",
       "6 -1.0716435     -0.2401058      "
      ]
     },
     "metadata": {},
     "output_type": "display_data"
    }
   ],
   "source": [
    "natl_df = left_join(natl_df, RDI_data, by = \"year\")\n",
    "head(natl_df)"
   ]
  },
  {
   "cell_type": "code",
   "execution_count": 48,
   "metadata": {
    "vscode": {
     "languageId": "r"
    }
   },
   "outputs": [],
   "source": [
    "natl_lm_unemp = lm(H_incumbent_party_majorvote_pct ~ UNRATE, data = natl_df)\n",
    "natl_lm_undiff = lm(H_incumbent_party_majorvote_pct ~ unemp_diff, data = natl_df)\n",
    "natl_lm_CPI = lm(H_incumbent_party_majorvote_pct ~ CPI_diff, data = natl_df)\n",
    "natl_lm_GDP = lm(H_incumbent_party_majorvote_pct ~ GDP_growth_pct, data = natl_df)\n",
    "natl_lm_RDI = lm(H_incumbent_party_majorvote_pct ~ DSPIC_change_pct, data = natl_df)"
   ]
  },
  {
   "cell_type": "code",
   "execution_count": 74,
   "metadata": {
    "vscode": {
     "languageId": "r"
    }
   },
   "outputs": [],
   "source": [
    "lms = list(natl_lm_unemp, natl_lm_undiff, natl_lm_CPI, natl_lm_GDP, natl_lm_RDI)"
   ]
  },
  {
   "cell_type": "code",
   "execution_count": 75,
   "metadata": {
    "vscode": {
     "languageId": "r"
    }
   },
   "outputs": [],
   "source": [
    "lm_names = list(\"Unemployment (Q8)\", \"Unemployment Change (Q7 -> Q8)\", \"CPI Change (Q7 -> Q8)\", \"GDP Change (Q7 -> Q8)\", \"RDI Change (Q7 -> Q8)\")"
   ]
  },
  {
   "cell_type": "code",
   "execution_count": 76,
   "metadata": {
    "vscode": {
     "languageId": "r"
    }
   },
   "outputs": [
    {
     "name": "stdout",
     "output_type": "stream",
     "text": [
      "[[1]]\n",
      "[1] \"Unemployment (Q8)\"\n",
      "\n",
      "[1] 0.1061855\n",
      "[[1]]\n",
      "[1] \"Unemployment Change (Q7 -> Q8)\"\n",
      "\n",
      "[1] 0.1770737\n",
      "[[1]]\n",
      "[1] \"CPI Change (Q7 -> Q8)\"\n",
      "\n",
      "[1] 0.07291477\n",
      "[[1]]\n",
      "[1] \"GDP Change (Q7 -> Q8)\"\n",
      "\n",
      "[1] 0.065805\n",
      "[[1]]\n",
      "[1] \"RDI Change (Q7 -> Q8)\"\n",
      "\n",
      "[1] 0.4726214\n"
     ]
    }
   ],
   "source": [
    "for (i in 1:length(lms)) {\n",
    "  print(lm_names[i])\n",
    "  print(summary(lms[[i]])$r.squared)\n",
    "}"
   ]
  },
  {
   "cell_type": "code",
   "execution_count": 81,
   "metadata": {
    "vscode": {
     "languageId": "r"
    }
   },
   "outputs": [
    {
     "data": {
      "image/png": "[encoded data removed]",
      "text/plain": [
       "Plot with title \"Unemployment (Q8)\""
      ]
     },
     "metadata": {
      "image/png": {
       "height": 420,
       "width": 420
      }
     },
     "output_type": "display_data"
    },
    {
     "data": {
      "image/png": "[encoded data removed]",
      "text/plain": [
       "Plot with title \"Unemployment Change (Q7 -> Q8)\""
      ]
     },
     "metadata": {
      "image/png": {
       "height": 420,
       "width": 420
      }
     },
     "output_type": "display_data"
    },
    {
     "data": {
      "image/png": "[encoded data removed]",
      "text/plain": [
       "Plot with title \"CPI Change (Q7 -> Q8)\""
      ]
     },
     "metadata": {
      "image/png": {
       "height": 420,
       "width": 420
      }
     },
     "output_type": "display_data"
    },
    {
     "data": {
      "image/png": "[encoded data removed]",
      "text/plain": [
       "Plot with title \"GDP Change (Q7 -> Q8)\""
      ]
     },
     "metadata": {
      "image/png": {
       "height": 420,
       "width": 420
      }
     },
     "output_type": "display_data"
    },
    {
     "data": {
      "image/png": "[encoded data removed]",
      "text/plain": [
       "Plot with title \"RDI Change (Q7 -> Q8)\""
      ]
     },
     "metadata": {
      "image/png": {
       "height": 420,
       "width": 420
      }
     },
     "output_type": "display_data"
    }
   ],
   "source": [
    "for (i in 1:length(lms)) {\n",
    "  hist(residuals(lms[[i]]), main = lm_names[i], xlab = \"Residuals\")\n",
    "}"
   ]
  },
  {
   "cell_type": "code",
   "execution_count": 96,
   "metadata": {
    "vscode": {
     "languageId": "r"
    }
   },
   "outputs": [
    {
     "data": {
      "image/png": "[encoded data removed]",
      "text/plain": [
       "Plot with title \"Histogram of outsamp_errs_unemp\""
      ]
     },
     "metadata": {
      "image/png": {
       "height": 420,
       "width": 420
      }
     },
     "output_type": "display_data"
    }
   ],
   "source": [
    "outsamp_errs_unemp = sapply(1:1000, function(i) {\n",
    "years_outsamp =  sample(natl_df$year, 4) # 4 / 18 = 22% of data\n",
    "mod = lm(H_incumbent_party_majorvote_pct ~ UNRATE, data = natl_df %>% filter(!year %in% years_outsamp))\n",
    "outsamp_preds = predict(mod, natl_df %>% filter(year %in% years_outsamp)) \n",
    "err = ((outsamp_preds - (natl_df %>% filter(year %in% years_outsamp))$H_incumbent_party_majorvote_pct))\n",
    "err\n",
    "})\n",
    "hist(outsamp_errs_unemp)\n"
   ]
  },
  {
   "cell_type": "code",
   "execution_count": 97,
   "metadata": {
    "vscode": {
     "languageId": "r"
    }
   },
   "outputs": [
    {
     "data": {
      "image/png": "[encoded data removed]",
      "text/plain": [
       "Plot with title \"Histogram of outsamp_errs_unemp_diff\""
      ]
     },
     "metadata": {
      "image/png": {
       "height": 420,
       "width": 420
      }
     },
     "output_type": "display_data"
    }
   ],
   "source": [
    "outsamp_errs_unemp_diff = sapply(1:1000, function(i) {\n",
    "years_outsamp =  sample(natl_df$year, 4) # 4 / 18 = 22% of data\n",
    "mod = lm(H_incumbent_party_majorvote_pct ~ unemp_diff, data = natl_df %>% filter(!year %in% years_outsamp))\n",
    "outsamp_preds = predict(mod, natl_df %>% filter(year %in% years_outsamp)) \n",
    "err = ((outsamp_preds - (natl_df %>% filter(year %in% years_outsamp))$H_incumbent_party_majorvote_pct))\n",
    "err\n",
    "})\n",
    "hist(outsamp_errs_unemp_diff)\n"
   ]
  },
  {
   "cell_type": "code",
   "execution_count": 98,
   "metadata": {
    "vscode": {
     "languageId": "r"
    }
   },
   "outputs": [
    {
     "data": {
      "image/png": "[encoded data removed]",
      "text/plain": [
       "Plot with title \"Histogram of outsamp_errs_gdp\""
      ]
     },
     "metadata": {
      "image/png": {
       "height": 420,
       "width": 420
      }
     },
     "output_type": "display_data"
    }
   ],
   "source": [
    "outsamp_errs_gdp = sapply(1:1000, function(i) {\n",
    "years_outsamp =  sample(natl_df$year, 4) # 4 / 18 = 22% of data\n",
    "mod = lm(H_incumbent_party_majorvote_pct ~ GDP_growth_pct, data = natl_df %>% filter(!year %in% years_outsamp))\n",
    "outsamp_preds = predict(mod, natl_df %>% filter(year %in% years_outsamp)) \n",
    "err = ((outsamp_preds - (natl_df %>% filter(year %in% years_outsamp))$H_incumbent_party_majorvote_pct))\n",
    "err\n",
    "})\n",
    "hist(outsamp_errs_gdp)\n"
   ]
  },
  {
   "cell_type": "code",
   "execution_count": 99,
   "metadata": {
    "vscode": {
     "languageId": "r"
    }
   },
   "outputs": [
    {
     "data": {
      "image/png": "[encoded data removed]",
      "text/plain": [
       "Plot with title \"Histogram of outsamp_errs_rdi\""
      ]
     },
     "metadata": {
      "image/png": {
       "height": 420,
       "width": 420
      }
     },
     "output_type": "display_data"
    }
   ],
   "source": [
    "outsamp_errs_rdi = sapply(1:1000, function(i) {\n",
    "years_outsamp =  sample(natl_df$year, 4) # 4 / 18 = 22% of data\n",
    "mod = lm(H_incumbent_party_majorvote_pct ~ DSPIC_change_pct, data = natl_df %>% filter(!year %in% years_outsamp))\n",
    "outsamp_preds = predict(mod, natl_df %>% filter(year %in% years_outsamp)) \n",
    "err = ((outsamp_preds - (natl_df %>% filter(year %in% years_outsamp))$H_incumbent_party_majorvote_pct))\n",
    "err\n",
    "})\n",
    "hist(outsamp_errs_rdi)\n"
   ]
  },
  {
   "cell_type": "code",
   "execution_count": 100,
   "metadata": {
    "vscode": {
     "languageId": "r"
    }
   },
   "outputs": [
    {
     "data": {
      "image/png": "[encoded data removed]",
      "text/plain": [
       "Plot with title \"Histogram of outsamp_errs_cpi\""
      ]
     },
     "metadata": {
      "image/png": {
       "height": 420,
       "width": 420
      }
     },
     "output_type": "display_data"
    }
   ],
   "source": [
    "outsamp_errs_cpi = sapply(1:1000, function(i) {\n",
    "years_outsamp =  sample(natl_df$year, 4) # 4 / 18 = 22% of data\n",
    "mod = lm(H_incumbent_party_majorvote_pct ~ CPI_diff, data = natl_df %>% filter(!year %in% years_outsamp))\n",
    "outsamp_preds = predict(mod, natl_df %>% filter(year %in% years_outsamp)) \n",
    "err = ((outsamp_preds - (natl_df %>% filter(year %in% years_outsamp))$H_incumbent_party_majorvote_pct))\n",
    "err\n",
    "})\n",
    "hist(outsamp_errs_cpi)\n"
   ]
  },
  {
   "cell_type": "code",
   "execution_count": 106,
   "metadata": {
    "vscode": {
     "languageId": "r"
    }
   },
   "outputs": [
    {
     "data": {
      "text/html": [
       "<strong>1:</strong> 49.8078328562755"
      ],
      "text/latex": [
       "\\textbf{1:} 49.8078328562755"
      ],
      "text/markdown": [
       "**1:** 49.8078328562755"
      ],
      "text/plain": [
       "       1 \n",
       "49.80783 "
      ]
     },
     "metadata": {},
     "output_type": "display_data"
    },
    {
     "data": {
      "text/html": [
       "<strong>1:</strong> 50.1722015810277"
      ],
      "text/latex": [
       "\\textbf{1:} 50.1722015810277"
      ],
      "text/markdown": [
       "**1:** 50.1722015810277"
      ],
      "text/plain": [
       "      1 \n",
       "50.1722 "
      ]
     },
     "metadata": {},
     "output_type": "display_data"
    },
    {
     "data": {
      "text/html": [
       "<strong>1:</strong> 61.10106897875"
      ],
      "text/latex": [
       "\\textbf{1:} 61.10106897875"
      ],
      "text/markdown": [
       "**1:** 61.10106897875"
      ],
      "text/plain": [
       "       1 \n",
       "61.10107 "
      ]
     },
     "metadata": {},
     "output_type": "display_data"
    },
    {
     "data": {
      "text/html": [
       "<strong>1:</strong> 50.0335259911139"
      ],
      "text/latex": [
       "\\textbf{1:} 50.0335259911139"
      ],
      "text/markdown": [
       "**1:** 50.0335259911139"
      ],
      "text/plain": [
       "       1 \n",
       "50.03353 "
      ]
     },
     "metadata": {},
     "output_type": "display_data"
    },
    {
     "data": {
      "text/html": [
       "<strong>1:</strong> 203.840496584026"
      ],
      "text/latex": [
       "\\textbf{1:} 203.840496584026"
      ],
      "text/markdown": [
       "**1:** 203.840496584026"
      ],
      "text/plain": [
       "       1 \n",
       "203.8405 "
      ]
     },
     "metadata": {},
     "output_type": "display_data"
    }
   ],
   "source": [
    "predict(natl_lm_unemp, data.frame(UNRATE = 3.6))\n",
    "predict(natl_lm_undiff, data.frame(unemp_diff = -0.4))\n",
    "predict(natl_lm_CPI, data.frame(CPI_diff = 8.6))\n",
    "predict(natl_lm_GDP, data.frame(GDP_growth_pct = 2.03))\n",
    "predict(natl_lm_RDI, data.frame(DSPIC_change_pct = -33.3))"
   ]
  },
  {
   "cell_type": "code",
   "execution_count": null,
   "metadata": {
    "vscode": {
     "languageId": "r"
    }
   },
   "outputs": [],
   "source": []
  }
 ],
 "metadata": {
  "kernelspec": {
   "display_name": "R",
   "language": "R",
   "name": "ir"
  },
  "language_info": {
   "codemirror_mode": "r",
   "file_extension": ".r",
   "mimetype": "text/x-r-source",
   "name": "R",
   "pygments_lexer": "r",
   "version": "4.2.1"
  },
  "orig_nbformat": 4
 },
 "nbformat": 4,
 "nbformat_minor": 2
}
