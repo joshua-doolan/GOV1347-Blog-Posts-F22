{
 "cells": [
  {
   "cell_type": "code",
   "execution_count": 1,
   "metadata": {},
   "outputs": [],
   "source": [
    "import pandas as pd\n",
    "import numpy as np\n",
    "import matplotlib.pyplot as plt\n",
    "import pickle\n",
    "from scipy import stats\n",
    "from matplotlib_venn import venn3, venn3_circles"
   ]
  },
  {
   "cell_type": "code",
   "execution_count": 2,
   "metadata": {},
   "outputs": [],
   "source": [
    "import warnings\n",
    "warnings.filterwarnings('ignore')"
   ]
  },
  {
   "cell_type": "markdown",
   "metadata": {},
   "source": [
    "# Election Reflection"
   ]
  },
  {
   "cell_type": "markdown",
   "metadata": {},
   "source": [
    "## Model Recap and Predictions"
   ]
  },
  {
   "cell_type": "markdown",
   "metadata": {},
   "source": [
    "### Model Specification"
   ]
  },
  {
   "cell_type": "markdown",
   "metadata": {},
   "source": [
    "My final model used to predict election outcomes was a random forest model, which used incumbency, economic, and polling factors to predict national 2-party vote and seat share."
   ]
  },
  {
   "cell_type": "markdown",
   "metadata": {},
   "source": [
    "#### Inputs"
   ]
  },
  {
   "cell_type": "markdown",
   "metadata": {},
   "source": [
    "The factors used in the model were:\n",
    "\n",
    "1. Incumbency\n",
    "- Year of Election\n",
    "- Midterm Year Indicator\n",
    "- Party of the President\n",
    "- 2 Party seat share from the prior election (GOP)\n",
    "- 2 party vote share from the prior election (GOP)\n",
    "2. Economy\n",
    "- Consumer Sentiment Index (absolute value at time of election)\n",
    "- Consumer Sentiment Index (change from start of Congress (Q1 -> Q7 Change))\n",
    "- GDP Growth (annual growth at time of election)\n",
    "- GDP Growth (change from start of Congress (Q1 -> Q7 Change))\n",
    "- RDI Growth (annual growth at time of election)\n",
    "- RDI Growth (change from start of Congress (Q1 -> Q7 Change))\n",
    "3. Polling\n",
    "- Presidential Approval (election year average)\n",
    "- Presidential Approval (Election October & November average)\n",
    "- Generic Congressional Ballot (election year average)\n",
    "- Generic Congressional Ballot (Election October & November average)"
   ]
  },
  {
   "cell_type": "markdown",
   "metadata": {},
   "source": [
    "#### Model Type"
   ]
  },
  {
   "cell_type": "markdown",
   "metadata": {},
   "source": [
    "My final model was a random forest model, which I chose to use because it had the best out of sample performance. However, I also tried using a pure linear regression model, as well as linear regression with feature selection (LASSO regression), and these models with polynomial interaction features."
   ]
  },
  {
   "cell_type": "markdown",
   "metadata": {},
   "source": [
    "### Predictions"
   ]
  },
  {
   "cell_type": "markdown",
   "metadata": {},
   "source": [
    "My final point esteimate prediction from the model was the following:"
   ]
  },
  {
   "cell_type": "code",
   "execution_count": 3,
   "metadata": {},
   "outputs": [
    {
     "name": "stdout",
     "output_type": "stream",
     "text": [
      "Predicted 2022 Rep Seats: 224\n",
      "Predicted 2022 Rep Votes: 50.35\n"
     ]
    }
   ],
   "source": [
    "all_types_data = pickle.load(open('all_types_data.p', 'rb'))\n",
    "data_2022 = pd.read_csv(\"data_2022.csv\",index_col=0)\n",
    "train_df_nona = pd.read_csv(\"train_df_nona.csv\",index_col=0)\n",
    "train_y = pd.read_csv(\"train_y.csv\",index_col=0)\n",
    "final_model = pd.DataFrame(all_types_data[('Incumbent Factors', 'Economic Factors', 'Polling Factors')]).loc[5,\"model\"]\n",
    "preds = final_model.predict(data_2022)\n",
    "pred_seats = preds[0][0]\n",
    "pred_votes = preds[0][1]\n",
    "\n",
    "print(\"Predicted 2022 Rep Seats:\", round(435*pred_seats))\n",
    "print(\"Predicted 2022 Rep Votes:\", round(100*pred_votes, 2))"
   ]
  },
  {
   "cell_type": "markdown",
   "metadata": {},
   "source": [
    "I then had three ways of generating prediction intervals with this random forest model.\n",
    "\n",
    "1. Each Decision Tree as an i.i.d predictor\n",
    "    - Since a random forest is constructed as a collection of decision trees, I could use each decision tree as an i.i.d predictor. This is the method I used to generate the prediction intervals in the model writeup. Therefore, I then take the X% quantiles of the generated predictions.\n",
    "\n",
    "2. Normal Residuals Assumption\n",
    "    - I can assume that all the residuals are normally distributed, and use this assumption to create a prediction interval based on the residuals standard error. For both this and the next method, the residuals are the out of sample residuals (leave one out validation).\n",
    "\n",
    "3. Recently Normal Residuals Assumption\n",
    "    - I can assume that recently the residuals have been normally distributed, and therefore use the 2010+ residuals to generate the standard error."
   ]
  },
  {
   "cell_type": "code",
   "execution_count": 4,
   "metadata": {},
   "outputs": [
    {
     "name": "stdout",
     "output_type": "stream",
     "text": [
      "Random Forest 95% Seat Share PI: (169, 246)\n",
      "Random Forest 80% Seat Share PI: (178, 246)\n",
      "Random Forest 95% Vote Share PI: (44.44, 53.6)\n",
      "Random Forest 80% Vote Share PI: (44.91, 53.47)\n",
      "Normal Residuals 95% Seat Share PI: (182, 267)\n",
      "Normal Residuals 80% Seat Share PI: (197, 252)\n",
      "Normal Residuals 95% Votes Share PI: (40.57, 60.13)\n",
      "Normal Residuals 80% Votes Share PI: (47.24, 53.46)\n",
      "Recent Residuals 95% Seat Share PI: (206, 243)\n",
      "Recent Residuals 80% Seat Share PI: (212, 236)\n",
      "Recent Residuals 95% Votes Share PI: (46.16, 53.84)\n",
      "Recent Residuals 80% Votes Share PI: (48.07, 52.64)\n"
     ]
    }
   ],
   "source": [
    "predictions = [\n",
    "    {\"seat_share\": final_model.estimators_[i].predict(data_2022.to_numpy())[0][0], \n",
    "    \"vote_share\": final_model.estimators_[i].predict(data_2022.to_numpy())[0][1]} \n",
    "    for i in range(len(final_model.estimators_))\n",
    "]\n",
    "\n",
    "pis = pd.DataFrame(predictions).quantile([0.025, 0.10, 0.5, 0.90, 0.975])\n",
    "\n",
    "print(\"Random Forest 95% Seat Share PI:\", (round(435 * pis.loc[0.025,\"seat_share\"]), round(435 * pis.loc[0.975,\"seat_share\"])))\n",
    "print(\"Random Forest 80% Seat Share PI:\", (round(435 * pis.loc[0.1,\"seat_share\"]), round(435 * pis.loc[0.9,\"seat_share\"])))\n",
    "\n",
    "print(\"Random Forest 95% Vote Share PI:\", (round(100 * pis.loc[0.025,\"vote_share\"], 2), round(100 * pis.loc[0.975,\"vote_share\"], 2)))\n",
    "print(\"Random Forest 80% Vote Share PI:\", (round(100 * pis.loc[0.1,\"vote_share\"], 2), round(100 * pis.loc[0.9,\"vote_share\"], 2)))\n",
    "\n",
    "residuals = pd.DataFrame(all_types_data[('Incumbent Factors', 'Economic Factors', 'Polling Factors')]).loc[5,\"residuals\"]\n",
    "\n",
    "print(\"Normal Residuals 95% Seat Share PI:\", (round(435 * stats.norm.ppf(0.025, pred_seats, residuals.std(axis=0)[0][0])), round(435 * stats.norm.ppf(0.975, pred_seats, residuals.std(axis=0)[0][0]))))\n",
    "print(\"Normal Residuals 80% Seat Share PI:\", (round(435 * stats.norm.ppf(0.1, pred_seats, residuals.std(axis=0)[0][0])), round(435 * stats.norm.ppf(0.9, pred_seats, residuals.std(axis=0)[0][0]))))\n",
    "\n",
    "print(\"Normal Residuals 95% Votes Share PI:\", (round(100 * stats.norm.ppf(0.025, pred_votes, residuals.std(axis=0)[0][0]),2), round(100 * stats.norm.ppf(0.975, pred_votes, residuals.std(axis=0)[0][0]),2)))\n",
    "print(\"Normal Residuals 80% Votes Share PI:\", (round(100 * stats.norm.ppf(0.1, pred_votes, residuals.std(axis=0)[0][1]),2), round(100 * stats.norm.ppf(0.9, pred_votes, residuals.std(axis=0)[0][1]),2)))\n",
    "\n",
    "print(\"Recent Residuals 95% Seat Share PI:\", (round(435 * stats.norm.ppf(0.025, pred_seats, residuals[-4:,:,:].std(axis=0)[0][0])), round(435 * stats.norm.ppf(0.975, pred_seats, residuals[-4:,:,:].std(axis=0)[0][0]))))\n",
    "print(\"Recent Residuals 80% Seat Share PI:\", (round(435 * stats.norm.ppf(0.1, pred_seats, residuals[-4:,:,:].std(axis=0)[0][0])), round(435 * stats.norm.ppf(0.9, pred_seats, residuals[-4:,:,:].std(axis=0)[0][0]))))\n",
    "\n",
    "print(\"Recent Residuals 95% Votes Share PI:\", (round(100 * stats.norm.ppf(0.025, pred_votes, residuals[-4:,:,:].std(axis=0)[0][0]),2), round(100 * stats.norm.ppf(0.975, pred_votes, residuals[-4:,:,:].std(axis=0)[0][1]),2)))\n",
    "print(\"Recent Residuals 80% Votes Share PI:\", (round(100 * stats.norm.ppf(0.1, pred_votes, residuals[-4:,:,:].std(axis=0)[0][1]),2), round(100 * stats.norm.ppf(0.9, pred_votes, residuals[-4:,:,:].std(axis=0)[0][1]),2)))"
   ]
  },
  {
   "cell_type": "markdown",
   "metadata": {},
   "source": [
    "These methods clearly each have their own unique slants:\n",
    "\n",
    "1. Random Forest: Our 95\\% and 80\\% confidence intervals are incredibly close, because the random forest model essentially conducts a nearest neighbor approach, and many of the nearest neighbors are at the edges.\n",
    "2. Standard Normal: this shows a more spread out probability. However, it is symmetric (due to an assumption of zero mean), which would seem to unfairly favor Democrats (we would think it is unlikely for Dems to recieve this much vote share).\n",
    "3. Recent Normal: this seems to be the right balance of outcomes in the modern age, because it is based on the residuals from the modern age."
   ]
  },
  {
   "cell_type": "markdown",
   "metadata": {},
   "source": [
    "One way to verify our recency assumption is to view the residuals over time:"
   ]
  },
  {
   "cell_type": "code",
   "execution_count": 5,
   "metadata": {},
   "outputs": [
    {
     "data": {
      "text/plain": [
       "Text(0.5, 1.0, 'Seat Share Out of Sample Residuals')"
      ]
     },
     "execution_count": 5,
     "metadata": {},
     "output_type": "execute_result"
    },
    {
     "data": {
      "image/png": "[encoded data removed]",
      "text/plain": [
       "<Figure size 432x288 with 1 Axes>"
      ]
     },
     "metadata": {
      "needs_background": "light"
     },
     "output_type": "display_data"
    }
   ],
   "source": [
    "plt.bar(range(1980, 2022, 2), residuals[:,0,0], label=\"Residuals\")\n",
    "plt.plot(range(1984, 2022, 2), pd.DataFrame(residuals[:,0,0]).rolling(3).mean()[2:].to_numpy(), label=\"3 Election Avg.\")\n",
    "plt.legend()\n",
    "plt.title(\"Seat Share Out of Sample Residuals\")"
   ]
  },
  {
   "cell_type": "code",
   "execution_count": 6,
   "metadata": {},
   "outputs": [
    {
     "data": {
      "text/plain": [
       "Text(0.5, 1.0, 'Vote Share Out of Sample Residuals')"
      ]
     },
     "execution_count": 6,
     "metadata": {},
     "output_type": "execute_result"
    },
    {
     "data": {
      "image/png": "[encoded data removed]",
      "text/plain": [
       "<Figure size 432x288 with 1 Axes>"
      ]
     },
     "metadata": {
      "needs_background": "light"
     },
     "output_type": "display_data"
    }
   ],
   "source": [
    "plt.bar(range(1980, 2022, 2), residuals[:,0,1], label=\"Residuals\")\n",
    "plt.plot(range(1984, 2022, 2), pd.DataFrame(residuals[:,0,1]).rolling(3).mean()[2:].to_numpy(), label=\"3 Election Avg.\")\n",
    "plt.legend()\n",
    "plt.title(\"Vote Share Out of Sample Residuals\")"
   ]
  },
  {
   "cell_type": "markdown",
   "metadata": {},
   "source": [
    "It does not appear conclusive whether these residuals have moerated over time. It seems that the variance of these residuals may be decreasing in the past 3 elections, but prior to 2012, the residuals were quite large during the 2000s.\n",
    "\n",
    "However based on this, I will use method 3 for my prediction intervals for the rest of this write up."
   ]
  },
  {
   "cell_type": "markdown",
   "metadata": {},
   "source": [
    "In summary, my prediction is as follows:\n",
    "\n",
    "**Seat Prediction**: 224 R Seats, 95% PI: (206, 243), 80% PI: (212, 236)\n",
    "\n",
    "**Vote Predictions**: 50.35, 95% PI: (46.16, 53.84), 80% PI: (48.07, 52.64)"
   ]
  },
  {
   "cell_type": "markdown",
   "metadata": {},
   "source": [
    "### Comparison to Actual Results"
   ]
  },
  {
   "cell_type": "markdown",
   "metadata": {},
   "source": [
    "#### Current Results"
   ]
  },
  {
   "cell_type": "markdown",
   "metadata": {},
   "source": [
    "As of 11/22, the actual results are as follows:\n",
    "\n",
    "NYTimes Seat Lead: 213 D, 222 R\n",
    "\n",
    "Cook House Vote Tracking: 48.3 D, 51.7 R "
   ]
  },
  {
   "cell_type": "markdown",
   "metadata": {},
   "source": [
    "#### Absolute Error"
   ]
  },
  {
   "cell_type": "markdown",
   "metadata": {},
   "source": [
    "Therefore, my predictions have the following absolute error:\n",
    "\n",
    "Seats: +2 (224 v 222 R seats)\n",
    "Popular Vote: -1.3 (50.4 v 51.7 R)"
   ]
  },
  {
   "cell_type": "markdown",
   "metadata": {},
   "source": [
    "#### Comparison to Prior Residuals"
   ]
  },
  {
   "cell_type": "markdown",
   "metadata": {},
   "source": [
    "One comparison we may want to make is comparing how our 2022 error compared to our model's previous error."
   ]
  },
  {
   "cell_type": "code",
   "execution_count": 7,
   "metadata": {},
   "outputs": [],
   "source": [
    "residual_df = pd.DataFrame()\n",
    "residual_df[\"Year\"] = range(1980, 2022, 2)\n",
    "residual_df[\"Seat Resid\"] = residuals[:,0,0]\n",
    "residual_df[\"Vote Resid\"] = residuals[:,0,1]\n",
    "\n",
    "residual_df = residual_df.append({\"Year\": 2022, \"Seat Resid\": pred_seats - 224/435, \"Vote Resid\": pred_votes - 51.7/100}, ignore_index=True)\n",
    "\n",
    "residual_df = residual_df.set_index(\"Year\")"
   ]
  },
  {
   "cell_type": "code",
   "execution_count": 8,
   "metadata": {},
   "outputs": [
    {
     "data": {
      "image/png": "[encoded data removed]",
      "text/plain": [
       "<Figure size 432x288 with 1 Axes>"
      ]
     },
     "metadata": {
      "needs_background": "light"
     },
     "output_type": "display_data"
    }
   ],
   "source": [
    "barlist = plt.barh(residual_df.sort_values(\"Seat Resid\").index.astype(int).astype(str), residual_df.sort_values(\"Seat Resid\")[\"Seat Resid\"])\n",
    "barlist[13].set_color(\"r\")\n",
    "plt.title(\"2022 Seat Share Prediction Unusally Good\")\n",
    "plt.show()"
   ]
  },
  {
   "cell_type": "code",
   "execution_count": 9,
   "metadata": {},
   "outputs": [
    {
     "data": {
      "image/png": "[encoded data removed]",
      "text/plain": [
       "<Figure size 432x288 with 1 Axes>"
      ]
     },
     "metadata": {
      "needs_background": "light"
     },
     "output_type": "display_data"
    }
   ],
   "source": [
    "barlist = plt.barh(residual_df.sort_values(\"Vote Resid\").index.astype(int).astype(str), residual_df.sort_values(\"Vote Resid\")[\"Vote Resid\"])\n",
    "barlist[6].set_color(\"r\")\n",
    "plt.title(\"2022 Vote Share Prediction With Typical Error\")\n",
    "plt.show()"
   ]
  },
  {
   "cell_type": "markdown",
   "metadata": {},
   "source": [
    "From these graphs we see that in terms of seat share, our model had its best possible outcome (only a two seat difference), but in terms of vote share, our model's performance was much more typical. \n",
    "\n",
    "I'd likely chalk this outcome up to luck with regards to the votes-seats curve, which was remarkably flat. Essentially, my model predicted an outcome more favorable for Democrats with the votes, but assumed a more gerrymandered curve, and this correction happened to align much more closely with the election outcome."
   ]
  },
  {
   "cell_type": "markdown",
   "metadata": {},
   "source": [
    "#### Comparison to Predicted Outcomes"
   ]
  },
  {
   "cell_type": "markdown",
   "metadata": {},
   "source": [
    "Another comparison we may want to conduct is comparing the result to the prior probabilities we had assigned to each event occuring."
   ]
  },
  {
   "cell_type": "code",
   "execution_count": 10,
   "metadata": {},
   "outputs": [
    {
     "data": {
      "image/png": "[encoded data removed]",
      "text/plain": [
       "<Figure size 432x288 with 1 Axes>"
      ]
     },
     "metadata": {
      "needs_background": "light"
     },
     "output_type": "display_data"
    }
   ],
   "source": [
    "mu = pred_seats\n",
    "sigma = residuals[-4:,:,:].std(axis=0)[0][0]\n",
    "\n",
    "x = np.linspace(mu-4*sigma,mu+4*sigma,1000)\n",
    "\n",
    "plt.plot(x, stats.norm.pdf(x, pred_seats, residuals[-4:,:,:].std(axis=0)[0][0]))\n",
    "\n",
    "plt.axvline(222/435, label=\"Actual\", color=\"green\")\n",
    "\n",
    "plt.axvline(mu, label=\"Pred\", color=\"pink\")\n",
    "\n",
    "plt.axvline(stats.norm.ppf(0.025, pred_seats, residuals[-4:,:,:].std(axis=0)[0][0]), label=\"95 PI\", color=\"black\")\n",
    "plt.axvline(stats.norm.ppf(0.975, pred_seats, residuals[-4:,:,:].std(axis=0)[0][0]), color=\"black\")\n",
    "\n",
    "plt.axvline(stats.norm.ppf(0.1, pred_seats, residuals[-4:,:,:].std(axis=0)[0][0]), label=\"80 PI\", color=\"purple\")\n",
    "plt.axvline(stats.norm.ppf(0.9, pred_seats, residuals[-4:,:,:].std(axis=0)[0][0]), color=\"purple\")\n",
    "\n",
    "plt.legend()\n",
    "\n",
    "plt.title(\"Seat Result Distribution\")\n",
    "\n",
    "plt.show()"
   ]
  },
  {
   "cell_type": "markdown",
   "metadata": {},
   "source": [
    "Since seats are discrete, we can also turn this into a per-seat probability."
   ]
  },
  {
   "cell_type": "code",
   "execution_count": 11,
   "metadata": {},
   "outputs": [
    {
     "data": {
      "image/png": "[encoded data removed]",
      "text/plain": [
       "<Figure size 432x288 with 1 Axes>"
      ]
     },
     "metadata": {
      "needs_background": "light"
     },
     "output_type": "display_data"
    }
   ],
   "source": [
    "mu = pred_seats\n",
    "sigma = residuals[-4:,:,:].std(axis=0)[0][0]\n",
    "\n",
    "probs = [stats.norm.cdf((seats+0.5)/435, pred_seats, residuals[-4:,:,:].std(axis=0)[0][0])-stats.norm.cdf((seats-0.5)/435, pred_seats, residuals[-4:,:,:].std(axis=0)[0][0]) for seats in range(184, 261)]\n",
    "\n",
    "plt.bar(range(184, 261), probs)\n",
    "\n",
    "plt.axvline(222, label=\"Actual\", color=\"green\")\n",
    "\n",
    "plt.axvline(round(pred_seats * 435), label=\"Pred\", color=\"pink\")\n",
    "\n",
    "plt.axvline(round(435 * stats.norm.ppf(0.025, pred_seats, residuals[-4:,:,:].std(axis=0)[0][0])), label=\"95 PI\", color=\"black\")\n",
    "plt.axvline(round(435 * stats.norm.ppf(0.975, pred_seats, residuals[-4:,:,:].std(axis=0)[0][0])), color=\"black\")\n",
    "\n",
    "plt.axvline(round(435 * stats.norm.ppf(0.1, pred_seats, residuals[-4:,:,:].std(axis=0)[0][0])), label=\"80 PI\", color=\"purple\")\n",
    "plt.axvline(round(435 * stats.norm.ppf(0.9, pred_seats, residuals[-4:,:,:].std(axis=0)[0][0])), color=\"purple\")\n",
    "\n",
    "plt.legend()\n",
    "\n",
    "plt.xlabel(\"Seats\")\n",
    "plt.ylabel(\"Probability\")\n",
    "\n",
    "plt.title(\"Seat Result Distribution (Discrete)\")\n",
    "\n",
    "plt.show()"
   ]
  },
  {
   "cell_type": "code",
   "execution_count": 12,
   "metadata": {},
   "outputs": [
    {
     "data": {
      "image/png": "[encoded data removed]",
      "text/plain": [
       "<Figure size 432x288 with 1 Axes>"
      ]
     },
     "metadata": {
      "needs_background": "light"
     },
     "output_type": "display_data"
    }
   ],
   "source": [
    "mu = pred_votes\n",
    "sigma = residuals[-4:,:,:].std(axis=0)[0][0]\n",
    "\n",
    "x = np.linspace(mu-4*sigma,mu+4*sigma,1000)\n",
    "\n",
    "plt.plot(x, stats.norm.pdf(x, pred_votes, residuals[-4:,:,:].std(axis=0)[0][1]))\n",
    "\n",
    "plt.axvline(222/435, label=\"Actual\", color=\"green\")\n",
    "\n",
    "plt.axvline(mu, label=\"Pred\", color=\"pink\")\n",
    "\n",
    "plt.axvline(stats.norm.ppf(0.025, pred_votes, residuals[-4:,:,:].std(axis=0)[0][1]), label=\"95 PI\", color=\"black\")\n",
    "plt.axvline(stats.norm.ppf(0.975, pred_votes, residuals[-4:,:,:].std(axis=0)[0][1]), color=\"black\")\n",
    "\n",
    "plt.axvline(stats.norm.ppf(0.1, pred_votes, residuals[-4:,:,:].std(axis=0)[0][1]), label=\"80 PI\", color=\"purple\")\n",
    "plt.axvline(stats.norm.ppf(0.9, pred_votes, residuals[-4:,:,:].std(axis=0)[0][1]), color=\"purple\")\n",
    "\n",
    "plt.legend()\n",
    "\n",
    "plt.title(\"Vote Result Distribution\")\n",
    "\n",
    "plt.show()"
   ]
  },
  {
   "cell_type": "markdown",
   "metadata": {},
   "source": [
    "From this analysis we seem to find further validation of our prior analyses, that the outcome fell well within the range of our expected outcomes, and perhaps even unusually close."
   ]
  },
  {
   "cell_type": "markdown",
   "metadata": {},
   "source": [
    "## Proposed Hyptheses"
   ]
  },
  {
   "cell_type": "markdown",
   "metadata": {},
   "source": [
    "### Factor Analysis"
   ]
  },
  {
   "cell_type": "markdown",
   "metadata": {},
   "source": [
    "When I created my model, I deliberately split it into 3 categories of input variables: incumbent factors, economic factors, and polling factors. We can try to ascertain how much each mattered, by training models which isolate only these factors:"
   ]
  },
  {
   "cell_type": "code",
   "execution_count": 13,
   "metadata": {},
   "outputs": [
    {
     "data": {
      "text/plain": [
       "{'Incumbent Factors': ['year',\n",
       "  'is_midterm_year',\n",
       "  'rep_pres',\n",
       "  'RepSeatShare_prior',\n",
       "  'RepVoteShare_prior'],\n",
       " 'Economic Factors': ['absolute_sentiment',\n",
       "  'sentiment_change',\n",
       "  'absolute_gdp',\n",
       "  'gdp_change',\n",
       "  'rdi',\n",
       "  'rdi_change'],\n",
       " 'Polling Factors': ['annual_poll_approval',\n",
       "  'two_month_poll_approval',\n",
       "  'annual_poll_disapproval',\n",
       "  'two_month_poll_disapproval',\n",
       "  'annual_dem',\n",
       "  'two_month_dem',\n",
       "  'annual_rep',\n",
       "  'two_month_rep']}"
      ]
     },
     "execution_count": 13,
     "metadata": {},
     "output_type": "execute_result"
    }
   ],
   "source": [
    "factor_types = {}\n",
    "\n",
    "incumb_factors = ['year', 'is_midterm_year', 'rep_pres', 'RepSeatShare_prior',\n",
    "         'RepVoteShare_prior']\n",
    "econ_factors = ['absolute_sentiment', 'sentiment_change', 'absolute_gdp', 'gdp_change',\n",
    "         'rdi', 'rdi_change']\n",
    "poll_factors = ['annual_poll_approval', 'two_month_poll_approval',\n",
    "         'annual_poll_disapproval', 'two_month_poll_disapproval', 'annual_dem',\n",
    "         'two_month_dem', 'annual_rep', 'two_month_rep']\n",
    "\n",
    "factor_types[\"Incumbent Factors\"] = incumb_factors\n",
    "factor_types[\"Economic Factors\"] = econ_factors\n",
    "factor_types[\"Polling Factors\"] = poll_factors\n",
    "\n",
    "factor_types"
   ]
  },
  {
   "cell_type": "code",
   "execution_count": 14,
   "metadata": {},
   "outputs": [],
   "source": [
    "all_infos = []\n",
    "for key in all_types_data.keys():\n",
    "\n",
    "    model_info = {}\n",
    "\n",
    "    model_info[\"types\"] = key\n",
    "\n",
    "    model_data = pd.DataFrame(all_types_data[key])\n",
    "\n",
    "    model = model_data.iloc[5][\"model\"]\n",
    "\n",
    "    cols = []\n",
    "    for k in key:\n",
    "        cols.extend(factor_types[k])\n",
    "\n",
    "    predictions = [\n",
    "    {\"seat_share\": model.estimators_[i].predict(data_2022[cols])[0][0], \n",
    "    \"vote_share\": model.estimators_[i].predict(data_2022[cols])[0][1]} \n",
    "    for i in range(len(model.estimators_))\n",
    "    ]\n",
    "\n",
    "    model_info[\"seat_share\"] = model.predict(data_2022[cols])[0][0]\n",
    "    model_info[\"seat_amt\"] = round(model.predict(data_2022[cols])[0][0]*435)\n",
    "\n",
    "    model_info[\"seat_lwr\"] = stats.norm.ppf(0.025, model.predict(data_2022[cols])[0][0], model_data.iloc[5][\"Seat Share Residual Std\"][0])\n",
    "    model_info[\"seat_upr\"] = stats.norm.ppf(0.975, model.predict(data_2022[cols])[0][0], model_data.iloc[5][\"Seat Share Residual Std\"][0])\n",
    "\n",
    "    model_info[\"seat_lwr_rf\"] = list(pd.DataFrame(predictions)[\"vote_share\"].quantile([0.025,0.975]))[0]\n",
    "    model_info[\"seat_upr_rf\"] = list(pd.DataFrame(predictions)[\"vote_share\"].quantile([0.025,0.975]))[1]\n",
    "\n",
    "    model_info[\"vote_share\"] = model.predict(data_2022[cols])[0][1]\n",
    "\n",
    "    model_info[\"vote_lwr\"] = stats.norm.ppf(0.025, model.predict(data_2022[cols])[0][0], model_data.iloc[5][\"Vote Share Residual Std\"][0])\n",
    "    model_info[\"vote_upr\"] = stats.norm.ppf(0.975, model.predict(data_2022[cols])[0][0], model_data.iloc[5][\"Vote Share Residual Std\"][0])\n",
    "\n",
    "    model_info[\"vote_lwr_rf\"] = list(pd.DataFrame(predictions)[\"vote_share\"].quantile([0.025,0.975]))[0]\n",
    "    model_info[\"vote_upr_rf\"] = list(pd.DataFrame(predictions)[\"vote_share\"].quantile([0.025,0.975]))[1]\n",
    "\n",
    "    model_info[\"seat_std\"] = model_data.iloc[5][\"Seat Share Residual Std\"][0]\n",
    "    model_info[\"vote_std\"] = model_data.iloc[5][\"Vote Share Residual Std\"][0]\n",
    "\n",
    "    all_infos.append(model_info)"
   ]
  },
  {
   "cell_type": "markdown",
   "metadata": {},
   "source": [
    "We can see that training on these different subsets of the factors leads to wildly different outcomes"
   ]
  },
  {
   "cell_type": "code",
   "execution_count": 15,
   "metadata": {},
   "outputs": [
    {
     "data": {
      "text/html": [
       "<div>\n",
       "<style scoped>\n",
       "    .dataframe tbody tr th:only-of-type {\n",
       "        vertical-align: middle;\n",
       "    }\n",
       "\n",
       "    .dataframe tbody tr th {\n",
       "        vertical-align: top;\n",
       "    }\n",
       "\n",
       "    .dataframe thead th {\n",
       "        text-align: right;\n",
       "    }\n",
       "</style>\n",
       "<table border=\"1\" class=\"dataframe\">\n",
       "  <thead>\n",
       "    <tr style=\"text-align: right;\">\n",
       "      <th></th>\n",
       "      <th>types</th>\n",
       "      <th>seat_share</th>\n",
       "      <th>seat_amt</th>\n",
       "      <th>seat_lwr</th>\n",
       "      <th>seat_upr</th>\n",
       "      <th>seat_lwr_rf</th>\n",
       "      <th>seat_upr_rf</th>\n",
       "      <th>vote_share</th>\n",
       "      <th>vote_lwr</th>\n",
       "      <th>vote_upr</th>\n",
       "      <th>vote_lwr_rf</th>\n",
       "      <th>vote_upr_rf</th>\n",
       "      <th>seat_std</th>\n",
       "      <th>vote_std</th>\n",
       "    </tr>\n",
       "  </thead>\n",
       "  <tbody>\n",
       "    <tr>\n",
       "      <th>0</th>\n",
       "      <td>(Incumbent Factors,)</td>\n",
       "      <td>0.527811</td>\n",
       "      <td>230</td>\n",
       "      <td>0.422042</td>\n",
       "      <td>0.633580</td>\n",
       "      <td>0.457170</td>\n",
       "      <td>0.535956</td>\n",
       "      <td>0.505696</td>\n",
       "      <td>0.476730</td>\n",
       "      <td>0.578892</td>\n",
       "      <td>0.457170</td>\n",
       "      <td>0.535956</td>\n",
       "      <td>0.053965</td>\n",
       "      <td>0.026062</td>\n",
       "    </tr>\n",
       "    <tr>\n",
       "      <th>1</th>\n",
       "      <td>(Economic Factors,)</td>\n",
       "      <td>0.448445</td>\n",
       "      <td>195</td>\n",
       "      <td>0.347813</td>\n",
       "      <td>0.549076</td>\n",
       "      <td>0.439036</td>\n",
       "      <td>0.534744</td>\n",
       "      <td>0.473486</td>\n",
       "      <td>0.400752</td>\n",
       "      <td>0.496138</td>\n",
       "      <td>0.439036</td>\n",
       "      <td>0.534744</td>\n",
       "      <td>0.051343</td>\n",
       "      <td>0.024334</td>\n",
       "    </tr>\n",
       "    <tr>\n",
       "      <th>2</th>\n",
       "      <td>(Polling Factors,)</td>\n",
       "      <td>0.535939</td>\n",
       "      <td>233</td>\n",
       "      <td>0.423004</td>\n",
       "      <td>0.648873</td>\n",
       "      <td>0.444394</td>\n",
       "      <td>0.535956</td>\n",
       "      <td>0.514160</td>\n",
       "      <td>0.485542</td>\n",
       "      <td>0.586336</td>\n",
       "      <td>0.444394</td>\n",
       "      <td>0.535956</td>\n",
       "      <td>0.057621</td>\n",
       "      <td>0.025713</td>\n",
       "    </tr>\n",
       "    <tr>\n",
       "      <th>3</th>\n",
       "      <td>(Incumbent Factors, Economic Factors)</td>\n",
       "      <td>0.497445</td>\n",
       "      <td>216</td>\n",
       "      <td>0.402710</td>\n",
       "      <td>0.592179</td>\n",
       "      <td>0.439036</td>\n",
       "      <td>0.535956</td>\n",
       "      <td>0.491451</td>\n",
       "      <td>0.449529</td>\n",
       "      <td>0.545360</td>\n",
       "      <td>0.439036</td>\n",
       "      <td>0.535956</td>\n",
       "      <td>0.048335</td>\n",
       "      <td>0.024447</td>\n",
       "    </tr>\n",
       "    <tr>\n",
       "      <th>4</th>\n",
       "      <td>(Incumbent Factors, Polling Factors)</td>\n",
       "      <td>0.530924</td>\n",
       "      <td>231</td>\n",
       "      <td>0.428185</td>\n",
       "      <td>0.633663</td>\n",
       "      <td>0.444394</td>\n",
       "      <td>0.535956</td>\n",
       "      <td>0.510943</td>\n",
       "      <td>0.481632</td>\n",
       "      <td>0.580216</td>\n",
       "      <td>0.444394</td>\n",
       "      <td>0.535956</td>\n",
       "      <td>0.052419</td>\n",
       "      <td>0.025150</td>\n",
       "    </tr>\n",
       "    <tr>\n",
       "      <th>5</th>\n",
       "      <td>(Economic Factors, Polling Factors)</td>\n",
       "      <td>0.510458</td>\n",
       "      <td>222</td>\n",
       "      <td>0.404343</td>\n",
       "      <td>0.616573</td>\n",
       "      <td>0.439036</td>\n",
       "      <td>0.535956</td>\n",
       "      <td>0.500649</td>\n",
       "      <td>0.461319</td>\n",
       "      <td>0.559596</td>\n",
       "      <td>0.439036</td>\n",
       "      <td>0.535956</td>\n",
       "      <td>0.054141</td>\n",
       "      <td>0.025071</td>\n",
       "    </tr>\n",
       "    <tr>\n",
       "      <th>6</th>\n",
       "      <td>(Incumbent Factors, Economic Factors, Polling ...</td>\n",
       "      <td>0.515673</td>\n",
       "      <td>224</td>\n",
       "      <td>0.417900</td>\n",
       "      <td>0.613446</td>\n",
       "      <td>0.444394</td>\n",
       "      <td>0.535956</td>\n",
       "      <td>0.503504</td>\n",
       "      <td>0.468056</td>\n",
       "      <td>0.563290</td>\n",
       "      <td>0.444394</td>\n",
       "      <td>0.535956</td>\n",
       "      <td>0.049885</td>\n",
       "      <td>0.024295</td>\n",
       "    </tr>\n",
       "  </tbody>\n",
       "</table>\n",
       "</div>"
      ],
      "text/plain": [
       "                                               types  seat_share  seat_amt  \\\n",
       "0                               (Incumbent Factors,)    0.527811       230   \n",
       "1                                (Economic Factors,)    0.448445       195   \n",
       "2                                 (Polling Factors,)    0.535939       233   \n",
       "3              (Incumbent Factors, Economic Factors)    0.497445       216   \n",
       "4               (Incumbent Factors, Polling Factors)    0.530924       231   \n",
       "5                (Economic Factors, Polling Factors)    0.510458       222   \n",
       "6  (Incumbent Factors, Economic Factors, Polling ...    0.515673       224   \n",
       "\n",
       "   seat_lwr  seat_upr  seat_lwr_rf  seat_upr_rf  vote_share  vote_lwr  \\\n",
       "0  0.422042  0.633580     0.457170     0.535956    0.505696  0.476730   \n",
       "1  0.347813  0.549076     0.439036     0.534744    0.473486  0.400752   \n",
       "2  0.423004  0.648873     0.444394     0.535956    0.514160  0.485542   \n",
       "3  0.402710  0.592179     0.439036     0.535956    0.491451  0.449529   \n",
       "4  0.428185  0.633663     0.444394     0.535956    0.510943  0.481632   \n",
       "5  0.404343  0.616573     0.439036     0.535956    0.500649  0.461319   \n",
       "6  0.417900  0.613446     0.444394     0.535956    0.503504  0.468056   \n",
       "\n",
       "   vote_upr  vote_lwr_rf  vote_upr_rf  seat_std  vote_std  \n",
       "0  0.578892     0.457170     0.535956  0.053965  0.026062  \n",
       "1  0.496138     0.439036     0.534744  0.051343  0.024334  \n",
       "2  0.586336     0.444394     0.535956  0.057621  0.025713  \n",
       "3  0.545360     0.439036     0.535956  0.048335  0.024447  \n",
       "4  0.580216     0.444394     0.535956  0.052419  0.025150  \n",
       "5  0.559596     0.439036     0.535956  0.054141  0.025071  \n",
       "6  0.563290     0.444394     0.535956  0.049885  0.024295  "
      ]
     },
     "execution_count": 15,
     "metadata": {},
     "output_type": "execute_result"
    }
   ],
   "source": [
    "pd.DataFrame(all_infos)"
   ]
  },
  {
   "cell_type": "code",
   "execution_count": 16,
   "metadata": {},
   "outputs": [
    {
     "data": {
      "image/png": "[encoded data removed]",
      "text/plain": [
       "<Figure size 432x288 with 1 Axes>"
      ]
     },
     "metadata": {},
     "output_type": "display_data"
    }
   ],
   "source": [
    "venn3(subsets = (230, 195, 216, 233, 231, 222, 224), set_labels = ('Incumbency', 'Economy', 'Polling'))\n",
    "plt.title(\"Seat Share Predictions by Factor Type\")\n",
    "plt.show()"
   ]
  },
  {
   "cell_type": "code",
   "execution_count": 17,
   "metadata": {},
   "outputs": [
    {
     "data": {
      "image/png": "[encoded data removed]",
      "text/plain": [
       "<Figure size 432x288 with 1 Axes>"
      ]
     },
     "metadata": {},
     "output_type": "display_data"
    }
   ],
   "source": [
    "venn3(subsets = (50.6, 47.3, 49.1, 51.4, 51.1, 50.1, 50.4), set_labels = ('Incumbency', 'Economy', 'Polling'))\n",
    "plt.title(\"Vote Share Predictions by Factor Type\")\n",
    "plt.show()"
   ]
  },
  {
   "cell_type": "markdown",
   "metadata": {},
   "source": [
    "From this information, we see that roughly that polling was the most predictive of a Republican victory, incumbency favored the Republicans, but only slightly, and the economy favored the Democrats (with the largest magnitude)."
   ]
  },
  {
   "cell_type": "markdown",
   "metadata": {},
   "source": [
    "It is unclear exactly why each of these variables has the effect. However, I do have some hyptheses:\n",
    "\n",
    "* Polling:\n",
    "    - My polling only includes two types: generic ballot and presidential approval. Both of these factors favored Republicans. My point estimate of the generic ballot gave Republicans a 50.6\\% compared to 49.4\\% for the Democrats (although I gave my model more generic ballot data). Therefore, an intuitive result for why my model gave a 51.4\\% to Republicans is due to adjusting that 50.6\\% number more in favor of Republicans due to low presidential approval polling.\n",
    "\n",
    "* Incumbency:\n",
    "    - Republicans are slightly favored due to the being a midterm year not in the president's party. However, the inclusion of the \"year\" term has a high weight towards the Democrats, given their success in 2020 and 2018. WHen I conducted LASSO regression, the only two important terms were \"year\" and \"consumer sentiment\". The large potential weight given to year would act to moderate the typical midterm year advantage for Republicans.\n",
    "\n",
    "* Economy:\n",
    "    - This factor not only favors Democrats, but favors them more than either polling or incumbency favors Republicans. This is the least clear explanation for me, although I will posit two possible. The first is that Democrats do well in bad economies. The second is that the recent directionality has improved in the past few months, allowing people to forgive the democrats.\n",
    "    - Upon analysis here, I found a data error which likely will change my results drastically: I had incorrectly coded the 2022 RDI change estimate as absolute RDI (44K) instead of the annual change (~-0.2). This probably caused all the positive results incorrectly. Luckily due to the non-linearity of the random forest model, this far outlier was somewhat masked. Unfortunately, this also meant it was harder to catch (until this very moment.)"
   ]
  },
  {
   "cell_type": "markdown",
   "metadata": {},
   "source": [
    "## Hypothesis Testing"
   ]
  },
  {
   "cell_type": "markdown",
   "metadata": {},
   "source": [
    "* Polling\n",
    "    - I would like to run predictions with just the generic ballot and then just the presidential approval, doing a similar venn diagram (this time with two circles). If the two results were somewhat additive (e.g. ballot 225, presidential 224, combined 230), this would provide evidence that together they strengthend confidence in a R lean.\n",
    "* Incumbency\n",
    "    - Likewise, a 3 way venn diagram with year, midterm year, and prior seat/vote share would highlight which was the most important. If my theory were correct, \"year\" would act as a moderating influence on midterm + prior values, bringing the value closer in line with Democrats.\n",
    "* Economy\n",
    "    - For economy, I would perform a different analysis. I would instead seek to find the economic values which would make the prediction most correct. This hypothesis would test whether the underlying economic data misrepresented the overall economic sentiment. If the test found that the \"correct\" economic inputs were close to the measured values, then this would provide evidence of a potential ecnomic measurement error. In my training data, I used values from the \"future\" (I used October data, which was unavailable at prediction time), and this would provide evidence of mismeasurement. If, however, the \"correct\" economic data was a large distance from the measured values, perhaps this would show that economic sentiment is a noisy predictor/voter behavior is explained by other factors (e.g. election denialism)."
   ]
  },
  {
   "cell_type": "markdown",
   "metadata": {},
   "source": [
    "## Model Changes"
   ]
  },
  {
   "cell_type": "markdown",
   "metadata": {},
   "source": [
    "If I were to change my model, the main ways I would change it are:\n",
    "\n",
    "1. District level model\n",
    "    - I did not use a district level model because my out of sample error was consistently larger than 538's model, leading me to assume that 538's model is a gold standard. However, the creation of a district level model would allow me to get greater degrees of regional insight into where the model failed, and thus would be easier to analyze, even if it was more inaccurate. Furthermore, I would like to take a look at creating a neural district similarity to replace 538's \"CANTOR\". 538 doesn't explain exactly how CANTOR is constructed, but I think borrowing from the latest approaches in machine learning to create an autoencoder (which learns a district representation) to then use that in the similarity for missing data, could potentially lead to better results. \n",
    "2. District level contribution data\n",
    "    - Likewise, the second improvement over 538 would be to use district-level contribution data. 538 found that in-state contributions were more predictive than national contributions, and I believe this trend would hold. I created an initial approximation of this by mapping contributions to ZIP Codes, and ZIP Codes to Districts, but I believe that my method had some error (due to API limits), and reducing this measurement error would make the model more predictive.\n",
    "3. (Bonus) Fixing RDI data\n",
    "    - As explained, my 2022 RDI data was off by a magnitude of 400000x, which likely caused an incorrect reading of the economy. This is my plug to encourage double and triple checking models, which can be very difficult when there are so many places to go wrong. Importantly, I think running checks before publishing (e.g. breaking down by variable type and seeing if they make sense) can help catch these before, and therefore, I would modify my procedure to formalize some of those steps."
   ]
  },
  {
   "cell_type": "markdown",
   "metadata": {},
   "source": []
  }
 ],
 "metadata": {
  "kernelspec": {
   "display_name": "Python 3.8.3 ('base')",
   "language": "python",
   "name": "python3"
  },
  "language_info": {
   "codemirror_mode": {
    "name": "ipython",
    "version": 3
   },
   "file_extension": ".py",
   "mimetype": "text/x-python",
   "name": "python",
   "nbconvert_exporter": "python",
   "pygments_lexer": "ipython3",
   "version": "3.8.3"
  },
  "orig_nbformat": 4,
  "vscode": {
   "interpreter": {
    "hash": "b13879c2d891711983f0da077d4880d94e0fe9173c7d4378500243605826888e"
   }
  }
 },
 "nbformat": 4,
 "nbformat_minor": 2
}
