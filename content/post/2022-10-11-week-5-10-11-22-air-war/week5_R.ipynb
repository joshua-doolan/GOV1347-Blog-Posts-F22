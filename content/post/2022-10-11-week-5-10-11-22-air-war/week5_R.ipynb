{
 "cells": [
  {
   "cell_type": "code",
   "execution_count": 1,
   "metadata": {
    "vscode": {
     "languageId": "r"
    }
   },
   "outputs": [
    {
     "name": "stderr",
     "output_type": "stream",
     "text": [
      "-- \u001b[1mAttaching packages\u001b[22m --------------------------------------- tidyverse 1.3.2 --\n",
      "\u001b[32mv\u001b[39m \u001b[34mggplot2\u001b[39m 3.3.6      \u001b[32mv\u001b[39m \u001b[34mpurrr  \u001b[39m 0.3.4 \n",
      "\u001b[32mv\u001b[39m \u001b[34mtibble \u001b[39m 3.1.8      \u001b[32mv\u001b[39m \u001b[34mdplyr  \u001b[39m 1.0.10\n",
      "\u001b[32mv\u001b[39m \u001b[34mtidyr  \u001b[39m 1.2.1      \u001b[32mv\u001b[39m \u001b[34mstringr\u001b[39m 1.4.1 \n",
      "\u001b[32mv\u001b[39m \u001b[34mreadr  \u001b[39m 2.1.2      \u001b[32mv\u001b[39m \u001b[34mforcats\u001b[39m 0.5.2 \n",
      "-- \u001b[1mConflicts\u001b[22m ------------------------------------------ tidyverse_conflicts() --\n",
      "\u001b[31mx\u001b[39m \u001b[34mdplyr\u001b[39m::\u001b[32mfilter()\u001b[39m masks \u001b[34mstats\u001b[39m::filter()\n",
      "\u001b[31mx\u001b[39m \u001b[34mdplyr\u001b[39m::\u001b[32mlag()\u001b[39m    masks \u001b[34mstats\u001b[39m::lag()\n"
     ]
    }
   ],
   "source": [
    "library(\"tidyverse\")"
   ]
  },
  {
   "cell_type": "code",
   "execution_count": 2,
   "metadata": {
    "vscode": {
     "languageId": "r"
    }
   },
   "outputs": [
    {
     "name": "stderr",
     "output_type": "stream",
     "text": [
      "\u001b[1mRows: \u001b[22m\u001b[34m909\u001b[39m \u001b[1mColumns: \u001b[22m\u001b[34m9\u001b[39m\n",
      "\u001b[36m--\u001b[39m \u001b[1mColumn specification\u001b[22m \u001b[36m--------------------------------------------------------\u001b[39m\n",
      "\u001b[1mDelimiter:\u001b[22m \",\"\n",
      "\u001b[31mchr\u001b[39m (1): State\n",
      "\u001b[32mdbl\u001b[39m (6): year, district_num, avg_rating, RepVotesMajorPercent, Rep Spend Adv...\n",
      "\u001b[33mlgl\u001b[39m (2): Rep Inc, Dem Inc\n",
      "\n",
      "\u001b[36mi\u001b[39m Use `spec()` to retrieve the full column specification for this data.\n",
      "\u001b[36mi\u001b[39m Specify the column types or set `show_col_types = FALSE` to quiet this message.\n"
     ]
    }
   ],
   "source": [
    "ads_races = read_csv(\"Section data/train_ads.csv\")"
   ]
  },
  {
   "cell_type": "code",
   "execution_count": 3,
   "metadata": {
    "vscode": {
     "languageId": "r"
    }
   },
   "outputs": [
    {
     "data": {
      "text/plain": [
       "\n",
       "Call:\n",
       "lm(formula = RepVotesMajorPercent ~ avg_rating + `Rep Inc` + \n",
       "    `Dem Inc`, data = ads_races)\n",
       "\n",
       "Residuals:\n",
       "     Min       1Q   Median       3Q      Max \n",
       "-18.0718  -1.8850  -0.0592   1.9611  13.4690 \n",
       "\n",
       "Coefficients:\n",
       "              Estimate Std. Error t value Pr(>|t|)    \n",
       "(Intercept)   37.15187    0.40276  92.244  < 2e-16 ***\n",
       "avg_rating     3.33350    0.07896  42.220  < 2e-16 ***\n",
       "`Rep Inc`TRUE -0.95869    0.27661  -3.466 0.000553 ***\n",
       "`Dem Inc`TRUE  1.08018    0.30461   3.546 0.000411 ***\n",
       "---\n",
       "Signif. codes:  0 '***' 0.001 '**' 0.01 '*' 0.05 '.' 0.1 ' ' 1\n",
       "\n",
       "Residual standard error: 3.123 on 905 degrees of freedom\n",
       "Multiple R-squared:  0.7186,\tAdjusted R-squared:  0.7177 \n",
       "F-statistic: 770.4 on 3 and 905 DF,  p-value: < 2.2e-16\n"
      ]
     },
     "metadata": {},
     "output_type": "display_data"
    }
   ],
   "source": [
    "rating_lm = lm(RepVotesMajorPercent ~ avg_rating + `Rep Inc` + `Dem Inc`,data=ads_races)\n",
    "summary(rating_lm)"
   ]
  },
  {
   "cell_type": "code",
   "execution_count": 4,
   "metadata": {
    "vscode": {
     "languageId": "r"
    }
   },
   "outputs": [
    {
     "data": {
      "text/plain": [
       "\n",
       "Call:\n",
       "lm(formula = RepVotesMajorPercent ~ avg_rating + `Rep Inc` + \n",
       "    `Dem Inc` + `Rep Spend Advantage`, data = ads_races)\n",
       "\n",
       "Residuals:\n",
       "     Min       1Q   Median       3Q      Max \n",
       "-17.1774  -1.8662  -0.0107   1.8217  11.6636 \n",
       "\n",
       "Coefficients:\n",
       "                        Estimate Std. Error t value Pr(>|t|)    \n",
       "(Intercept)            3.702e+01  4.694e-01  78.875   <2e-16 ***\n",
       "avg_rating             3.295e+00  9.450e-02  34.867   <2e-16 ***\n",
       "`Rep Inc`TRUE         -6.939e-01  3.102e-01  -2.237   0.0256 *  \n",
       "`Dem Inc`TRUE          3.720e-01  3.835e-01   0.970   0.3323    \n",
       "`Rep Spend Advantage`  2.016e-08  4.181e-08   0.482   0.6298    \n",
       "---\n",
       "Signif. codes:  0 '***' 0.001 '**' 0.01 '*' 0.05 '.' 0.1 ' ' 1\n",
       "\n",
       "Residual standard error: 3.099 on 638 degrees of freedom\n",
       "  (266 observations deleted due to missingness)\n",
       "Multiple R-squared:  0.7219,\tAdjusted R-squared:  0.7201 \n",
       "F-statistic:   414 on 4 and 638 DF,  p-value: < 2.2e-16\n"
      ]
     },
     "metadata": {},
     "output_type": "display_data"
    }
   ],
   "source": [
    "ads_lm = lm(RepVotesMajorPercent ~ avg_rating + `Rep Inc` + `Dem Inc` + `Rep Spend Advantage`,data=ads_races)\n",
    "summary(ads_lm)"
   ]
  },
  {
   "cell_type": "code",
   "execution_count": 5,
   "metadata": {
    "vscode": {
     "languageId": "r"
    }
   },
   "outputs": [
    {
     "data": {
      "text/plain": [
       "\n",
       "Call:\n",
       "lm(formula = RepVotesMajorPercent ~ avg_rating + `Rep Inc` + \n",
       "    `Dem Inc` + `Rep Spend Proportion`, data = ads_races)\n",
       "\n",
       "Residuals:\n",
       "     Min       1Q   Median       3Q      Max \n",
       "-17.1972  -1.8844   0.0055   1.8481  11.6736 \n",
       "\n",
       "Coefficients:\n",
       "                       Estimate Std. Error t value Pr(>|t|)    \n",
       "(Intercept)            36.99825    0.46840  78.988   <2e-16 ***\n",
       "avg_rating              3.29920    0.09441  34.944   <2e-16 ***\n",
       "`Rep Inc`TRUE          -0.69551    0.31020  -2.242   0.0253 *  \n",
       "`Dem Inc`TRUE           0.37699    0.38337   0.983   0.3258    \n",
       "`Rep Spend Proportion` -0.02139    0.12266  -0.174   0.8616    \n",
       "---\n",
       "Signif. codes:  0 '***' 0.001 '**' 0.01 '*' 0.05 '.' 0.1 ' ' 1\n",
       "\n",
       "Residual standard error: 3.1 on 638 degrees of freedom\n",
       "  (266 observations deleted due to missingness)\n",
       "Multiple R-squared:  0.7218,\tAdjusted R-squared:   0.72 \n",
       "F-statistic: 413.8 on 4 and 638 DF,  p-value: < 2.2e-16\n"
      ]
     },
     "metadata": {},
     "output_type": "display_data"
    }
   ],
   "source": [
    "ads_prop = lm(RepVotesMajorPercent ~ avg_rating + `Rep Inc` + `Dem Inc` + `Rep Spend Proportion`,data=ads_races)\n",
    "summary(ads_prop)"
   ]
  },
  {
   "cell_type": "code",
   "execution_count": null,
   "metadata": {
    "vscode": {
     "languageId": "r"
    }
   },
   "outputs": [],
   "source": []
  }
 ],
 "metadata": {
  "kernelspec": {
   "display_name": "R",
   "language": "R",
   "name": "ir"
  },
  "language_info": {
   "codemirror_mode": "r",
   "file_extension": ".r",
   "mimetype": "text/x-r-source",
   "name": "R",
   "pygments_lexer": "r",
   "version": "4.2.1"
  },
  "orig_nbformat": 4
 },
 "nbformat": 4,
 "nbformat_minor": 2
}
